{
 "cells": [
  {
   "cell_type": "markdown",
   "id": "e7e12913",
   "metadata": {},
   "source": [
    "##### Student information:\n",
    "- Name: Tuan Anh NGUYEN\n",
    "- Email: tuan.nguyen@etu.univ-cotedazur.fr\n",
    "\n",
    "---"
   ]
  },
  {
   "cell_type": "markdown",
   "id": "a90ba1b0-4e69-490d-90ec-a52a682f7a42",
   "metadata": {},
   "source": [
    "# Spotify project\n",
    "\n",
    "The data this week comes from Spotify via the [`spotifyr` package](https://www.rcharlie.com/spotifyr/). [Charlie Thompson](https://twitter.com/_RCharlie), [Josiah Parry](https://twitter.com/JosiahParry), Donal Phipps, and Tom Wolff authored this package to make it easier to get either your own data or general metadata arounds songs from Spotify's API.\n",
    "\n",
    "## Data description\n",
    "\n",
    "|variable                 |class     |description |\n",
    "|:---|:---|:-----------|\n",
    "|track_id                 |character | Song unique ID|\n",
    "|track_name               |character | Song Name|\n",
    "|track_artist             |character | Song Artist|\n",
    "|track_popularity         |double    | Song Popularity (0-100) where higher is better |\n",
    "|track_album_id           |character | Album unique ID|\n",
    "|track_album_name         |character | Song album name |\n",
    "|track_album_release_date |character | Date when album released |\n",
    "|playlist_name            |character | Name of playlist |\n",
    "|playlist_id              |character | Playlist ID|\n",
    "|playlist_genre           |character | Playlist genre |\n",
    "|playlist_subgenre        |character | Playlist subgenre|\n",
    "|danceability             |double    | Danceability describes how suitable a track is for dancing based on a combination of musical elements including tempo, rhythm stability, beat strength, and overall regularity. A value of 0.0 is least danceable and 1.0 is most danceable. |\n",
    "|energy                   |double    | Energy is a measure from 0.0 to 1.0 and represents a perceptual measure of intensity and activity. Typically, energetic tracks feel fast, loud, and noisy. For example, death metal has high energy, while a Bach prelude scores low on the scale. Perceptual features contributing to this attribute include dynamic range, perceived loudness, timbre, onset rate, and general entropy. |\n",
    "|key                      |double    | The estimated overall key of the track. Integers map to pitches using standard Pitch Class notation . E.g. 0 = C, 1 = C♯/D♭, 2 = D, and so on. If no key was detected, the value is -1. |\n",
    "|loudness                 |double    | The overall loudness of a track in decibels (dB). Loudness values are averaged across the entire track and are useful for comparing relative loudness of tracks. Loudness is the quality of a sound that is the primary psychological correlate of physical strength (amplitude). Values typical range between -60 and 0 db.|\n",
    "|mode                     |double    | Mode indicates the modality (major or minor) of a track, the type of scale from which its melodic content is derived. Major is represented by 1 and minor is 0.|\n",
    "|speechiness              |double    | Speechiness detects the presence of spoken words in a track. The more exclusively speech-like the recording (e.g. talk show, audio book, poetry), the closer to 1.0 the attribute value. Values above 0.66 describe tracks that are probably made entirely of spoken words. Values between 0.33 and 0.66 describe tracks that may contain both music and speech, either in sections or layered, including such cases as rap music. Values below 0.33 most likely represent music and other non-speech-like tracks. |\n",
    "|acousticness             |double    | A confidence measure from 0.0 to 1.0 of whether the track is acoustic. 1.0 represents high confidence the track is acoustic.|\n",
    "|instrumentalness         |double    | Predicts whether a track contains no vocals. \"Ooh\" and \"aah\" sounds are treated as instrumental in this context. Rap or spoken word tracks are clearly \"vocal\". The closer the instrumentalness value is to 1.0, the greater likelihood the track contains no vocal content. Values above 0.5 are intended to represent instrumental tracks, but confidence is higher as the value approaches 1.0. |\n",
    "|liveness                 |double    | Detects the presence of an audience in the recording. Higher liveness values represent an increased probability that the track was performed live. A value above 0.8 provides strong likelihood that the track is live. |\n",
    "|valence                  |double    | A measure from 0.0 to 1.0 describing the musical positiveness conveyed by a track. Tracks with high valence sound more positive (e.g. happy, cheerful, euphoric), while tracks with low valence sound more negative (e.g. sad, depressed, angry). |\n",
    "|tempo                    |double    | The overall estimated tempo of a track in beats per minute (BPM). In musical terminology, tempo is the speed or pace of a given piece and derives directly from the average beat duration. |\n",
    "|duration_ms              |double    | Duration of song in milliseconds |\n"
   ]
  },
  {
   "cell_type": "markdown",
   "id": "37f78f04-81b7-4fd0-a31b-515ac78e1419",
   "metadata": {},
   "source": [
    "## Imports"
   ]
  },
  {
   "cell_type": "code",
   "execution_count": 214,
   "id": "d8bc2a85-3fec-4daf-86b8-7a399822db09",
   "metadata": {},
   "outputs": [],
   "source": [
    "import numpy as np\n",
    "import pandas as pd\n",
    "import matplotlib.pyplot as plt\n",
    "import seaborn as sns\n",
    "\n",
    "from sklearn.model_selection import train_test_split, RandomizedSearchCV, GridSearchCV\n",
    "from sklearn.preprocessing import OneHotEncoder, LabelEncoder, MinMaxScaler, StandardScaler, PolynomialFeatures, OrdinalEncoder\n",
    "from sklearn.pipeline import make_pipeline, Pipeline\n",
    "from sklearn.base import BaseEstimator, TransformerMixin\n",
    "from sklearn.compose import ColumnTransformer\n",
    "from sklearn.impute import SimpleImputer\n",
    "from sklearn.decomposition import PCA\n",
    "\n",
    "import keras_tuner as kt\n",
    "import tensorflow as tf\n",
    "from tensorflow import keras"
   ]
  },
  {
   "cell_type": "markdown",
   "id": "a2bec6f7-d2d9-4818-8ce7-8344452f266d",
   "metadata": {},
   "source": [
    "## Data loading"
   ]
  },
  {
   "cell_type": "code",
   "execution_count": 215,
   "id": "75e02919-7053-44f9-99d4-a959d3dac591",
   "metadata": {},
   "outputs": [
    {
     "data": {
      "text/html": [
       "<div>\n",
       "<style scoped>\n",
       "    .dataframe tbody tr th:only-of-type {\n",
       "        vertical-align: middle;\n",
       "    }\n",
       "\n",
       "    .dataframe tbody tr th {\n",
       "        vertical-align: top;\n",
       "    }\n",
       "\n",
       "    .dataframe thead th {\n",
       "        text-align: right;\n",
       "    }\n",
       "</style>\n",
       "<table border=\"1\" class=\"dataframe\">\n",
       "  <thead>\n",
       "    <tr style=\"text-align: right;\">\n",
       "      <th></th>\n",
       "      <th>Unnamed: 0</th>\n",
       "      <th>track_id</th>\n",
       "      <th>track_name</th>\n",
       "      <th>track_artist</th>\n",
       "      <th>track_popularity</th>\n",
       "      <th>track_album_id</th>\n",
       "      <th>track_album_name</th>\n",
       "      <th>track_album_release_date</th>\n",
       "      <th>playlist_name</th>\n",
       "      <th>playlist_id</th>\n",
       "      <th>...</th>\n",
       "      <th>key</th>\n",
       "      <th>loudness</th>\n",
       "      <th>mode</th>\n",
       "      <th>speechiness</th>\n",
       "      <th>acousticness</th>\n",
       "      <th>instrumentalness</th>\n",
       "      <th>liveness</th>\n",
       "      <th>valence</th>\n",
       "      <th>tempo</th>\n",
       "      <th>duration_ms</th>\n",
       "    </tr>\n",
       "  </thead>\n",
       "  <tbody>\n",
       "    <tr>\n",
       "      <th>0</th>\n",
       "      <td>21973</td>\n",
       "      <td>0Xw5Jg9aFglPqfH163thrA</td>\n",
       "      <td>Tell Me</td>\n",
       "      <td>Krept &amp; Konan</td>\n",
       "      <td>40</td>\n",
       "      <td>2p93gdjjBJo51WF4YV3L3d</td>\n",
       "      <td>Tell Me</td>\n",
       "      <td>2019-10-31</td>\n",
       "      <td>Chixtape 5 - Tory Lanez</td>\n",
       "      <td>0UXwwVDipbBQeEX7h4YuKU</td>\n",
       "      <td>...</td>\n",
       "      <td>1</td>\n",
       "      <td>-5.760</td>\n",
       "      <td>0</td>\n",
       "      <td>0.3860</td>\n",
       "      <td>0.1360</td>\n",
       "      <td>0.000</td>\n",
       "      <td>0.0890</td>\n",
       "      <td>0.633</td>\n",
       "      <td>163.563</td>\n",
       "      <td>215047</td>\n",
       "    </tr>\n",
       "    <tr>\n",
       "      <th>1</th>\n",
       "      <td>16980</td>\n",
       "      <td>5A1ttHJNuGEoPLhhoHpzFA</td>\n",
       "      <td>Pearls</td>\n",
       "      <td>Epifania</td>\n",
       "      <td>40</td>\n",
       "      <td>0H7yNFgaPSzmji4ts1s3EN</td>\n",
       "      <td>Gems from Japan, Vol II</td>\n",
       "      <td>2019-07-09</td>\n",
       "      <td>Sunny Beats</td>\n",
       "      <td>37i9dQZF1DXbtuVQL4zoey</td>\n",
       "      <td>...</td>\n",
       "      <td>0</td>\n",
       "      <td>-7.782</td>\n",
       "      <td>0</td>\n",
       "      <td>0.4530</td>\n",
       "      <td>0.3880</td>\n",
       "      <td>0.647</td>\n",
       "      <td>0.0799</td>\n",
       "      <td>0.677</td>\n",
       "      <td>85.054</td>\n",
       "      <td>83294</td>\n",
       "    </tr>\n",
       "    <tr>\n",
       "      <th>2</th>\n",
       "      <td>18464</td>\n",
       "      <td>3QHMxEOAGD51PDlbFPHLyJ</td>\n",
       "      <td>Vivir Mi Vida</td>\n",
       "      <td>Marc Anthony</td>\n",
       "      <td>75</td>\n",
       "      <td>6vBpLg3T8bojcqzoKI6m0R</td>\n",
       "      <td>3.0</td>\n",
       "      <td>2013-07-23</td>\n",
       "      <td>Fiesta Latina Mix 🎈🎉💃🏻🕺🏻☀️🏖</td>\n",
       "      <td>2kY6lVc5EcVfI5WNKmPQQG</td>\n",
       "      <td>...</td>\n",
       "      <td>0</td>\n",
       "      <td>-3.230</td>\n",
       "      <td>0</td>\n",
       "      <td>0.0344</td>\n",
       "      <td>0.3440</td>\n",
       "      <td>0.000</td>\n",
       "      <td>0.3490</td>\n",
       "      <td>0.893</td>\n",
       "      <td>105.017</td>\n",
       "      <td>252347</td>\n",
       "    </tr>\n",
       "    <tr>\n",
       "      <th>3</th>\n",
       "      <td>2992</td>\n",
       "      <td>48bSfSZaq9Aizbu4AWn4st</td>\n",
       "      <td>Febreze (feat. 2 Chainz)</td>\n",
       "      <td>Jack Ü</td>\n",
       "      <td>57</td>\n",
       "      <td>6bfkwBrGYKJFk6Z4QVyjxd</td>\n",
       "      <td>Skrillex and Diplo present Jack Ü</td>\n",
       "      <td>2015-02-24</td>\n",
       "      <td>ELECTROPOP🐹</td>\n",
       "      <td>44p8nNLe4fGfUeArS3MaIX</td>\n",
       "      <td>...</td>\n",
       "      <td>2</td>\n",
       "      <td>-3.510</td>\n",
       "      <td>1</td>\n",
       "      <td>0.3330</td>\n",
       "      <td>0.0184</td>\n",
       "      <td>0.000</td>\n",
       "      <td>0.2890</td>\n",
       "      <td>0.263</td>\n",
       "      <td>149.829</td>\n",
       "      <td>214400</td>\n",
       "    </tr>\n",
       "    <tr>\n",
       "      <th>4</th>\n",
       "      <td>16751</td>\n",
       "      <td>2kJIiIqbzYVtv2iTpbQts9</td>\n",
       "      <td>As Far as Feelings Go</td>\n",
       "      <td>Alle Farben</td>\n",
       "      <td>66</td>\n",
       "      <td>7wN2FvcizhjkzuT3MvAGZI</td>\n",
       "      <td>As Far as Feelings Go</td>\n",
       "      <td>2019-10-11</td>\n",
       "      <td>Tropical House 🏝 2020 Hits</td>\n",
       "      <td>2SRbIs0eBQwHeTP7kErjwo</td>\n",
       "      <td>...</td>\n",
       "      <td>0</td>\n",
       "      <td>-4.399</td>\n",
       "      <td>0</td>\n",
       "      <td>0.0788</td>\n",
       "      <td>0.1060</td>\n",
       "      <td>0.000</td>\n",
       "      <td>0.1910</td>\n",
       "      <td>0.596</td>\n",
       "      <td>105.948</td>\n",
       "      <td>210827</td>\n",
       "    </tr>\n",
       "  </tbody>\n",
       "</table>\n",
       "<p>5 rows × 24 columns</p>\n",
       "</div>"
      ],
      "text/plain": [
       "   Unnamed: 0                track_id                track_name  \\\n",
       "0       21973  0Xw5Jg9aFglPqfH163thrA                   Tell Me   \n",
       "1       16980  5A1ttHJNuGEoPLhhoHpzFA                    Pearls   \n",
       "2       18464  3QHMxEOAGD51PDlbFPHLyJ             Vivir Mi Vida   \n",
       "3        2992  48bSfSZaq9Aizbu4AWn4st  Febreze (feat. 2 Chainz)   \n",
       "4       16751  2kJIiIqbzYVtv2iTpbQts9     As Far as Feelings Go   \n",
       "\n",
       "    track_artist  track_popularity          track_album_id  \\\n",
       "0  Krept & Konan                40  2p93gdjjBJo51WF4YV3L3d   \n",
       "1       Epifania                40  0H7yNFgaPSzmji4ts1s3EN   \n",
       "2   Marc Anthony                75  6vBpLg3T8bojcqzoKI6m0R   \n",
       "3         Jack Ü                57  6bfkwBrGYKJFk6Z4QVyjxd   \n",
       "4    Alle Farben                66  7wN2FvcizhjkzuT3MvAGZI   \n",
       "\n",
       "                    track_album_name track_album_release_date  \\\n",
       "0                            Tell Me               2019-10-31   \n",
       "1            Gems from Japan, Vol II               2019-07-09   \n",
       "2                                3.0               2013-07-23   \n",
       "3  Skrillex and Diplo present Jack Ü               2015-02-24   \n",
       "4              As Far as Feelings Go               2019-10-11   \n",
       "\n",
       "                 playlist_name             playlist_id  ... key loudness  \\\n",
       "0      Chixtape 5 - Tory Lanez  0UXwwVDipbBQeEX7h4YuKU  ...   1   -5.760   \n",
       "1                  Sunny Beats  37i9dQZF1DXbtuVQL4zoey  ...   0   -7.782   \n",
       "2  Fiesta Latina Mix 🎈🎉💃🏻🕺🏻☀️🏖  2kY6lVc5EcVfI5WNKmPQQG  ...   0   -3.230   \n",
       "3                  ELECTROPOP🐹  44p8nNLe4fGfUeArS3MaIX  ...   2   -3.510   \n",
       "4   Tropical House 🏝 2020 Hits  2SRbIs0eBQwHeTP7kErjwo  ...   0   -4.399   \n",
       "\n",
       "   mode  speechiness  acousticness  instrumentalness  liveness  valence  \\\n",
       "0     0       0.3860        0.1360             0.000    0.0890    0.633   \n",
       "1     0       0.4530        0.3880             0.647    0.0799    0.677   \n",
       "2     0       0.0344        0.3440             0.000    0.3490    0.893   \n",
       "3     1       0.3330        0.0184             0.000    0.2890    0.263   \n",
       "4     0       0.0788        0.1060             0.000    0.1910    0.596   \n",
       "\n",
       "     tempo  duration_ms  \n",
       "0  163.563       215047  \n",
       "1   85.054        83294  \n",
       "2  105.017       252347  \n",
       "3  149.829       214400  \n",
       "4  105.948       210827  \n",
       "\n",
       "[5 rows x 24 columns]"
      ]
     },
     "execution_count": 215,
     "metadata": {},
     "output_type": "execute_result"
    }
   ],
   "source": [
    "TRAIN = pd.read_csv(\"spotify_songs_train.csv\")\n",
    "TRAIN.head()\n",
    "# TRAIN.info()\n",
    "# print(\"Shape\", TRAIN.shape)\n",
    "# TRAIN.describe()"
   ]
  },
  {
   "cell_type": "code",
   "execution_count": 216,
   "id": "6a54ba78-f051-44f6-8211-4acb9f3913a6",
   "metadata": {},
   "outputs": [
    {
     "data": {
      "text/html": [
       "<div>\n",
       "<style scoped>\n",
       "    .dataframe tbody tr th:only-of-type {\n",
       "        vertical-align: middle;\n",
       "    }\n",
       "\n",
       "    .dataframe tbody tr th {\n",
       "        vertical-align: top;\n",
       "    }\n",
       "\n",
       "    .dataframe thead th {\n",
       "        text-align: right;\n",
       "    }\n",
       "</style>\n",
       "<table border=\"1\" class=\"dataframe\">\n",
       "  <thead>\n",
       "    <tr style=\"text-align: right;\">\n",
       "      <th></th>\n",
       "      <th>Unnamed: 0</th>\n",
       "      <th>track_id</th>\n",
       "      <th>track_name</th>\n",
       "      <th>track_artist</th>\n",
       "      <th>track_album_id</th>\n",
       "      <th>track_album_name</th>\n",
       "      <th>track_album_release_date</th>\n",
       "      <th>playlist_name</th>\n",
       "      <th>playlist_id</th>\n",
       "      <th>playlist_genre</th>\n",
       "      <th>...</th>\n",
       "      <th>key</th>\n",
       "      <th>loudness</th>\n",
       "      <th>mode</th>\n",
       "      <th>speechiness</th>\n",
       "      <th>acousticness</th>\n",
       "      <th>instrumentalness</th>\n",
       "      <th>liveness</th>\n",
       "      <th>valence</th>\n",
       "      <th>tempo</th>\n",
       "      <th>duration_ms</th>\n",
       "    </tr>\n",
       "  </thead>\n",
       "  <tbody>\n",
       "    <tr>\n",
       "      <th>0</th>\n",
       "      <td>3578</td>\n",
       "      <td>0u6CqsKqlArqFuMVKREXp9</td>\n",
       "      <td>Never Can Say Goodbye</td>\n",
       "      <td>The Communards</td>\n",
       "      <td>5JYaoYQ7d8twJ2gp6kPt6C</td>\n",
       "      <td>Red</td>\n",
       "      <td>1987</td>\n",
       "      <td>80's Songs | Top 💯 80s Music Hits</td>\n",
       "      <td>65HtIbyFkaQPflCa4oW8KO</td>\n",
       "      <td>pop</td>\n",
       "      <td>...</td>\n",
       "      <td>5</td>\n",
       "      <td>-6.931</td>\n",
       "      <td>1</td>\n",
       "      <td>0.0287</td>\n",
       "      <td>0.04340</td>\n",
       "      <td>0.027300</td>\n",
       "      <td>0.2860</td>\n",
       "      <td>0.836</td>\n",
       "      <td>132.172</td>\n",
       "      <td>285986</td>\n",
       "    </tr>\n",
       "    <tr>\n",
       "      <th>1</th>\n",
       "      <td>26568</td>\n",
       "      <td>5IXV375WDokSNjZfR4GgnU</td>\n",
       "      <td>Love Is The Answer</td>\n",
       "      <td>Aloe Blacc</td>\n",
       "      <td>14JRI2yc9nKosojndoQxTv</td>\n",
       "      <td>Lift Your Spirit</td>\n",
       "      <td>2014-01-01</td>\n",
       "      <td>Soul Coffee (The Best Neo-Soul Mixtape ever)</td>\n",
       "      <td>16iNEskDatG5KbDV16F6LR</td>\n",
       "      <td>r&amp;b</td>\n",
       "      <td>...</td>\n",
       "      <td>9</td>\n",
       "      <td>-5.728</td>\n",
       "      <td>0</td>\n",
       "      <td>0.0863</td>\n",
       "      <td>0.03340</td>\n",
       "      <td>0.000000</td>\n",
       "      <td>0.0776</td>\n",
       "      <td>0.816</td>\n",
       "      <td>105.232</td>\n",
       "      <td>224867</td>\n",
       "    </tr>\n",
       "    <tr>\n",
       "      <th>2</th>\n",
       "      <td>14306</td>\n",
       "      <td>0sId1fkKRfPlyMMOSVShng</td>\n",
       "      <td>What's on Your Mind (Pure Energy)</td>\n",
       "      <td>Information Society</td>\n",
       "      <td>3bv0NUg3BXwT5Uh4PW4zUD</td>\n",
       "      <td>Information Society</td>\n",
       "      <td>1988-06-21</td>\n",
       "      <td>Permanent Wave CHDB</td>\n",
       "      <td>2foj4ZYVHRGqSd1aMqNPBj</td>\n",
       "      <td>rock</td>\n",
       "      <td>...</td>\n",
       "      <td>0</td>\n",
       "      <td>-11.217</td>\n",
       "      <td>1</td>\n",
       "      <td>0.0560</td>\n",
       "      <td>0.00665</td>\n",
       "      <td>0.023800</td>\n",
       "      <td>0.2090</td>\n",
       "      <td>0.753</td>\n",
       "      <td>118.221</td>\n",
       "      <td>275533</td>\n",
       "    </tr>\n",
       "    <tr>\n",
       "      <th>3</th>\n",
       "      <td>9452</td>\n",
       "      <td>5BBVTlHaSDBJ0Wc25p9yCB</td>\n",
       "      <td>Рванарана</td>\n",
       "      <td>Litvinenko</td>\n",
       "      <td>2pJdHL7gUQr3uhqWOnZQ1x</td>\n",
       "      <td>Рванарана</td>\n",
       "      <td>2018-07-23</td>\n",
       "      <td>RUSSIAN Gangster Rap</td>\n",
       "      <td>0Jw0HckkxCfIrOvpN081eV</td>\n",
       "      <td>rap</td>\n",
       "      <td>...</td>\n",
       "      <td>6</td>\n",
       "      <td>-5.408</td>\n",
       "      <td>1</td>\n",
       "      <td>0.0558</td>\n",
       "      <td>0.74600</td>\n",
       "      <td>0.000000</td>\n",
       "      <td>0.0606</td>\n",
       "      <td>0.301</td>\n",
       "      <td>79.953</td>\n",
       "      <td>225789</td>\n",
       "    </tr>\n",
       "    <tr>\n",
       "      <th>4</th>\n",
       "      <td>25156</td>\n",
       "      <td>7vQNFiycXSGpgGgTxmaWjS</td>\n",
       "      <td>So Lo</td>\n",
       "      <td>Louis Baker</td>\n",
       "      <td>1pDf6t6lK8BQ9C7yhaPCah</td>\n",
       "      <td>So Lo</td>\n",
       "      <td>2019-05-31</td>\n",
       "      <td>I Love My Neo-Soul</td>\n",
       "      <td>37i9dQZF1DX44dZ4p5QLf4</td>\n",
       "      <td>r&amp;b</td>\n",
       "      <td>...</td>\n",
       "      <td>3</td>\n",
       "      <td>-7.025</td>\n",
       "      <td>0</td>\n",
       "      <td>0.0480</td>\n",
       "      <td>0.43400</td>\n",
       "      <td>0.000002</td>\n",
       "      <td>0.1080</td>\n",
       "      <td>0.832</td>\n",
       "      <td>89.008</td>\n",
       "      <td>231640</td>\n",
       "    </tr>\n",
       "  </tbody>\n",
       "</table>\n",
       "<p>5 rows × 23 columns</p>\n",
       "</div>"
      ],
      "text/plain": [
       "   Unnamed: 0                track_id                         track_name  \\\n",
       "0        3578  0u6CqsKqlArqFuMVKREXp9              Never Can Say Goodbye   \n",
       "1       26568  5IXV375WDokSNjZfR4GgnU                 Love Is The Answer   \n",
       "2       14306  0sId1fkKRfPlyMMOSVShng  What's on Your Mind (Pure Energy)   \n",
       "3        9452  5BBVTlHaSDBJ0Wc25p9yCB                          Рванарана   \n",
       "4       25156  7vQNFiycXSGpgGgTxmaWjS                              So Lo   \n",
       "\n",
       "          track_artist          track_album_id     track_album_name  \\\n",
       "0       The Communards  5JYaoYQ7d8twJ2gp6kPt6C                  Red   \n",
       "1           Aloe Blacc  14JRI2yc9nKosojndoQxTv     Lift Your Spirit   \n",
       "2  Information Society  3bv0NUg3BXwT5Uh4PW4zUD  Information Society   \n",
       "3           Litvinenko  2pJdHL7gUQr3uhqWOnZQ1x            Рванарана   \n",
       "4          Louis Baker  1pDf6t6lK8BQ9C7yhaPCah                So Lo   \n",
       "\n",
       "  track_album_release_date                                 playlist_name  \\\n",
       "0                     1987             80's Songs | Top 💯 80s Music Hits   \n",
       "1               2014-01-01  Soul Coffee (The Best Neo-Soul Mixtape ever)   \n",
       "2               1988-06-21                           Permanent Wave CHDB   \n",
       "3               2018-07-23                          RUSSIAN Gangster Rap   \n",
       "4               2019-05-31                            I Love My Neo-Soul   \n",
       "\n",
       "              playlist_id playlist_genre  ... key  loudness  mode  \\\n",
       "0  65HtIbyFkaQPflCa4oW8KO            pop  ...   5    -6.931     1   \n",
       "1  16iNEskDatG5KbDV16F6LR            r&b  ...   9    -5.728     0   \n",
       "2  2foj4ZYVHRGqSd1aMqNPBj           rock  ...   0   -11.217     1   \n",
       "3  0Jw0HckkxCfIrOvpN081eV            rap  ...   6    -5.408     1   \n",
       "4  37i9dQZF1DX44dZ4p5QLf4            r&b  ...   3    -7.025     0   \n",
       "\n",
       "   speechiness  acousticness  instrumentalness  liveness  valence    tempo  \\\n",
       "0       0.0287       0.04340          0.027300    0.2860    0.836  132.172   \n",
       "1       0.0863       0.03340          0.000000    0.0776    0.816  105.232   \n",
       "2       0.0560       0.00665          0.023800    0.2090    0.753  118.221   \n",
       "3       0.0558       0.74600          0.000000    0.0606    0.301   79.953   \n",
       "4       0.0480       0.43400          0.000002    0.1080    0.832   89.008   \n",
       "\n",
       "   duration_ms  \n",
       "0       285986  \n",
       "1       224867  \n",
       "2       275533  \n",
       "3       225789  \n",
       "4       231640  \n",
       "\n",
       "[5 rows x 23 columns]"
      ]
     },
     "execution_count": 216,
     "metadata": {},
     "output_type": "execute_result"
    }
   ],
   "source": [
    "TEST = pd.read_csv(\"spotify_songs_X_test.csv\")\n",
    "TEST.head()"
   ]
  },
  {
   "attachments": {},
   "cell_type": "markdown",
   "id": "6158a103-4499-43d3-a903-06ccf2c44b54",
   "metadata": {},
   "source": [
    "## Your task\n",
    "\n",
    "* All the data comes from spotify\n",
    "\n",
    "* Task 1: Predict ’popularity’ with a Machine Learning model and with a Deep Learning model \n",
    "    * 13 points - for Machine Learning model, you can use all model learned in lecture.\n",
    "    * 13 points - for Deep Learning model, reuse all kind of existing layers.\n",
    "    * You will be assessed primarily on the quality of the pipeline you have implemented, the quality of your explanations\n",
    "    * 2 points will be based on the model performance on the test set – metric=MeanSquaredLogarithmicError\n",
    "\n",
    "* Task 2 : Build a recommender systems with a Machine Learning approach and with a Deep Learning approach.\n",
    "    * Suggest 5 tracks to listen to based on 5 tracks that a user has liked \n",
    "    * 5 points - ML: As we don't have a course dedicated to recommending systems using machine learning models, you'll have to do a bit of research\n",
    "    * DL: you will be able to draw inspiration from the models we have seen in the deep learning course\n",
    "    * You will be assessed primarily on the relevance of your approach, based on the justification of your choices\n",
    "\n",
    "* Submit only 1 zip file, before the end of this year (31.12.2024)\n",
    "    * With 1 notebook for machine learning\n",
    "    * With 1 notebook for deep learning\n",
    "    * 1 csv files with your popularity prediction score. 3 columns: `Unnamed: 0`, ML prediction, DL prediction"
   ]
  },
  {
   "cell_type": "markdown",
   "id": "abe9d30b",
   "metadata": {},
   "source": [
    "---\n",
    "### 1. Task 1: Predict ’popularity’ with Deep Learning model:\n",
    "- Stractegic Plan of Action:\n",
    "\n",
    "    1. *Data Exploration*\n",
    "\n",
    "    2. *Exploratory Data Analysis (EDA)*\n",
    "    3. *Feature Selection/Extraction*\n",
    "    4. *Data Pre-processing*\n",
    "\n",
    "    5. *Predictive Modelling*\n",
    "    6. *Task Outcomes & Conclusion*"
   ]
  },
  {
   "cell_type": "markdown",
   "id": "64312065",
   "metadata": {},
   "source": [
    "#### <center> 1.1. Data exploration"
   ]
  },
  {
   "cell_type": "markdown",
   "id": "24b2b5b8",
   "metadata": {},
   "source": [
    "- First, I will check if is there any **NA/Missing** value in the dataset."
   ]
  },
  {
   "cell_type": "code",
   "execution_count": 217,
   "id": "b6126a8d",
   "metadata": {},
   "outputs": [
    {
     "data": {
      "text/html": [
       "<div>\n",
       "<style scoped>\n",
       "    .dataframe tbody tr th:only-of-type {\n",
       "        vertical-align: middle;\n",
       "    }\n",
       "\n",
       "    .dataframe tbody tr th {\n",
       "        vertical-align: top;\n",
       "    }\n",
       "\n",
       "    .dataframe thead th {\n",
       "        text-align: right;\n",
       "    }\n",
       "</style>\n",
       "<table border=\"1\" class=\"dataframe\">\n",
       "  <thead>\n",
       "    <tr style=\"text-align: right;\">\n",
       "      <th></th>\n",
       "      <th>Unnamed: 0</th>\n",
       "      <th>track_id</th>\n",
       "      <th>track_name</th>\n",
       "      <th>track_artist</th>\n",
       "      <th>track_popularity</th>\n",
       "      <th>track_album_id</th>\n",
       "      <th>track_album_name</th>\n",
       "      <th>track_album_release_date</th>\n",
       "      <th>playlist_name</th>\n",
       "      <th>playlist_id</th>\n",
       "      <th>...</th>\n",
       "      <th>key</th>\n",
       "      <th>loudness</th>\n",
       "      <th>mode</th>\n",
       "      <th>speechiness</th>\n",
       "      <th>acousticness</th>\n",
       "      <th>instrumentalness</th>\n",
       "      <th>liveness</th>\n",
       "      <th>valence</th>\n",
       "      <th>tempo</th>\n",
       "      <th>duration_ms</th>\n",
       "    </tr>\n",
       "  </thead>\n",
       "  <tbody>\n",
       "    <tr>\n",
       "      <th>2745</th>\n",
       "      <td>9283</td>\n",
       "      <td>5TTzhRSWQS4Yu8xTgAuq6D</td>\n",
       "      <td>NaN</td>\n",
       "      <td>NaN</td>\n",
       "      <td>0</td>\n",
       "      <td>3luHJEPw434tvNbme3SP8M</td>\n",
       "      <td>NaN</td>\n",
       "      <td>2017-12-01</td>\n",
       "      <td>GANGSTA Rap</td>\n",
       "      <td>5GA8GDo7RQC3JEanT81B3g</td>\n",
       "      <td>...</td>\n",
       "      <td>10</td>\n",
       "      <td>-5.907</td>\n",
       "      <td>0</td>\n",
       "      <td>0.3070</td>\n",
       "      <td>0.0963</td>\n",
       "      <td>0.00000</td>\n",
       "      <td>0.0888</td>\n",
       "      <td>0.505</td>\n",
       "      <td>86.839</td>\n",
       "      <td>206465</td>\n",
       "    </tr>\n",
       "    <tr>\n",
       "      <th>18557</th>\n",
       "      <td>8151</td>\n",
       "      <td>69gRFGOWY9OMpFJgFol1u0</td>\n",
       "      <td>NaN</td>\n",
       "      <td>NaN</td>\n",
       "      <td>0</td>\n",
       "      <td>717UG2du6utFe7CdmpuUe3</td>\n",
       "      <td>NaN</td>\n",
       "      <td>2012-01-05</td>\n",
       "      <td>HIP&amp;HOP</td>\n",
       "      <td>5DyJsJZOpMJh34WvUrQzMV</td>\n",
       "      <td>...</td>\n",
       "      <td>6</td>\n",
       "      <td>-7.635</td>\n",
       "      <td>1</td>\n",
       "      <td>0.1760</td>\n",
       "      <td>0.0410</td>\n",
       "      <td>0.00000</td>\n",
       "      <td>0.1160</td>\n",
       "      <td>0.649</td>\n",
       "      <td>95.999</td>\n",
       "      <td>282707</td>\n",
       "    </tr>\n",
       "    <tr>\n",
       "      <th>19817</th>\n",
       "      <td>9282</td>\n",
       "      <td>5cjecvX0CmC9gK0Laf5EMQ</td>\n",
       "      <td>NaN</td>\n",
       "      <td>NaN</td>\n",
       "      <td>0</td>\n",
       "      <td>3luHJEPw434tvNbme3SP8M</td>\n",
       "      <td>NaN</td>\n",
       "      <td>2017-12-01</td>\n",
       "      <td>GANGSTA Rap</td>\n",
       "      <td>5GA8GDo7RQC3JEanT81B3g</td>\n",
       "      <td>...</td>\n",
       "      <td>11</td>\n",
       "      <td>-5.364</td>\n",
       "      <td>0</td>\n",
       "      <td>0.3190</td>\n",
       "      <td>0.0534</td>\n",
       "      <td>0.00000</td>\n",
       "      <td>0.5530</td>\n",
       "      <td>0.191</td>\n",
       "      <td>146.153</td>\n",
       "      <td>202235</td>\n",
       "    </tr>\n",
       "    <tr>\n",
       "      <th>20876</th>\n",
       "      <td>19568</td>\n",
       "      <td>3VKFip3OdAvv4OfNTgFWeQ</td>\n",
       "      <td>NaN</td>\n",
       "      <td>NaN</td>\n",
       "      <td>0</td>\n",
       "      <td>717UG2du6utFe7CdmpuUe3</td>\n",
       "      <td>NaN</td>\n",
       "      <td>2012-01-05</td>\n",
       "      <td>Reggaeton viejito🔥</td>\n",
       "      <td>0si5tw70PIgPkY1Eva6V8f</td>\n",
       "      <td>...</td>\n",
       "      <td>11</td>\n",
       "      <td>-6.075</td>\n",
       "      <td>0</td>\n",
       "      <td>0.0366</td>\n",
       "      <td>0.0606</td>\n",
       "      <td>0.00653</td>\n",
       "      <td>0.1030</td>\n",
       "      <td>0.726</td>\n",
       "      <td>97.017</td>\n",
       "      <td>252773</td>\n",
       "    </tr>\n",
       "    <tr>\n",
       "      <th>24618</th>\n",
       "      <td>19811</td>\n",
       "      <td>69gRFGOWY9OMpFJgFol1u0</td>\n",
       "      <td>NaN</td>\n",
       "      <td>NaN</td>\n",
       "      <td>0</td>\n",
       "      <td>717UG2du6utFe7CdmpuUe3</td>\n",
       "      <td>NaN</td>\n",
       "      <td>2012-01-05</td>\n",
       "      <td>latin hip hop</td>\n",
       "      <td>3nH8aytdqNeRbcRCg3dw9q</td>\n",
       "      <td>...</td>\n",
       "      <td>6</td>\n",
       "      <td>-7.635</td>\n",
       "      <td>1</td>\n",
       "      <td>0.1760</td>\n",
       "      <td>0.0410</td>\n",
       "      <td>0.00000</td>\n",
       "      <td>0.1160</td>\n",
       "      <td>0.649</td>\n",
       "      <td>95.999</td>\n",
       "      <td>282707</td>\n",
       "    </tr>\n",
       "  </tbody>\n",
       "</table>\n",
       "<p>5 rows × 24 columns</p>\n",
       "</div>"
      ],
      "text/plain": [
       "       Unnamed: 0                track_id track_name track_artist  \\\n",
       "2745         9283  5TTzhRSWQS4Yu8xTgAuq6D        NaN          NaN   \n",
       "18557        8151  69gRFGOWY9OMpFJgFol1u0        NaN          NaN   \n",
       "19817        9282  5cjecvX0CmC9gK0Laf5EMQ        NaN          NaN   \n",
       "20876       19568  3VKFip3OdAvv4OfNTgFWeQ        NaN          NaN   \n",
       "24618       19811  69gRFGOWY9OMpFJgFol1u0        NaN          NaN   \n",
       "\n",
       "       track_popularity          track_album_id track_album_name  \\\n",
       "2745                  0  3luHJEPw434tvNbme3SP8M              NaN   \n",
       "18557                 0  717UG2du6utFe7CdmpuUe3              NaN   \n",
       "19817                 0  3luHJEPw434tvNbme3SP8M              NaN   \n",
       "20876                 0  717UG2du6utFe7CdmpuUe3              NaN   \n",
       "24618                 0  717UG2du6utFe7CdmpuUe3              NaN   \n",
       "\n",
       "      track_album_release_date       playlist_name             playlist_id  \\\n",
       "2745                2017-12-01         GANGSTA Rap  5GA8GDo7RQC3JEanT81B3g   \n",
       "18557               2012-01-05             HIP&HOP  5DyJsJZOpMJh34WvUrQzMV   \n",
       "19817               2017-12-01         GANGSTA Rap  5GA8GDo7RQC3JEanT81B3g   \n",
       "20876               2012-01-05  Reggaeton viejito🔥  0si5tw70PIgPkY1Eva6V8f   \n",
       "24618               2012-01-05       latin hip hop  3nH8aytdqNeRbcRCg3dw9q   \n",
       "\n",
       "       ... key loudness  mode  speechiness  acousticness  instrumentalness  \\\n",
       "2745   ...  10   -5.907     0       0.3070        0.0963           0.00000   \n",
       "18557  ...   6   -7.635     1       0.1760        0.0410           0.00000   \n",
       "19817  ...  11   -5.364     0       0.3190        0.0534           0.00000   \n",
       "20876  ...  11   -6.075     0       0.0366        0.0606           0.00653   \n",
       "24618  ...   6   -7.635     1       0.1760        0.0410           0.00000   \n",
       "\n",
       "       liveness  valence    tempo  duration_ms  \n",
       "2745     0.0888    0.505   86.839       206465  \n",
       "18557    0.1160    0.649   95.999       282707  \n",
       "19817    0.5530    0.191  146.153       202235  \n",
       "20876    0.1030    0.726   97.017       252773  \n",
       "24618    0.1160    0.649   95.999       282707  \n",
       "\n",
       "[5 rows x 24 columns]"
      ]
     },
     "execution_count": 217,
     "metadata": {},
     "output_type": "execute_result"
    }
   ],
   "source": [
    "TRAIN[TRAIN.isnull().any(axis=1)]"
   ]
  },
  {
   "cell_type": "markdown",
   "id": "3c1b3d76",
   "metadata": {},
   "source": [
    "- We can see that the column ***track_name, track_albumn_name, track_artist*** has 5 **NA/Missing** values. Let's see what are these value."
   ]
  },
  {
   "cell_type": "markdown",
   "id": "69e7d805",
   "metadata": {},
   "source": [
    "- Luckily, only 5 rows contain the **NA/Missing** values. Here is my strategy with these rows:\n",
    "    + With numeric columns, I will replace the **NA/Missing** values by the mean values of those columns.\n",
    "    + With category columns, I will replace the **NA/Missing** values by the least frequent values of those columns."
   ]
  },
  {
   "cell_type": "markdown",
   "id": "cbfed9d4",
   "metadata": {},
   "source": [
    "- Extract the ***target*** and ***train_data*** from the **TRAIN** dataset"
   ]
  },
  {
   "cell_type": "code",
   "execution_count": 218,
   "id": "e430e6d2",
   "metadata": {},
   "outputs": [
    {
     "name": "stderr",
     "output_type": "stream",
     "text": [
      "C:\\Users\\Admin\\AppData\\Local\\Temp\\ipykernel_16700\\2271193759.py:8: SettingWithCopyWarning: \n",
      "A value is trying to be set on a copy of a slice from a DataFrame\n",
      "\n",
      "See the caveats in the documentation: https://pandas.pydata.org/pandas-docs/stable/user_guide/indexing.html#returning-a-view-versus-a-copy\n",
      "  train_data.drop(['Unnamed: 0'], axis=1, inplace=True)\n"
     ]
    },
    {
     "data": {
      "text/plain": [
       "(26266, 22)"
      ]
     },
     "execution_count": 218,
     "metadata": {},
     "output_type": "execute_result"
    }
   ],
   "source": [
    "# Get the target label\n",
    "target = TRAIN['track_popularity']\n",
    "\n",
    "# Get the remain train data\n",
    "train_data = TRAIN.loc[:, TRAIN.columns != 'track_popularity']\n",
    "\n",
    "# Drop unnecessary column (Unnamed :0)\n",
    "train_data.drop(['Unnamed: 0'], axis=1, inplace=True)\n",
    "train_data.fillna(np.nan)\n",
    "train_data.shape"
   ]
  },
  {
   "cell_type": "markdown",
   "id": "780c618f",
   "metadata": {},
   "source": [
    "- Check the data type of each column of the dataset"
   ]
  },
  {
   "cell_type": "code",
   "execution_count": 219,
   "id": "21b5f009",
   "metadata": {},
   "outputs": [
    {
     "name": "stdout",
     "output_type": "stream",
     "text": [
      "<class 'pandas.core.frame.DataFrame'>\n",
      "RangeIndex: 26266 entries, 0 to 26265\n",
      "Data columns (total 22 columns):\n",
      " #   Column                    Non-Null Count  Dtype  \n",
      "---  ------                    --------------  -----  \n",
      " 0   track_id                  26266 non-null  object \n",
      " 1   track_name                26261 non-null  object \n",
      " 2   track_artist              26261 non-null  object \n",
      " 3   track_album_id            26266 non-null  object \n",
      " 4   track_album_name          26261 non-null  object \n",
      " 5   track_album_release_date  26266 non-null  object \n",
      " 6   playlist_name             26266 non-null  object \n",
      " 7   playlist_id               26266 non-null  object \n",
      " 8   playlist_genre            26266 non-null  object \n",
      " 9   playlist_subgenre         26266 non-null  object \n",
      " 10  danceability              26266 non-null  float64\n",
      " 11  energy                    26266 non-null  float64\n",
      " 12  key                       26266 non-null  int64  \n",
      " 13  loudness                  26266 non-null  float64\n",
      " 14  mode                      26266 non-null  int64  \n",
      " 15  speechiness               26266 non-null  float64\n",
      " 16  acousticness              26266 non-null  float64\n",
      " 17  instrumentalness          26266 non-null  float64\n",
      " 18  liveness                  26266 non-null  float64\n",
      " 19  valence                   26266 non-null  float64\n",
      " 20  tempo                     26266 non-null  float64\n",
      " 21  duration_ms               26266 non-null  int64  \n",
      "dtypes: float64(9), int64(3), object(10)\n",
      "memory usage: 4.4+ MB\n"
     ]
    }
   ],
   "source": [
    "#Checking the dtypes of all the columns\n",
    "train_data.info()"
   ]
  },
  {
   "cell_type": "markdown",
   "id": "f40bb2db",
   "metadata": {},
   "source": [
    "#### <center> 1.2. Exploratory Data Analysis\n"
   ]
  },
  {
   "cell_type": "markdown",
   "id": "df56391e",
   "metadata": {},
   "source": [
    "- Let me first analyze the distribution of the target variable"
   ]
  },
  {
   "cell_type": "code",
   "execution_count": 220,
   "id": "f6d2adc2",
   "metadata": {},
   "outputs": [
    {
     "data": {
      "image/png": "[encoded data removed]",
      "text/plain": [
       "<Figure size 800x400 with 1 Axes>"
      ]
     },
     "metadata": {},
     "output_type": "display_data"
    }
   ],
   "source": [
    "plt.figure(figsize=[8,4])\n",
    "sns.histplot(target, color='g', bins=30, kde=True)\n",
    "plt.title('Target Variable Distribution - Track Popularity')\n",
    "plt.show()"
   ]
  },
  {
   "cell_type": "markdown",
   "id": "ecc838bd",
   "metadata": {},
   "source": [
    "- I will plot the historgram of train data to see the distribution of each continuous feature."
   ]
  },
  {
   "cell_type": "code",
   "execution_count": 221,
   "id": "55fd1ea5",
   "metadata": {},
   "outputs": [
    {
     "data": {
      "text/plain": [
       "array([[<Axes: title={'center': 'danceability'}>,\n",
       "        <Axes: title={'center': 'energy'}>,\n",
       "        <Axes: title={'center': 'loudness'}>],\n",
       "       [<Axes: title={'center': 'speechiness'}>,\n",
       "        <Axes: title={'center': 'acousticness'}>,\n",
       "        <Axes: title={'center': 'instrumentalness'}>],\n",
       "       [<Axes: title={'center': 'liveness'}>,\n",
       "        <Axes: title={'center': 'valence'}>,\n",
       "        <Axes: title={'center': 'tempo'}>],\n",
       "       [<Axes: title={'center': 'duration_ms'}>, <Axes: >, <Axes: >]],\n",
       "      dtype=object)"
      ]
     },
     "execution_count": 221,
     "metadata": {},
     "output_type": "execute_result"
    },
    {
     "data": {
      "image/png": "[encoded data removed]",
      "text/plain": [
       "<Figure size 640x480 with 12 Axes>"
      ]
     },
     "metadata": {},
     "output_type": "display_data"
    }
   ],
   "source": [
    "train_data.hist(bins=50, column=['danceability', 'energy', 'loudness', 'speechiness',\n",
    "       'acousticness', 'instrumentalness', 'liveness', 'valence', 'tempo',\n",
    "       'duration_ms'])"
   ]
  },
  {
   "cell_type": "markdown",
   "id": "b0d613c1",
   "metadata": {},
   "source": [
    "- Some of continuous features are not follow the normal distribution, I will normalize them later "
   ]
  },
  {
   "cell_type": "markdown",
   "id": "f926f190",
   "metadata": {},
   "source": [
    "#### <center> 1.3. Feature Extraction/Selection\n"
   ]
  },
  {
   "cell_type": "markdown",
   "id": "f6e0bd3f",
   "metadata": {},
   "source": [
    "##### 1.3.1. Stratgies for each feature of data"
   ]
  },
  {
   "cell_type": "markdown",
   "id": "8774826a",
   "metadata": {},
   "source": [
    "Continuous features will be: ***danceability, energy, speechiness, valence, liveness, acousticness, instrumentalness, loudness, tempo, duration_ms***\n",
    "    + I will use ***PCA*** to reduce the dimension of continuous columns"
   ]
  },
  {
   "cell_type": "markdown",
   "id": "9995bcea",
   "metadata": {},
   "source": [
    "Now, let's take a look at the categorical features we have: ***mode, playlist_genre, key, playlist_subgenre, playlist_name, playlist_id, track_album_release_date, track_artist, track_album_name, track_album_id, track_name, track_id***\n",
    "- For example:\n",
    "    + Some artists may favor specific genres and subgenres of the songs\n",
    "    + Newer artists often release songs in recent years\n",
    "    + Specific keys are often associated with certain genres\n",
    "\n",
    "- So, I will group these features in one group: ***key, playlist_genre, playlist_subgenre, track_artist, track_album_release_date***\n",
    "- The other features will be treated as other groups: ***(track_name, track_id), (track_album_name, track_album_id), (playlist_name, playlist_id)***"
   ]
  },
  {
   "cell_type": "markdown",
   "id": "43ffa109",
   "metadata": {},
   "source": [
    "- Inside each group, the features share the same embedding space due to their relevance."
   ]
  },
  {
   "cell_type": "markdown",
   "id": "73a36554",
   "metadata": {},
   "source": [
    "- For each group, I will put it in **Embedding layer**. I will get the ***input_dim*** of **Embedding layer** for each feature:\n",
    "    + Group 1: *key, playlist_genre, playlist_subgenre, track_artist, track_album_release_date*\n",
    "    + Group 2 : *track_name, track_id*\n",
    "    + Group 3 : *track_album_name, track_album_id*\n",
    "    + Group 4 : *playlist_name, playlist_id*\n"
   ]
  },
  {
   "cell_type": "markdown",
   "id": "ba4c46a2",
   "metadata": {},
   "source": [
    "##### 1.3.2. Custom buil-in transformer"
   ]
  },
  {
   "cell_type": "markdown",
   "id": "0f1f3db8",
   "metadata": {},
   "source": [
    "- I will build the ***Categories_Transform*** to transform the categorical columns as the above strategy."
   ]
  },
  {
   "cell_type": "code",
   "execution_count": 222,
   "id": "641655c6",
   "metadata": {},
   "outputs": [],
   "source": [
    "\n",
    "class Category_Transform(BaseEstimator, TransformerMixin):\n",
    "    def fit(self, X, y=None):\n",
    "        X_cpy = X.copy()\n",
    "        # X_cpy.replace([None, pd.NA], np.nan)\n",
    "        # X_cpy.dropna(how='any', axis=0, inplace=True)\n",
    "        self.drop_cols = []\n",
    "        self.cate_cols = ['playlist_id', 'track_album_id', 'track_id', \n",
    "                          'playlist_genre','key','playlist_subgenre','playlist_name','track_album_release_date',\n",
    "                        'track_artist','track_album_name','track_name', 'mode']\n",
    "        self.encoder = OrdinalEncoder(handle_unknown='use_encoded_value', unknown_value=-1, encoded_missing_value=-1, dtype=int)\n",
    "        self.encoder.fit(X_cpy[self.cate_cols])\n",
    "        return self\n",
    "    \n",
    "    def transform(self, X):\n",
    "        X_cpy = X.copy()\n",
    "        # Fill NA/NaN with 'Unknown' value\n",
    "        X_cpy.fillna('Unknown')            \n",
    "        # Transform the data\n",
    "        X_cpy[self.cate_cols] = self.encoder.transform(X_cpy[self.cate_cols])\n",
    "        # Replace unknow value, which is -1 by maximum value of each column + 1\n",
    "        for col in self.cate_cols:\n",
    "            replace_value = X_cpy[col].max() + 1\n",
    "            X_cpy.loc[X_cpy[col] == -1, col] = replace_value\n",
    "            X_cpy[col] = X_cpy[col].astype('int32')\n",
    "        # Drop columns\n",
    "        X_cpy = X_cpy.drop(self.drop_cols, axis=1)\n",
    "\n",
    "        return X_cpy[self.cate_cols]"
   ]
  },
  {
   "cell_type": "markdown",
   "id": "f52d19c4",
   "metadata": {},
   "source": [
    "Now, I will make the pipeline for continuous features and categorical features:\n"
   ]
  },
  {
   "cell_type": "markdown",
   "id": "83eb894e",
   "metadata": {},
   "source": [
    "- Numerical pipeline"
   ]
  },
  {
   "cell_type": "code",
   "execution_count": 223,
   "id": "7e2d92c3",
   "metadata": {},
   "outputs": [],
   "source": [
    "num_pipeline = Pipeline(steps=[\n",
    "    ('impute', SimpleImputer(strategy='mean')),\n",
    "    ('standardization', StandardScaler()),\n",
    "    ('pca', PCA(n_components=0.95, svd_solver=\"auto\")),\n",
    "])"
   ]
  },
  {
   "cell_type": "markdown",
   "id": "66a8c891",
   "metadata": {},
   "source": [
    "- Categorical pipeline"
   ]
  },
  {
   "cell_type": "code",
   "execution_count": 224,
   "id": "8ccc7b59",
   "metadata": {},
   "outputs": [],
   "source": [
    "cat_pipeline = Pipeline(steps=[\n",
    "    ('category_transform', Category_Transform())\n",
    "])"
   ]
  },
  {
   "cell_type": "code",
   "execution_count": 225,
   "id": "fc61518f",
   "metadata": {},
   "outputs": [],
   "source": [
    "# Numeric values\n",
    "num_cols = ['danceability', 'energy', 'loudness', 'speechiness', 'acousticness', 'instrumentalness', 'liveness', 'valence', 'tempo', 'duration_ms']\n",
    "\n",
    "# Category values\n",
    "cat_cols = ['key', 'playlist_genre', 'playlist_subgenre', 'track_id','track_artist', 'track_name', \n",
    "             'track_album_id', 'track_album_name', 'playlist_name', 'playlist_id', 'track_album_release_date','mode']"
   ]
  },
  {
   "cell_type": "markdown",
   "id": "6885a618",
   "metadata": {},
   "source": [
    "#### <center> 1.4. Data Pre-processing\n"
   ]
  },
  {
   "cell_type": "markdown",
   "id": "1521a1b8",
   "metadata": {},
   "source": [
    "- In order to get the best model, I will split the **TRAIN** dataset into train set ***(x_Train, y_Train)*** and test set ***(x_Test, y_Test)***"
   ]
  },
  {
   "cell_type": "code",
   "execution_count": 226,
   "id": "05195fc0",
   "metadata": {},
   "outputs": [
    {
     "name": "stdout",
     "output_type": "stream",
     "text": [
      "Original set  --->  (26266, 22) (26266,) \n",
      "Training set  --->  (21012, 22) (21012,) \n",
      "Testing set   --->  (5254, 22)  (5254,)\n"
     ]
    }
   ],
   "source": [
    "x_Train, x_Test, y_Train, y_Test = train_test_split(train_data, target, train_size=0.8, test_size=0.2, random_state=100)\n",
    "x_Train.reset_index(drop=True,inplace=True)\n",
    "\n",
    "print('Original set  ---> ',train_data.shape,target.shape,'\\nTraining set  ---> ',x_Train.shape,y_Train.shape,'\\nTesting set   ---> ', x_Test.shape,'', y_Test.shape)"
   ]
  },
  {
   "cell_type": "code",
   "execution_count": 227,
   "id": "cc73604c",
   "metadata": {},
   "outputs": [],
   "source": [
    "x_Train_cate = cat_pipeline.fit_transform(x_Train[cat_cols])\n",
    "x_Train_num = num_pipeline.fit_transform(x_Train[num_cols])\n",
    "\n",
    "x_Test_cate = cat_pipeline.transform(x_Test[cat_cols])\n",
    "x_Test_num = num_pipeline.transform(x_Test[num_cols])"
   ]
  },
  {
   "cell_type": "code",
   "execution_count": 228,
   "id": "eec8205b",
   "metadata": {},
   "outputs": [
    {
     "data": {
      "text/plain": [
       "[8193, 18984, 15894, 472]"
      ]
     },
     "execution_count": 228,
     "metadata": {},
     "output_type": "execute_result"
    }
   ],
   "source": [
    "group1_features = ['key', 'playlist_genre', 'playlist_subgenre', 'track_artist', 'track_album_release_date','mode']\n",
    "group2_features = ['track_name', 'track_id']\n",
    "group3_features = ['track_album_id', 'track_album_name']\n",
    "group4_features = ['playlist_name', 'playlist_id']\n",
    "features = [group1_features, group2_features, group3_features, group4_features]\n",
    "\n",
    "# Because we have to handle the unseen value, we should +2 instead of +1\n",
    "dims = [max([(max(x_Train_cate[col]) + 2) for col in group]) for group in features]\n",
    "dims"
   ]
  },
  {
   "cell_type": "markdown",
   "id": "9c3f1d3e",
   "metadata": {},
   "source": [
    "#### <center> 1.5. Predictive Modelling\n"
   ]
  },
  {
   "cell_type": "markdown",
   "id": "21298723",
   "metadata": {},
   "source": [
    "- For this problem which is predicting the continuous value: ***track_popularity***, I will use:\n",
    "    - *Multi-Layer Perceptron - MLP*\n",
    "    - *Convolution Neuron Network - CNN*"
   ]
  },
  {
   "cell_type": "markdown",
   "id": "ce1290aa",
   "metadata": {},
   "source": [
    "##### 1.5.1. Multi-Layer Perceptron "
   ]
  },
  {
   "cell_type": "markdown",
   "id": "134afbba",
   "metadata": {},
   "source": [
    "![Multi-Layer Perceptron Architecture](./img/mlp.png)\n",
    "\n",
    "Source: Own"
   ]
  },
  {
   "cell_type": "code",
   "execution_count": 229,
   "id": "2617b5e5",
   "metadata": {},
   "outputs": [],
   "source": [
    "\n",
    "def MyMLP(hp: kt.HyperParameters):\n",
    "    # Numerical Input\n",
    "    num_input = keras.layers.Input(shape=(x_Train_num.shape[1],))\n",
    "    x_num = keras.layers.Flatten()(num_input)\n",
    "\n",
    "    \n",
    "    # Categorical inputs\n",
    "    x_cates = []\n",
    "    cate_inputs = []\n",
    "    for i, feature in enumerate(features):\n",
    "        inp = keras.layers.Input(shape=(len(feature),))\n",
    "        \n",
    "        embed = keras.layers.Embedding(input_dim=dims[i], \n",
    "                                        output_dim=hp.Int(f'dim_embedding_group{i}_features', min_value=8, max_value=64, step=16), \n",
    "                                        name=f'group{i}_features_embed')(inp)\n",
    "        embed = keras.layers.Flatten()(embed)\n",
    "            \n",
    "        x_group = keras.layers.Dense(hp.Int(f'group{i}_dense', min_value=8, max_value=64, step=16), \n",
    "                                            activation='relu')(embed)\n",
    "        x_group = keras.layers.Dropout(0.2)(x_group)\n",
    "        x_cates.append(x_group)\n",
    "        cate_inputs.append(inp)\n",
    "    \n",
    "    # Concatenation\n",
    "    x_MLP = keras.layers.Concatenate(axis=1)([x_num] + x_cates)\n",
    "    \n",
    "    # Fully connected layers\n",
    "    x_MLP = keras.layers.Dense(units = hp.Int('dim_MLP_1', min_value=128, max_value=256, step=16), activation='relu')(x_MLP)\n",
    "    x_MLP = keras.layers.Dense(units = hp.Int('dim_MLP_2', min_value=64, max_value=128, step=16), activation='relu')(x_MLP)\n",
    "    x_MLP = keras.layers.Dense(units = hp.Int('dim_MLP_3', min_value=16, max_value=64, step=16), activation='relu')(x_MLP)\n",
    "    outputs = keras.layers.Dense(units = 1, activation='linear')(x_MLP)\n",
    "    \n",
    "    # Build the model\n",
    "    model = keras.models.Model(inputs=[num_input] + cate_inputs, outputs=outputs)\n",
    "    \n",
    "    # compile the model\n",
    "    model.compile(optimizer='adam', loss='msle', metrics=['msle'])\n",
    "    \n",
    "    # summarize the model\n",
    "    print(model.summary())\n",
    "    \n",
    "    return model\n",
    "    "
   ]
  },
  {
   "cell_type": "code",
   "execution_count": 236,
   "id": "50c21120",
   "metadata": {},
   "outputs": [
    {
     "name": "stdout",
     "output_type": "stream",
     "text": [
      "Trial 10 Complete [00h 00m 46s]\n",
      "val_loss: 1.0176870226860046\n",
      "\n",
      "Best val_loss So Far: 0.9699544012546539\n",
      "Total elapsed time: 00h 07m 25s\n"
     ]
    }
   ],
   "source": [
    "# simple early stopping\n",
    "es = keras.callbacks.EarlyStopping(monitor='val_loss', patience=5, mode='min', restore_best_weights=True, verbose=1)\n",
    "mc = keras.callbacks.ModelCheckpoint(\"best-model-mlp.weights.h5\", monitor=\"val_loss\", save_best_only=True, save_weights_only=True)\n",
    "\n",
    "# Random Search the hyperparameters\n",
    "tuner_MLP = kt.GridSearch(\n",
    "    hypermodel= MyMLP,\n",
    "    objective=\"val_loss\",\n",
    "    max_trials=10,\n",
    "    executions_per_trial=2,\n",
    "    overwrite=True,\n",
    "    directory=\"my_dir\",\n",
    "    project_name=\"MLP\",\n",
    ")\n",
    "\n",
    "tuner_MLP.search([np.array(x_Train_num), \n",
    "              np.array(x_Train_cate[group1_features]), np.array(x_Train_cate[group2_features]),\n",
    "              np.array(x_Train_cate[group3_features]), np.array(x_Train_cate[group4_features])], \n",
    "             np.array(y_Train).reshape(-1),\n",
    "                    validation_split=0.2, epochs=30, verbose=1, callbacks=[es,mc])"
   ]
  },
  {
   "cell_type": "code",
   "execution_count": 246,
   "id": "ab8e852f",
   "metadata": {},
   "outputs": [
    {
     "data": {
      "text/html": [
       "<pre style=\"white-space:pre;overflow-x:auto;line-height:normal;font-family:Menlo,'DejaVu Sans Mono',consolas,'Courier New',monospace\"><span style=\"font-weight: bold\">Model: \"functional\"</span>\n",
       "</pre>\n"
      ],
      "text/plain": [
       "\u001b[1mModel: \"functional\"\u001b[0m\n"
      ]
     },
     "metadata": {},
     "output_type": "display_data"
    },
    {
     "data": {
      "text/html": [
       "<pre style=\"white-space:pre;overflow-x:auto;line-height:normal;font-family:Menlo,'DejaVu Sans Mono',consolas,'Courier New',monospace\">┏━━━━━━━━━━━━━━━━━━━━━┳━━━━━━━━━━━━━━━━━━━┳━━━━━━━━━━━━┳━━━━━━━━━━━━━━━━━━━┓\n",
       "┃<span style=\"font-weight: bold\"> Layer (type)        </span>┃<span style=\"font-weight: bold\"> Output Shape      </span>┃<span style=\"font-weight: bold\">    Param # </span>┃<span style=\"font-weight: bold\"> Connected to      </span>┃\n",
       "┡━━━━━━━━━━━━━━━━━━━━━╇━━━━━━━━━━━━━━━━━━━╇━━━━━━━━━━━━╇━━━━━━━━━━━━━━━━━━━┩\n",
       "│ input_layer_1       │ (<span style=\"color: #00d7ff; text-decoration-color: #00d7ff\">None</span>, <span style=\"color: #00af00; text-decoration-color: #00af00\">6</span>)         │          <span style=\"color: #00af00; text-decoration-color: #00af00\">0</span> │ -                 │\n",
       "│ (<span style=\"color: #0087ff; text-decoration-color: #0087ff\">InputLayer</span>)        │                   │            │                   │\n",
       "├─────────────────────┼───────────────────┼────────────┼───────────────────┤\n",
       "│ input_layer_2       │ (<span style=\"color: #00d7ff; text-decoration-color: #00d7ff\">None</span>, <span style=\"color: #00af00; text-decoration-color: #00af00\">2</span>)         │          <span style=\"color: #00af00; text-decoration-color: #00af00\">0</span> │ -                 │\n",
       "│ (<span style=\"color: #0087ff; text-decoration-color: #0087ff\">InputLayer</span>)        │                   │            │                   │\n",
       "├─────────────────────┼───────────────────┼────────────┼───────────────────┤\n",
       "│ input_layer_3       │ (<span style=\"color: #00d7ff; text-decoration-color: #00d7ff\">None</span>, <span style=\"color: #00af00; text-decoration-color: #00af00\">2</span>)         │          <span style=\"color: #00af00; text-decoration-color: #00af00\">0</span> │ -                 │\n",
       "│ (<span style=\"color: #0087ff; text-decoration-color: #0087ff\">InputLayer</span>)        │                   │            │                   │\n",
       "├─────────────────────┼───────────────────┼────────────┼───────────────────┤\n",
       "│ input_layer_4       │ (<span style=\"color: #00d7ff; text-decoration-color: #00d7ff\">None</span>, <span style=\"color: #00af00; text-decoration-color: #00af00\">2</span>)         │          <span style=\"color: #00af00; text-decoration-color: #00af00\">0</span> │ -                 │\n",
       "│ (<span style=\"color: #0087ff; text-decoration-color: #0087ff\">InputLayer</span>)        │                   │            │                   │\n",
       "├─────────────────────┼───────────────────┼────────────┼───────────────────┤\n",
       "│ group0_features_em… │ (<span style=\"color: #00d7ff; text-decoration-color: #00d7ff\">None</span>, <span style=\"color: #00af00; text-decoration-color: #00af00\">6</span>, <span style=\"color: #00af00; text-decoration-color: #00af00\">8</span>)      │     <span style=\"color: #00af00; text-decoration-color: #00af00\">65,544</span> │ input_layer_1[<span style=\"color: #00af00; text-decoration-color: #00af00\">0</span>]… │\n",
       "│ (<span style=\"color: #0087ff; text-decoration-color: #0087ff\">Embedding</span>)         │                   │            │                   │\n",
       "├─────────────────────┼───────────────────┼────────────┼───────────────────┤\n",
       "│ group1_features_em… │ (<span style=\"color: #00d7ff; text-decoration-color: #00d7ff\">None</span>, <span style=\"color: #00af00; text-decoration-color: #00af00\">2</span>, <span style=\"color: #00af00; text-decoration-color: #00af00\">8</span>)      │    <span style=\"color: #00af00; text-decoration-color: #00af00\">151,872</span> │ input_layer_2[<span style=\"color: #00af00; text-decoration-color: #00af00\">0</span>]… │\n",
       "│ (<span style=\"color: #0087ff; text-decoration-color: #0087ff\">Embedding</span>)         │                   │            │                   │\n",
       "├─────────────────────┼───────────────────┼────────────┼───────────────────┤\n",
       "│ group2_features_em… │ (<span style=\"color: #00d7ff; text-decoration-color: #00d7ff\">None</span>, <span style=\"color: #00af00; text-decoration-color: #00af00\">2</span>, <span style=\"color: #00af00; text-decoration-color: #00af00\">8</span>)      │    <span style=\"color: #00af00; text-decoration-color: #00af00\">127,152</span> │ input_layer_3[<span style=\"color: #00af00; text-decoration-color: #00af00\">0</span>]… │\n",
       "│ (<span style=\"color: #0087ff; text-decoration-color: #0087ff\">Embedding</span>)         │                   │            │                   │\n",
       "├─────────────────────┼───────────────────┼────────────┼───────────────────┤\n",
       "│ group3_features_em… │ (<span style=\"color: #00d7ff; text-decoration-color: #00d7ff\">None</span>, <span style=\"color: #00af00; text-decoration-color: #00af00\">2</span>, <span style=\"color: #00af00; text-decoration-color: #00af00\">8</span>)      │      <span style=\"color: #00af00; text-decoration-color: #00af00\">3,776</span> │ input_layer_4[<span style=\"color: #00af00; text-decoration-color: #00af00\">0</span>]… │\n",
       "│ (<span style=\"color: #0087ff; text-decoration-color: #0087ff\">Embedding</span>)         │                   │            │                   │\n",
       "├─────────────────────┼───────────────────┼────────────┼───────────────────┤\n",
       "│ flatten_1 (<span style=\"color: #0087ff; text-decoration-color: #0087ff\">Flatten</span>) │ (<span style=\"color: #00d7ff; text-decoration-color: #00d7ff\">None</span>, <span style=\"color: #00af00; text-decoration-color: #00af00\">48</span>)        │          <span style=\"color: #00af00; text-decoration-color: #00af00\">0</span> │ group0_features_… │\n",
       "├─────────────────────┼───────────────────┼────────────┼───────────────────┤\n",
       "│ flatten_2 (<span style=\"color: #0087ff; text-decoration-color: #0087ff\">Flatten</span>) │ (<span style=\"color: #00d7ff; text-decoration-color: #00d7ff\">None</span>, <span style=\"color: #00af00; text-decoration-color: #00af00\">16</span>)        │          <span style=\"color: #00af00; text-decoration-color: #00af00\">0</span> │ group1_features_… │\n",
       "├─────────────────────┼───────────────────┼────────────┼───────────────────┤\n",
       "│ flatten_3 (<span style=\"color: #0087ff; text-decoration-color: #0087ff\">Flatten</span>) │ (<span style=\"color: #00d7ff; text-decoration-color: #00d7ff\">None</span>, <span style=\"color: #00af00; text-decoration-color: #00af00\">16</span>)        │          <span style=\"color: #00af00; text-decoration-color: #00af00\">0</span> │ group2_features_… │\n",
       "├─────────────────────┼───────────────────┼────────────┼───────────────────┤\n",
       "│ flatten_4 (<span style=\"color: #0087ff; text-decoration-color: #0087ff\">Flatten</span>) │ (<span style=\"color: #00d7ff; text-decoration-color: #00d7ff\">None</span>, <span style=\"color: #00af00; text-decoration-color: #00af00\">16</span>)        │          <span style=\"color: #00af00; text-decoration-color: #00af00\">0</span> │ group3_features_… │\n",
       "├─────────────────────┼───────────────────┼────────────┼───────────────────┤\n",
       "│ input_layer         │ (<span style=\"color: #00d7ff; text-decoration-color: #00d7ff\">None</span>, <span style=\"color: #00af00; text-decoration-color: #00af00\">9</span>)         │          <span style=\"color: #00af00; text-decoration-color: #00af00\">0</span> │ -                 │\n",
       "│ (<span style=\"color: #0087ff; text-decoration-color: #0087ff\">InputLayer</span>)        │                   │            │                   │\n",
       "├─────────────────────┼───────────────────┼────────────┼───────────────────┤\n",
       "│ dense (<span style=\"color: #0087ff; text-decoration-color: #0087ff\">Dense</span>)       │ (<span style=\"color: #00d7ff; text-decoration-color: #00d7ff\">None</span>, <span style=\"color: #00af00; text-decoration-color: #00af00\">8</span>)         │        <span style=\"color: #00af00; text-decoration-color: #00af00\">392</span> │ flatten_1[<span style=\"color: #00af00; text-decoration-color: #00af00\">0</span>][<span style=\"color: #00af00; text-decoration-color: #00af00\">0</span>]   │\n",
       "├─────────────────────┼───────────────────┼────────────┼───────────────────┤\n",
       "│ dense_1 (<span style=\"color: #0087ff; text-decoration-color: #0087ff\">Dense</span>)     │ (<span style=\"color: #00d7ff; text-decoration-color: #00d7ff\">None</span>, <span style=\"color: #00af00; text-decoration-color: #00af00\">8</span>)         │        <span style=\"color: #00af00; text-decoration-color: #00af00\">136</span> │ flatten_2[<span style=\"color: #00af00; text-decoration-color: #00af00\">0</span>][<span style=\"color: #00af00; text-decoration-color: #00af00\">0</span>]   │\n",
       "├─────────────────────┼───────────────────┼────────────┼───────────────────┤\n",
       "│ dense_2 (<span style=\"color: #0087ff; text-decoration-color: #0087ff\">Dense</span>)     │ (<span style=\"color: #00d7ff; text-decoration-color: #00d7ff\">None</span>, <span style=\"color: #00af00; text-decoration-color: #00af00\">8</span>)         │        <span style=\"color: #00af00; text-decoration-color: #00af00\">136</span> │ flatten_3[<span style=\"color: #00af00; text-decoration-color: #00af00\">0</span>][<span style=\"color: #00af00; text-decoration-color: #00af00\">0</span>]   │\n",
       "├─────────────────────┼───────────────────┼────────────┼───────────────────┤\n",
       "│ dense_3 (<span style=\"color: #0087ff; text-decoration-color: #0087ff\">Dense</span>)     │ (<span style=\"color: #00d7ff; text-decoration-color: #00d7ff\">None</span>, <span style=\"color: #00af00; text-decoration-color: #00af00\">8</span>)         │        <span style=\"color: #00af00; text-decoration-color: #00af00\">136</span> │ flatten_4[<span style=\"color: #00af00; text-decoration-color: #00af00\">0</span>][<span style=\"color: #00af00; text-decoration-color: #00af00\">0</span>]   │\n",
       "├─────────────────────┼───────────────────┼────────────┼───────────────────┤\n",
       "│ flatten (<span style=\"color: #0087ff; text-decoration-color: #0087ff\">Flatten</span>)   │ (<span style=\"color: #00d7ff; text-decoration-color: #00d7ff\">None</span>, <span style=\"color: #00af00; text-decoration-color: #00af00\">9</span>)         │          <span style=\"color: #00af00; text-decoration-color: #00af00\">0</span> │ input_layer[<span style=\"color: #00af00; text-decoration-color: #00af00\">0</span>][<span style=\"color: #00af00; text-decoration-color: #00af00\">0</span>] │\n",
       "├─────────────────────┼───────────────────┼────────────┼───────────────────┤\n",
       "│ dropout (<span style=\"color: #0087ff; text-decoration-color: #0087ff\">Dropout</span>)   │ (<span style=\"color: #00d7ff; text-decoration-color: #00d7ff\">None</span>, <span style=\"color: #00af00; text-decoration-color: #00af00\">8</span>)         │          <span style=\"color: #00af00; text-decoration-color: #00af00\">0</span> │ dense[<span style=\"color: #00af00; text-decoration-color: #00af00\">0</span>][<span style=\"color: #00af00; text-decoration-color: #00af00\">0</span>]       │\n",
       "├─────────────────────┼───────────────────┼────────────┼───────────────────┤\n",
       "│ dropout_1 (<span style=\"color: #0087ff; text-decoration-color: #0087ff\">Dropout</span>) │ (<span style=\"color: #00d7ff; text-decoration-color: #00d7ff\">None</span>, <span style=\"color: #00af00; text-decoration-color: #00af00\">8</span>)         │          <span style=\"color: #00af00; text-decoration-color: #00af00\">0</span> │ dense_1[<span style=\"color: #00af00; text-decoration-color: #00af00\">0</span>][<span style=\"color: #00af00; text-decoration-color: #00af00\">0</span>]     │\n",
       "├─────────────────────┼───────────────────┼────────────┼───────────────────┤\n",
       "│ dropout_2 (<span style=\"color: #0087ff; text-decoration-color: #0087ff\">Dropout</span>) │ (<span style=\"color: #00d7ff; text-decoration-color: #00d7ff\">None</span>, <span style=\"color: #00af00; text-decoration-color: #00af00\">8</span>)         │          <span style=\"color: #00af00; text-decoration-color: #00af00\">0</span> │ dense_2[<span style=\"color: #00af00; text-decoration-color: #00af00\">0</span>][<span style=\"color: #00af00; text-decoration-color: #00af00\">0</span>]     │\n",
       "├─────────────────────┼───────────────────┼────────────┼───────────────────┤\n",
       "│ dropout_3 (<span style=\"color: #0087ff; text-decoration-color: #0087ff\">Dropout</span>) │ (<span style=\"color: #00d7ff; text-decoration-color: #00d7ff\">None</span>, <span style=\"color: #00af00; text-decoration-color: #00af00\">8</span>)         │          <span style=\"color: #00af00; text-decoration-color: #00af00\">0</span> │ dense_3[<span style=\"color: #00af00; text-decoration-color: #00af00\">0</span>][<span style=\"color: #00af00; text-decoration-color: #00af00\">0</span>]     │\n",
       "├─────────────────────┼───────────────────┼────────────┼───────────────────┤\n",
       "│ concatenate         │ (<span style=\"color: #00d7ff; text-decoration-color: #00d7ff\">None</span>, <span style=\"color: #00af00; text-decoration-color: #00af00\">41</span>)        │          <span style=\"color: #00af00; text-decoration-color: #00af00\">0</span> │ flatten[<span style=\"color: #00af00; text-decoration-color: #00af00\">0</span>][<span style=\"color: #00af00; text-decoration-color: #00af00\">0</span>],    │\n",
       "│ (<span style=\"color: #0087ff; text-decoration-color: #0087ff\">Concatenate</span>)       │                   │            │ dropout[<span style=\"color: #00af00; text-decoration-color: #00af00\">0</span>][<span style=\"color: #00af00; text-decoration-color: #00af00\">0</span>],    │\n",
       "│                     │                   │            │ dropout_1[<span style=\"color: #00af00; text-decoration-color: #00af00\">0</span>][<span style=\"color: #00af00; text-decoration-color: #00af00\">0</span>],  │\n",
       "│                     │                   │            │ dropout_2[<span style=\"color: #00af00; text-decoration-color: #00af00\">0</span>][<span style=\"color: #00af00; text-decoration-color: #00af00\">0</span>],  │\n",
       "│                     │                   │            │ dropout_3[<span style=\"color: #00af00; text-decoration-color: #00af00\">0</span>][<span style=\"color: #00af00; text-decoration-color: #00af00\">0</span>]   │\n",
       "├─────────────────────┼───────────────────┼────────────┼───────────────────┤\n",
       "│ dense_4 (<span style=\"color: #0087ff; text-decoration-color: #0087ff\">Dense</span>)     │ (<span style=\"color: #00d7ff; text-decoration-color: #00d7ff\">None</span>, <span style=\"color: #00af00; text-decoration-color: #00af00\">128</span>)       │      <span style=\"color: #00af00; text-decoration-color: #00af00\">5,376</span> │ concatenate[<span style=\"color: #00af00; text-decoration-color: #00af00\">0</span>][<span style=\"color: #00af00; text-decoration-color: #00af00\">0</span>] │\n",
       "├─────────────────────┼───────────────────┼────────────┼───────────────────┤\n",
       "│ dense_5 (<span style=\"color: #0087ff; text-decoration-color: #0087ff\">Dense</span>)     │ (<span style=\"color: #00d7ff; text-decoration-color: #00d7ff\">None</span>, <span style=\"color: #00af00; text-decoration-color: #00af00\">80</span>)        │     <span style=\"color: #00af00; text-decoration-color: #00af00\">10,320</span> │ dense_4[<span style=\"color: #00af00; text-decoration-color: #00af00\">0</span>][<span style=\"color: #00af00; text-decoration-color: #00af00\">0</span>]     │\n",
       "├─────────────────────┼───────────────────┼────────────┼───────────────────┤\n",
       "│ dense_6 (<span style=\"color: #0087ff; text-decoration-color: #0087ff\">Dense</span>)     │ (<span style=\"color: #00d7ff; text-decoration-color: #00d7ff\">None</span>, <span style=\"color: #00af00; text-decoration-color: #00af00\">32</span>)        │      <span style=\"color: #00af00; text-decoration-color: #00af00\">2,592</span> │ dense_5[<span style=\"color: #00af00; text-decoration-color: #00af00\">0</span>][<span style=\"color: #00af00; text-decoration-color: #00af00\">0</span>]     │\n",
       "├─────────────────────┼───────────────────┼────────────┼───────────────────┤\n",
       "│ dense_7 (<span style=\"color: #0087ff; text-decoration-color: #0087ff\">Dense</span>)     │ (<span style=\"color: #00d7ff; text-decoration-color: #00d7ff\">None</span>, <span style=\"color: #00af00; text-decoration-color: #00af00\">1</span>)         │         <span style=\"color: #00af00; text-decoration-color: #00af00\">33</span> │ dense_6[<span style=\"color: #00af00; text-decoration-color: #00af00\">0</span>][<span style=\"color: #00af00; text-decoration-color: #00af00\">0</span>]     │\n",
       "└─────────────────────┴───────────────────┴────────────┴───────────────────┘\n",
       "</pre>\n"
      ],
      "text/plain": [
       "┏━━━━━━━━━━━━━━━━━━━━━┳━━━━━━━━━━━━━━━━━━━┳━━━━━━━━━━━━┳━━━━━━━━━━━━━━━━━━━┓\n",
       "┃\u001b[1m \u001b[0m\u001b[1mLayer (type)       \u001b[0m\u001b[1m \u001b[0m┃\u001b[1m \u001b[0m\u001b[1mOutput Shape     \u001b[0m\u001b[1m \u001b[0m┃\u001b[1m \u001b[0m\u001b[1m   Param #\u001b[0m\u001b[1m \u001b[0m┃\u001b[1m \u001b[0m\u001b[1mConnected to     \u001b[0m\u001b[1m \u001b[0m┃\n",
       "┡━━━━━━━━━━━━━━━━━━━━━╇━━━━━━━━━━━━━━━━━━━╇━━━━━━━━━━━━╇━━━━━━━━━━━━━━━━━━━┩\n",
       "│ input_layer_1       │ (\u001b[38;5;45mNone\u001b[0m, \u001b[38;5;34m6\u001b[0m)         │          \u001b[38;5;34m0\u001b[0m │ -                 │\n",
       "│ (\u001b[38;5;33mInputLayer\u001b[0m)        │                   │            │                   │\n",
       "├─────────────────────┼───────────────────┼────────────┼───────────────────┤\n",
       "│ input_layer_2       │ (\u001b[38;5;45mNone\u001b[0m, \u001b[38;5;34m2\u001b[0m)         │          \u001b[38;5;34m0\u001b[0m │ -                 │\n",
       "│ (\u001b[38;5;33mInputLayer\u001b[0m)        │                   │            │                   │\n",
       "├─────────────────────┼───────────────────┼────────────┼───────────────────┤\n",
       "│ input_layer_3       │ (\u001b[38;5;45mNone\u001b[0m, \u001b[38;5;34m2\u001b[0m)         │          \u001b[38;5;34m0\u001b[0m │ -                 │\n",
       "│ (\u001b[38;5;33mInputLayer\u001b[0m)        │                   │            │                   │\n",
       "├─────────────────────┼───────────────────┼────────────┼───────────────────┤\n",
       "│ input_layer_4       │ (\u001b[38;5;45mNone\u001b[0m, \u001b[38;5;34m2\u001b[0m)         │          \u001b[38;5;34m0\u001b[0m │ -                 │\n",
       "│ (\u001b[38;5;33mInputLayer\u001b[0m)        │                   │            │                   │\n",
       "├─────────────────────┼───────────────────┼────────────┼───────────────────┤\n",
       "│ group0_features_em… │ (\u001b[38;5;45mNone\u001b[0m, \u001b[38;5;34m6\u001b[0m, \u001b[38;5;34m8\u001b[0m)      │     \u001b[38;5;34m65,544\u001b[0m │ input_layer_1[\u001b[38;5;34m0\u001b[0m]… │\n",
       "│ (\u001b[38;5;33mEmbedding\u001b[0m)         │                   │            │                   │\n",
       "├─────────────────────┼───────────────────┼────────────┼───────────────────┤\n",
       "│ group1_features_em… │ (\u001b[38;5;45mNone\u001b[0m, \u001b[38;5;34m2\u001b[0m, \u001b[38;5;34m8\u001b[0m)      │    \u001b[38;5;34m151,872\u001b[0m │ input_layer_2[\u001b[38;5;34m0\u001b[0m]… │\n",
       "│ (\u001b[38;5;33mEmbedding\u001b[0m)         │                   │            │                   │\n",
       "├─────────────────────┼───────────────────┼────────────┼───────────────────┤\n",
       "│ group2_features_em… │ (\u001b[38;5;45mNone\u001b[0m, \u001b[38;5;34m2\u001b[0m, \u001b[38;5;34m8\u001b[0m)      │    \u001b[38;5;34m127,152\u001b[0m │ input_layer_3[\u001b[38;5;34m0\u001b[0m]… │\n",
       "│ (\u001b[38;5;33mEmbedding\u001b[0m)         │                   │            │                   │\n",
       "├─────────────────────┼───────────────────┼────────────┼───────────────────┤\n",
       "│ group3_features_em… │ (\u001b[38;5;45mNone\u001b[0m, \u001b[38;5;34m2\u001b[0m, \u001b[38;5;34m8\u001b[0m)      │      \u001b[38;5;34m3,776\u001b[0m │ input_layer_4[\u001b[38;5;34m0\u001b[0m]… │\n",
       "│ (\u001b[38;5;33mEmbedding\u001b[0m)         │                   │            │                   │\n",
       "├─────────────────────┼───────────────────┼────────────┼───────────────────┤\n",
       "│ flatten_1 (\u001b[38;5;33mFlatten\u001b[0m) │ (\u001b[38;5;45mNone\u001b[0m, \u001b[38;5;34m48\u001b[0m)        │          \u001b[38;5;34m0\u001b[0m │ group0_features_… │\n",
       "├─────────────────────┼───────────────────┼────────────┼───────────────────┤\n",
       "│ flatten_2 (\u001b[38;5;33mFlatten\u001b[0m) │ (\u001b[38;5;45mNone\u001b[0m, \u001b[38;5;34m16\u001b[0m)        │          \u001b[38;5;34m0\u001b[0m │ group1_features_… │\n",
       "├─────────────────────┼───────────────────┼────────────┼───────────────────┤\n",
       "│ flatten_3 (\u001b[38;5;33mFlatten\u001b[0m) │ (\u001b[38;5;45mNone\u001b[0m, \u001b[38;5;34m16\u001b[0m)        │          \u001b[38;5;34m0\u001b[0m │ group2_features_… │\n",
       "├─────────────────────┼───────────────────┼────────────┼───────────────────┤\n",
       "│ flatten_4 (\u001b[38;5;33mFlatten\u001b[0m) │ (\u001b[38;5;45mNone\u001b[0m, \u001b[38;5;34m16\u001b[0m)        │          \u001b[38;5;34m0\u001b[0m │ group3_features_… │\n",
       "├─────────────────────┼───────────────────┼────────────┼───────────────────┤\n",
       "│ input_layer         │ (\u001b[38;5;45mNone\u001b[0m, \u001b[38;5;34m9\u001b[0m)         │          \u001b[38;5;34m0\u001b[0m │ -                 │\n",
       "│ (\u001b[38;5;33mInputLayer\u001b[0m)        │                   │            │                   │\n",
       "├─────────────────────┼───────────────────┼────────────┼───────────────────┤\n",
       "│ dense (\u001b[38;5;33mDense\u001b[0m)       │ (\u001b[38;5;45mNone\u001b[0m, \u001b[38;5;34m8\u001b[0m)         │        \u001b[38;5;34m392\u001b[0m │ flatten_1[\u001b[38;5;34m0\u001b[0m][\u001b[38;5;34m0\u001b[0m]   │\n",
       "├─────────────────────┼───────────────────┼────────────┼───────────────────┤\n",
       "│ dense_1 (\u001b[38;5;33mDense\u001b[0m)     │ (\u001b[38;5;45mNone\u001b[0m, \u001b[38;5;34m8\u001b[0m)         │        \u001b[38;5;34m136\u001b[0m │ flatten_2[\u001b[38;5;34m0\u001b[0m][\u001b[38;5;34m0\u001b[0m]   │\n",
       "├─────────────────────┼───────────────────┼────────────┼───────────────────┤\n",
       "│ dense_2 (\u001b[38;5;33mDense\u001b[0m)     │ (\u001b[38;5;45mNone\u001b[0m, \u001b[38;5;34m8\u001b[0m)         │        \u001b[38;5;34m136\u001b[0m │ flatten_3[\u001b[38;5;34m0\u001b[0m][\u001b[38;5;34m0\u001b[0m]   │\n",
       "├─────────────────────┼───────────────────┼────────────┼───────────────────┤\n",
       "│ dense_3 (\u001b[38;5;33mDense\u001b[0m)     │ (\u001b[38;5;45mNone\u001b[0m, \u001b[38;5;34m8\u001b[0m)         │        \u001b[38;5;34m136\u001b[0m │ flatten_4[\u001b[38;5;34m0\u001b[0m][\u001b[38;5;34m0\u001b[0m]   │\n",
       "├─────────────────────┼───────────────────┼────────────┼───────────────────┤\n",
       "│ flatten (\u001b[38;5;33mFlatten\u001b[0m)   │ (\u001b[38;5;45mNone\u001b[0m, \u001b[38;5;34m9\u001b[0m)         │          \u001b[38;5;34m0\u001b[0m │ input_layer[\u001b[38;5;34m0\u001b[0m][\u001b[38;5;34m0\u001b[0m] │\n",
       "├─────────────────────┼───────────────────┼────────────┼───────────────────┤\n",
       "│ dropout (\u001b[38;5;33mDropout\u001b[0m)   │ (\u001b[38;5;45mNone\u001b[0m, \u001b[38;5;34m8\u001b[0m)         │          \u001b[38;5;34m0\u001b[0m │ dense[\u001b[38;5;34m0\u001b[0m][\u001b[38;5;34m0\u001b[0m]       │\n",
       "├─────────────────────┼───────────────────┼────────────┼───────────────────┤\n",
       "│ dropout_1 (\u001b[38;5;33mDropout\u001b[0m) │ (\u001b[38;5;45mNone\u001b[0m, \u001b[38;5;34m8\u001b[0m)         │          \u001b[38;5;34m0\u001b[0m │ dense_1[\u001b[38;5;34m0\u001b[0m][\u001b[38;5;34m0\u001b[0m]     │\n",
       "├─────────────────────┼───────────────────┼────────────┼───────────────────┤\n",
       "│ dropout_2 (\u001b[38;5;33mDropout\u001b[0m) │ (\u001b[38;5;45mNone\u001b[0m, \u001b[38;5;34m8\u001b[0m)         │          \u001b[38;5;34m0\u001b[0m │ dense_2[\u001b[38;5;34m0\u001b[0m][\u001b[38;5;34m0\u001b[0m]     │\n",
       "├─────────────────────┼───────────────────┼────────────┼───────────────────┤\n",
       "│ dropout_3 (\u001b[38;5;33mDropout\u001b[0m) │ (\u001b[38;5;45mNone\u001b[0m, \u001b[38;5;34m8\u001b[0m)         │          \u001b[38;5;34m0\u001b[0m │ dense_3[\u001b[38;5;34m0\u001b[0m][\u001b[38;5;34m0\u001b[0m]     │\n",
       "├─────────────────────┼───────────────────┼────────────┼───────────────────┤\n",
       "│ concatenate         │ (\u001b[38;5;45mNone\u001b[0m, \u001b[38;5;34m41\u001b[0m)        │          \u001b[38;5;34m0\u001b[0m │ flatten[\u001b[38;5;34m0\u001b[0m][\u001b[38;5;34m0\u001b[0m],    │\n",
       "│ (\u001b[38;5;33mConcatenate\u001b[0m)       │                   │            │ dropout[\u001b[38;5;34m0\u001b[0m][\u001b[38;5;34m0\u001b[0m],    │\n",
       "│                     │                   │            │ dropout_1[\u001b[38;5;34m0\u001b[0m][\u001b[38;5;34m0\u001b[0m],  │\n",
       "│                     │                   │            │ dropout_2[\u001b[38;5;34m0\u001b[0m][\u001b[38;5;34m0\u001b[0m],  │\n",
       "│                     │                   │            │ dropout_3[\u001b[38;5;34m0\u001b[0m][\u001b[38;5;34m0\u001b[0m]   │\n",
       "├─────────────────────┼───────────────────┼────────────┼───────────────────┤\n",
       "│ dense_4 (\u001b[38;5;33mDense\u001b[0m)     │ (\u001b[38;5;45mNone\u001b[0m, \u001b[38;5;34m128\u001b[0m)       │      \u001b[38;5;34m5,376\u001b[0m │ concatenate[\u001b[38;5;34m0\u001b[0m][\u001b[38;5;34m0\u001b[0m] │\n",
       "├─────────────────────┼───────────────────┼────────────┼───────────────────┤\n",
       "│ dense_5 (\u001b[38;5;33mDense\u001b[0m)     │ (\u001b[38;5;45mNone\u001b[0m, \u001b[38;5;34m80\u001b[0m)        │     \u001b[38;5;34m10,320\u001b[0m │ dense_4[\u001b[38;5;34m0\u001b[0m][\u001b[38;5;34m0\u001b[0m]     │\n",
       "├─────────────────────┼───────────────────┼────────────┼───────────────────┤\n",
       "│ dense_6 (\u001b[38;5;33mDense\u001b[0m)     │ (\u001b[38;5;45mNone\u001b[0m, \u001b[38;5;34m32\u001b[0m)        │      \u001b[38;5;34m2,592\u001b[0m │ dense_5[\u001b[38;5;34m0\u001b[0m][\u001b[38;5;34m0\u001b[0m]     │\n",
       "├─────────────────────┼───────────────────┼────────────┼───────────────────┤\n",
       "│ dense_7 (\u001b[38;5;33mDense\u001b[0m)     │ (\u001b[38;5;45mNone\u001b[0m, \u001b[38;5;34m1\u001b[0m)         │         \u001b[38;5;34m33\u001b[0m │ dense_6[\u001b[38;5;34m0\u001b[0m][\u001b[38;5;34m0\u001b[0m]     │\n",
       "└─────────────────────┴───────────────────┴────────────┴───────────────────┘\n"
      ]
     },
     "metadata": {},
     "output_type": "display_data"
    },
    {
     "data": {
      "text/html": [
       "<pre style=\"white-space:pre;overflow-x:auto;line-height:normal;font-family:Menlo,'DejaVu Sans Mono',consolas,'Courier New',monospace\"><span style=\"font-weight: bold\"> Total params: </span><span style=\"color: #00af00; text-decoration-color: #00af00\">367,465</span> (1.40 MB)\n",
       "</pre>\n"
      ],
      "text/plain": [
       "\u001b[1m Total params: \u001b[0m\u001b[38;5;34m367,465\u001b[0m (1.40 MB)\n"
      ]
     },
     "metadata": {},
     "output_type": "display_data"
    },
    {
     "data": {
      "text/html": [
       "<pre style=\"white-space:pre;overflow-x:auto;line-height:normal;font-family:Menlo,'DejaVu Sans Mono',consolas,'Courier New',monospace\"><span style=\"font-weight: bold\"> Trainable params: </span><span style=\"color: #00af00; text-decoration-color: #00af00\">367,465</span> (1.40 MB)\n",
       "</pre>\n"
      ],
      "text/plain": [
       "\u001b[1m Trainable params: \u001b[0m\u001b[38;5;34m367,465\u001b[0m (1.40 MB)\n"
      ]
     },
     "metadata": {},
     "output_type": "display_data"
    },
    {
     "data": {
      "text/html": [
       "<pre style=\"white-space:pre;overflow-x:auto;line-height:normal;font-family:Menlo,'DejaVu Sans Mono',consolas,'Courier New',monospace\"><span style=\"font-weight: bold\"> Non-trainable params: </span><span style=\"color: #00af00; text-decoration-color: #00af00\">0</span> (0.00 B)\n",
       "</pre>\n"
      ],
      "text/plain": [
       "\u001b[1m Non-trainable params: \u001b[0m\u001b[38;5;34m0\u001b[0m (0.00 B)\n"
      ]
     },
     "metadata": {},
     "output_type": "display_data"
    },
    {
     "name": "stdout",
     "output_type": "stream",
     "text": [
      "None\n"
     ]
    },
    {
     "name": "stderr",
     "output_type": "stream",
     "text": [
      "c:\\Users\\Admin\\AppData\\Local\\Programs\\Python\\Python310\\lib\\site-packages\\keras\\src\\saving\\saving_lib.py:719: UserWarning: Skipping variable loading for optimizer 'adam', because it has 2 variables whereas the saved optimizer has 42 variables. \n",
      "  saveable.load_own_variables(weights_store.get(inner_path))\n",
      "c:\\Users\\Admin\\AppData\\Local\\Programs\\Python\\Python310\\lib\\site-packages\\keras\\src\\models\\functional.py:225: UserWarning: The structure of `inputs` doesn't match the expected structure: ['keras_tensor', 'keras_tensor_2', 'keras_tensor_7', 'keras_tensor_12', 'keras_tensor_17']. Received: the structure of inputs=('*', '*', '*', '*', '*')\n",
      "  warnings.warn(\n"
     ]
    },
    {
     "name": "stdout",
     "output_type": "stream",
     "text": [
      "\u001b[1m165/165\u001b[0m \u001b[32m━━━━━━━━━━━━━━━━━━━━\u001b[0m\u001b[37m\u001b[0m \u001b[1m1s\u001b[0m 2ms/step - loss: 0.9078 - msle: 0.9078\n",
      "Mean Square Logarithmic Error for MLP: 0.92\n"
     ]
    }
   ],
   "source": [
    "best_model_MLP = tuner_MLP.get_best_models()[0]\n",
    "loss_MLP, msle_MLP = best_model_MLP.evaluate([np.array(x_Test_num), \n",
    "              np.array(x_Test_cate[group1_features]), np.array(x_Test_cate[group2_features]),\n",
    "              np.array(x_Test_cate[group3_features]), np.array(x_Test_cate[group4_features])], np.array(y_Test).reshape(-1))\n",
    "\n",
    "\n",
    "print(f\"Mean Square Logarithmic Error for MLP: {msle_MLP:.2f}\" )"
   ]
  },
  {
   "cell_type": "markdown",
   "id": "0cf79584",
   "metadata": {},
   "source": [
    "##### 1.5.2. Convolution Neural Network - CNN"
   ]
  },
  {
   "cell_type": "markdown",
   "id": "e096a25b",
   "metadata": {},
   "source": [
    "![Convolution Neural Network Architecture](./img/cnn.png)\n",
    "\n",
    "Source: Own"
   ]
  },
  {
   "cell_type": "code",
   "execution_count": 233,
   "id": "8d5bd546",
   "metadata": {},
   "outputs": [],
   "source": [
    "\n",
    "def MyCNN(hp: kt.HyperParameters):\n",
    "    \n",
    "    ## <------- For numerical inputs ------>\n",
    "    \n",
    "    # Numerical Input\n",
    "    num_input = keras.layers.Input(shape=(x_Train_num.shape[1],))\n",
    "    x_num = keras.layers.Flatten()(num_input)\n",
    "    \n",
    "    x_num = keras.layers.Reshape((x_Train_num.shape[1], 1))(x_num)\n",
    "    \n",
    "    # Convolution for numerical data\n",
    "    x_num = keras.layers.Conv1D(filters=hp.Int('dim_Conv_num_bin_1', min_value=8, max_value=64, step=16), \n",
    "                                    kernel_size=3, strides=2, activation='relu', padding='same')(x_num)\n",
    "    x_num = keras.layers.Conv1D(filters=hp.Int('dim_Conv_num_bin_2', min_value=64, max_value=128, step=16), \n",
    "                                    kernel_size=3, strides=2, activation='relu', padding='same')(x_num)\n",
    "    x_num = keras.layers.Conv1D(filters=hp.Int('dim_Conv_num_bin_2', min_value=128, max_value=256, step=16), \n",
    "                                    kernel_size=3, strides=1, activation='relu', padding='valid')(x_num)\n",
    "    x_num = keras.layers.Dropout(0.2)(x_num)\n",
    "    x_num = keras.layers.Flatten()(x_num)\n",
    "    \n",
    "    \n",
    "    ## <------- For categorical inputs ------>\n",
    "    \n",
    "    # output dimension of embedding layers\n",
    "    output_embed_dim = hp.Int('embedding_dim', min_value=8, max_value=64, step=16)\n",
    "    \n",
    "    # Group2,3,4 inputs\n",
    "    x_group_234 = []\n",
    "    group_234_input = []\n",
    "    for i, feature in enumerate(features):\n",
    "        if i != 0:\n",
    "            inp = keras.layers.Input(shape=(len(feature),))\n",
    "            embed = keras.layers.Embedding(input_dim=dims[i], \n",
    "                                        output_dim=output_embed_dim, \n",
    "                                        name=f'group{i+1}_embed')(inp)\n",
    "            # embed = keras.layers.Flatten()(embed)\n",
    "            group_234_input.append(inp)\n",
    "            # # Convolution layer for group 2, 3, 4\n",
    "            embed = keras.layers.Conv1D(filters=hp.Int(f'dim_Conv_group{i+1}_1', min_value=32, max_value=64, step=16), \n",
    "                                            kernel_size=2, strides=1, activation='relu', padding='same')(embed)\n",
    "            embed = keras.layers.Conv1D(filters=hp.Int(f'dim_Conv_group{i+1}_2', min_value=64, max_value=256, step=32), \n",
    "                                            kernel_size=2, strides=1, activation='relu', padding='valid')(embed)\n",
    "            embed =  keras.layers.Dropout(0.2)(embed)\n",
    "            embed = keras.layers.Flatten()(embed)\n",
    "            x_group_234.append(embed)              # Put the conv1d output of each group of features in the list\n",
    "    \n",
    "    # Group1 inputs\n",
    "    group1_inputs = keras.layers.Input(shape=(len(group1_features),))\n",
    "    \n",
    "    embed = keras.layers.Embedding(input_dim=dims[0], \n",
    "                                       output_dim=hp.Int(f'dim_embedding_group1_features', min_value=8, max_value=64, step=16), \n",
    "                                       name='group1_features_embed')(group1_inputs)\n",
    "    \n",
    "    # Convolution layer for group1\n",
    "    x_group_1 = keras.layers.Conv1D(filters=hp.Int('dim_Conv_group1_1', min_value=8, max_value=64, step=16), \n",
    "                                    kernel_size=3, strides=2, activation='relu', padding='same')(embed)\n",
    "    x_group_1 = keras.layers.Conv1D(filters=hp.Int('dim_Conv_group1_2', min_value=64, max_value=128, step=16), \n",
    "                                    kernel_size=3, strides=2, activation='relu', padding='same')(x_group_1)\n",
    "    x_group_1 = keras.layers.Conv1D(filters=hp.Int('dim_Conv_group1_3', min_value=128, max_value=256, step=16), \n",
    "                                    kernel_size=3, strides=2, activation='relu', padding='same')(x_group_1)\n",
    "    x_group_1 = keras.layers.Dropout(0.2)(x_group_1)\n",
    "    x_group_1 = keras.layers.Flatten()(x_group_1)\n",
    "    \n",
    "    \n",
    "    ## <---- Fully connection ----->\n",
    "    \n",
    "    # Concatenation for numerical, binary and categorical input after convolution layers\n",
    "    x = keras.layers.Concatenate(axis=1)([x_num, x_group_1] + x_group_234)\n",
    "    \n",
    "    # Fully connected layers\n",
    "    outputs = keras.layers.Dense(units = 1, activation='linear')(x)\n",
    "    \n",
    "    # Build the model\n",
    "    model = keras.models.Model(inputs=[num_input, group1_inputs] + group_234_input, outputs=outputs)\n",
    "    \n",
    "    # compile the model\n",
    "    model.compile(optimizer='adam', loss='msle', metrics=['msle'])\n",
    "    \n",
    "    # summarize the model\n",
    "    print(model.summary())\n",
    "    \n",
    "    return model\n",
    "    "
   ]
  },
  {
   "cell_type": "code",
   "execution_count": 238,
   "id": "024b6442",
   "metadata": {},
   "outputs": [
    {
     "name": "stdout",
     "output_type": "stream",
     "text": [
      "Trial 10 Complete [00h 00m 58s]\n",
      "val_loss: 1.065916895866394\n",
      "\n",
      "Best val_loss So Far: 1.0489855408668518\n",
      "Total elapsed time: 00h 09m 36s\n"
     ]
    }
   ],
   "source": [
    "# simple early stopping\n",
    "es = keras.callbacks.EarlyStopping(monitor='val_loss', patience=5, mode='min', restore_best_weights=True, verbose=1)\n",
    "mc = keras.callbacks.ModelCheckpoint(\"best-model-cnn.weights.h5\", monitor=\"val_loss\", save_best_only=True, save_weights_only=True)\n",
    "\n",
    "# Random Search the hyperparameters\n",
    "tuner_CNN = kt.GridSearch(\n",
    "    hypermodel= MyCNN,\n",
    "    objective=\"val_loss\",\n",
    "    max_trials=10,\n",
    "    executions_per_trial=2,\n",
    "    overwrite=True,\n",
    "    directory=\"my_dir\",\n",
    "    project_name=\"CNN\",\n",
    ")\n",
    "\n",
    "\n",
    "tuner_CNN.search([np.array(x_Train_num), \n",
    "              np.array(x_Train_cate[group1_features]), np.array(x_Train_cate[group2_features]),\n",
    "              np.array(x_Train_cate[group3_features]), np.array(x_Train_cate[group4_features])], \n",
    "             np.array(y_Train).reshape(-1),\n",
    "                    validation_split=0.2, epochs=30, verbose=1, callbacks=[es,mc])"
   ]
  },
  {
   "cell_type": "code",
   "execution_count": 245,
   "id": "1d13ec29",
   "metadata": {},
   "outputs": [
    {
     "data": {
      "text/html": [
       "<pre style=\"white-space:pre;overflow-x:auto;line-height:normal;font-family:Menlo,'DejaVu Sans Mono',consolas,'Courier New',monospace\"><span style=\"font-weight: bold\">Model: \"functional\"</span>\n",
       "</pre>\n"
      ],
      "text/plain": [
       "\u001b[1mModel: \"functional\"\u001b[0m\n"
      ]
     },
     "metadata": {},
     "output_type": "display_data"
    },
    {
     "data": {
      "text/html": [
       "<pre style=\"white-space:pre;overflow-x:auto;line-height:normal;font-family:Menlo,'DejaVu Sans Mono',consolas,'Courier New',monospace\">┏━━━━━━━━━━━━━━━━━━━━━┳━━━━━━━━━━━━━━━━━━━┳━━━━━━━━━━━━┳━━━━━━━━━━━━━━━━━━━┓\n",
       "┃<span style=\"font-weight: bold\"> Layer (type)        </span>┃<span style=\"font-weight: bold\"> Output Shape      </span>┃<span style=\"font-weight: bold\">    Param # </span>┃<span style=\"font-weight: bold\"> Connected to      </span>┃\n",
       "┡━━━━━━━━━━━━━━━━━━━━━╇━━━━━━━━━━━━━━━━━━━╇━━━━━━━━━━━━╇━━━━━━━━━━━━━━━━━━━┩\n",
       "│ input_layer         │ (<span style=\"color: #00d7ff; text-decoration-color: #00d7ff\">None</span>, <span style=\"color: #00af00; text-decoration-color: #00af00\">9</span>)         │          <span style=\"color: #00af00; text-decoration-color: #00af00\">0</span> │ -                 │\n",
       "│ (<span style=\"color: #0087ff; text-decoration-color: #0087ff\">InputLayer</span>)        │                   │            │                   │\n",
       "├─────────────────────┼───────────────────┼────────────┼───────────────────┤\n",
       "│ flatten (<span style=\"color: #0087ff; text-decoration-color: #0087ff\">Flatten</span>)   │ (<span style=\"color: #00d7ff; text-decoration-color: #00d7ff\">None</span>, <span style=\"color: #00af00; text-decoration-color: #00af00\">9</span>)         │          <span style=\"color: #00af00; text-decoration-color: #00af00\">0</span> │ input_layer[<span style=\"color: #00af00; text-decoration-color: #00af00\">0</span>][<span style=\"color: #00af00; text-decoration-color: #00af00\">0</span>] │\n",
       "├─────────────────────┼───────────────────┼────────────┼───────────────────┤\n",
       "│ input_layer_4       │ (<span style=\"color: #00d7ff; text-decoration-color: #00d7ff\">None</span>, <span style=\"color: #00af00; text-decoration-color: #00af00\">6</span>)         │          <span style=\"color: #00af00; text-decoration-color: #00af00\">0</span> │ -                 │\n",
       "│ (<span style=\"color: #0087ff; text-decoration-color: #0087ff\">InputLayer</span>)        │                   │            │                   │\n",
       "├─────────────────────┼───────────────────┼────────────┼───────────────────┤\n",
       "│ reshape (<span style=\"color: #0087ff; text-decoration-color: #0087ff\">Reshape</span>)   │ (<span style=\"color: #00d7ff; text-decoration-color: #00d7ff\">None</span>, <span style=\"color: #00af00; text-decoration-color: #00af00\">9</span>, <span style=\"color: #00af00; text-decoration-color: #00af00\">1</span>)      │          <span style=\"color: #00af00; text-decoration-color: #00af00\">0</span> │ flatten[<span style=\"color: #00af00; text-decoration-color: #00af00\">0</span>][<span style=\"color: #00af00; text-decoration-color: #00af00\">0</span>]     │\n",
       "├─────────────────────┼───────────────────┼────────────┼───────────────────┤\n",
       "│ group1_features_em… │ (<span style=\"color: #00d7ff; text-decoration-color: #00d7ff\">None</span>, <span style=\"color: #00af00; text-decoration-color: #00af00\">6</span>, <span style=\"color: #00af00; text-decoration-color: #00af00\">8</span>)      │     <span style=\"color: #00af00; text-decoration-color: #00af00\">65,544</span> │ input_layer_4[<span style=\"color: #00af00; text-decoration-color: #00af00\">0</span>]… │\n",
       "│ (<span style=\"color: #0087ff; text-decoration-color: #0087ff\">Embedding</span>)         │                   │            │                   │\n",
       "├─────────────────────┼───────────────────┼────────────┼───────────────────┤\n",
       "│ input_layer_1       │ (<span style=\"color: #00d7ff; text-decoration-color: #00d7ff\">None</span>, <span style=\"color: #00af00; text-decoration-color: #00af00\">2</span>)         │          <span style=\"color: #00af00; text-decoration-color: #00af00\">0</span> │ -                 │\n",
       "│ (<span style=\"color: #0087ff; text-decoration-color: #0087ff\">InputLayer</span>)        │                   │            │                   │\n",
       "├─────────────────────┼───────────────────┼────────────┼───────────────────┤\n",
       "│ input_layer_2       │ (<span style=\"color: #00d7ff; text-decoration-color: #00d7ff\">None</span>, <span style=\"color: #00af00; text-decoration-color: #00af00\">2</span>)         │          <span style=\"color: #00af00; text-decoration-color: #00af00\">0</span> │ -                 │\n",
       "│ (<span style=\"color: #0087ff; text-decoration-color: #0087ff\">InputLayer</span>)        │                   │            │                   │\n",
       "├─────────────────────┼───────────────────┼────────────┼───────────────────┤\n",
       "│ input_layer_3       │ (<span style=\"color: #00d7ff; text-decoration-color: #00d7ff\">None</span>, <span style=\"color: #00af00; text-decoration-color: #00af00\">2</span>)         │          <span style=\"color: #00af00; text-decoration-color: #00af00\">0</span> │ -                 │\n",
       "│ (<span style=\"color: #0087ff; text-decoration-color: #0087ff\">InputLayer</span>)        │                   │            │                   │\n",
       "├─────────────────────┼───────────────────┼────────────┼───────────────────┤\n",
       "│ conv1d (<span style=\"color: #0087ff; text-decoration-color: #0087ff\">Conv1D</span>)     │ (<span style=\"color: #00d7ff; text-decoration-color: #00d7ff\">None</span>, <span style=\"color: #00af00; text-decoration-color: #00af00\">5</span>, <span style=\"color: #00af00; text-decoration-color: #00af00\">8</span>)      │         <span style=\"color: #00af00; text-decoration-color: #00af00\">32</span> │ reshape[<span style=\"color: #00af00; text-decoration-color: #00af00\">0</span>][<span style=\"color: #00af00; text-decoration-color: #00af00\">0</span>]     │\n",
       "├─────────────────────┼───────────────────┼────────────┼───────────────────┤\n",
       "│ conv1d_9 (<span style=\"color: #0087ff; text-decoration-color: #0087ff\">Conv1D</span>)   │ (<span style=\"color: #00d7ff; text-decoration-color: #00d7ff\">None</span>, <span style=\"color: #00af00; text-decoration-color: #00af00\">3</span>, <span style=\"color: #00af00; text-decoration-color: #00af00\">8</span>)      │        <span style=\"color: #00af00; text-decoration-color: #00af00\">200</span> │ group1_features_… │\n",
       "├─────────────────────┼───────────────────┼────────────┼───────────────────┤\n",
       "│ group2_embed        │ (<span style=\"color: #00d7ff; text-decoration-color: #00d7ff\">None</span>, <span style=\"color: #00af00; text-decoration-color: #00af00\">2</span>, <span style=\"color: #00af00; text-decoration-color: #00af00\">8</span>)      │    <span style=\"color: #00af00; text-decoration-color: #00af00\">151,872</span> │ input_layer_1[<span style=\"color: #00af00; text-decoration-color: #00af00\">0</span>]… │\n",
       "│ (<span style=\"color: #0087ff; text-decoration-color: #0087ff\">Embedding</span>)         │                   │            │                   │\n",
       "├─────────────────────┼───────────────────┼────────────┼───────────────────┤\n",
       "│ group3_embed        │ (<span style=\"color: #00d7ff; text-decoration-color: #00d7ff\">None</span>, <span style=\"color: #00af00; text-decoration-color: #00af00\">2</span>, <span style=\"color: #00af00; text-decoration-color: #00af00\">8</span>)      │    <span style=\"color: #00af00; text-decoration-color: #00af00\">127,152</span> │ input_layer_2[<span style=\"color: #00af00; text-decoration-color: #00af00\">0</span>]… │\n",
       "│ (<span style=\"color: #0087ff; text-decoration-color: #0087ff\">Embedding</span>)         │                   │            │                   │\n",
       "├─────────────────────┼───────────────────┼────────────┼───────────────────┤\n",
       "│ group4_embed        │ (<span style=\"color: #00d7ff; text-decoration-color: #00d7ff\">None</span>, <span style=\"color: #00af00; text-decoration-color: #00af00\">2</span>, <span style=\"color: #00af00; text-decoration-color: #00af00\">8</span>)      │      <span style=\"color: #00af00; text-decoration-color: #00af00\">3,776</span> │ input_layer_3[<span style=\"color: #00af00; text-decoration-color: #00af00\">0</span>]… │\n",
       "│ (<span style=\"color: #0087ff; text-decoration-color: #0087ff\">Embedding</span>)         │                   │            │                   │\n",
       "├─────────────────────┼───────────────────┼────────────┼───────────────────┤\n",
       "│ conv1d_1 (<span style=\"color: #0087ff; text-decoration-color: #0087ff\">Conv1D</span>)   │ (<span style=\"color: #00d7ff; text-decoration-color: #00d7ff\">None</span>, <span style=\"color: #00af00; text-decoration-color: #00af00\">3</span>, <span style=\"color: #00af00; text-decoration-color: #00af00\">64</span>)     │      <span style=\"color: #00af00; text-decoration-color: #00af00\">1,600</span> │ conv1d[<span style=\"color: #00af00; text-decoration-color: #00af00\">0</span>][<span style=\"color: #00af00; text-decoration-color: #00af00\">0</span>]      │\n",
       "├─────────────────────┼───────────────────┼────────────┼───────────────────┤\n",
       "│ conv1d_10 (<span style=\"color: #0087ff; text-decoration-color: #0087ff\">Conv1D</span>)  │ (<span style=\"color: #00d7ff; text-decoration-color: #00d7ff\">None</span>, <span style=\"color: #00af00; text-decoration-color: #00af00\">2</span>, <span style=\"color: #00af00; text-decoration-color: #00af00\">64</span>)     │      <span style=\"color: #00af00; text-decoration-color: #00af00\">1,600</span> │ conv1d_9[<span style=\"color: #00af00; text-decoration-color: #00af00\">0</span>][<span style=\"color: #00af00; text-decoration-color: #00af00\">0</span>]    │\n",
       "├─────────────────────┼───────────────────┼────────────┼───────────────────┤\n",
       "│ conv1d_3 (<span style=\"color: #0087ff; text-decoration-color: #0087ff\">Conv1D</span>)   │ (<span style=\"color: #00d7ff; text-decoration-color: #00d7ff\">None</span>, <span style=\"color: #00af00; text-decoration-color: #00af00\">2</span>, <span style=\"color: #00af00; text-decoration-color: #00af00\">32</span>)     │        <span style=\"color: #00af00; text-decoration-color: #00af00\">544</span> │ group2_embed[<span style=\"color: #00af00; text-decoration-color: #00af00\">0</span>][<span style=\"color: #00af00; text-decoration-color: #00af00\">…</span> │\n",
       "├─────────────────────┼───────────────────┼────────────┼───────────────────┤\n",
       "│ conv1d_5 (<span style=\"color: #0087ff; text-decoration-color: #0087ff\">Conv1D</span>)   │ (<span style=\"color: #00d7ff; text-decoration-color: #00d7ff\">None</span>, <span style=\"color: #00af00; text-decoration-color: #00af00\">2</span>, <span style=\"color: #00af00; text-decoration-color: #00af00\">32</span>)     │        <span style=\"color: #00af00; text-decoration-color: #00af00\">544</span> │ group3_embed[<span style=\"color: #00af00; text-decoration-color: #00af00\">0</span>][<span style=\"color: #00af00; text-decoration-color: #00af00\">…</span> │\n",
       "├─────────────────────┼───────────────────┼────────────┼───────────────────┤\n",
       "│ conv1d_7 (<span style=\"color: #0087ff; text-decoration-color: #0087ff\">Conv1D</span>)   │ (<span style=\"color: #00d7ff; text-decoration-color: #00d7ff\">None</span>, <span style=\"color: #00af00; text-decoration-color: #00af00\">2</span>, <span style=\"color: #00af00; text-decoration-color: #00af00\">32</span>)     │        <span style=\"color: #00af00; text-decoration-color: #00af00\">544</span> │ group4_embed[<span style=\"color: #00af00; text-decoration-color: #00af00\">0</span>][<span style=\"color: #00af00; text-decoration-color: #00af00\">…</span> │\n",
       "├─────────────────────┼───────────────────┼────────────┼───────────────────┤\n",
       "│ conv1d_2 (<span style=\"color: #0087ff; text-decoration-color: #0087ff\">Conv1D</span>)   │ (<span style=\"color: #00d7ff; text-decoration-color: #00d7ff\">None</span>, <span style=\"color: #00af00; text-decoration-color: #00af00\">1</span>, <span style=\"color: #00af00; text-decoration-color: #00af00\">64</span>)     │     <span style=\"color: #00af00; text-decoration-color: #00af00\">12,352</span> │ conv1d_1[<span style=\"color: #00af00; text-decoration-color: #00af00\">0</span>][<span style=\"color: #00af00; text-decoration-color: #00af00\">0</span>]    │\n",
       "├─────────────────────┼───────────────────┼────────────┼───────────────────┤\n",
       "│ conv1d_11 (<span style=\"color: #0087ff; text-decoration-color: #0087ff\">Conv1D</span>)  │ (<span style=\"color: #00d7ff; text-decoration-color: #00d7ff\">None</span>, <span style=\"color: #00af00; text-decoration-color: #00af00\">1</span>, <span style=\"color: #00af00; text-decoration-color: #00af00\">128</span>)    │     <span style=\"color: #00af00; text-decoration-color: #00af00\">24,704</span> │ conv1d_10[<span style=\"color: #00af00; text-decoration-color: #00af00\">0</span>][<span style=\"color: #00af00; text-decoration-color: #00af00\">0</span>]   │\n",
       "├─────────────────────┼───────────────────┼────────────┼───────────────────┤\n",
       "│ conv1d_4 (<span style=\"color: #0087ff; text-decoration-color: #0087ff\">Conv1D</span>)   │ (<span style=\"color: #00d7ff; text-decoration-color: #00d7ff\">None</span>, <span style=\"color: #00af00; text-decoration-color: #00af00\">1</span>, <span style=\"color: #00af00; text-decoration-color: #00af00\">64</span>)     │      <span style=\"color: #00af00; text-decoration-color: #00af00\">4,160</span> │ conv1d_3[<span style=\"color: #00af00; text-decoration-color: #00af00\">0</span>][<span style=\"color: #00af00; text-decoration-color: #00af00\">0</span>]    │\n",
       "├─────────────────────┼───────────────────┼────────────┼───────────────────┤\n",
       "│ conv1d_6 (<span style=\"color: #0087ff; text-decoration-color: #0087ff\">Conv1D</span>)   │ (<span style=\"color: #00d7ff; text-decoration-color: #00d7ff\">None</span>, <span style=\"color: #00af00; text-decoration-color: #00af00\">1</span>, <span style=\"color: #00af00; text-decoration-color: #00af00\">64</span>)     │      <span style=\"color: #00af00; text-decoration-color: #00af00\">4,160</span> │ conv1d_5[<span style=\"color: #00af00; text-decoration-color: #00af00\">0</span>][<span style=\"color: #00af00; text-decoration-color: #00af00\">0</span>]    │\n",
       "├─────────────────────┼───────────────────┼────────────┼───────────────────┤\n",
       "│ conv1d_8 (<span style=\"color: #0087ff; text-decoration-color: #0087ff\">Conv1D</span>)   │ (<span style=\"color: #00d7ff; text-decoration-color: #00d7ff\">None</span>, <span style=\"color: #00af00; text-decoration-color: #00af00\">1</span>, <span style=\"color: #00af00; text-decoration-color: #00af00\">64</span>)     │      <span style=\"color: #00af00; text-decoration-color: #00af00\">4,160</span> │ conv1d_7[<span style=\"color: #00af00; text-decoration-color: #00af00\">0</span>][<span style=\"color: #00af00; text-decoration-color: #00af00\">0</span>]    │\n",
       "├─────────────────────┼───────────────────┼────────────┼───────────────────┤\n",
       "│ dropout (<span style=\"color: #0087ff; text-decoration-color: #0087ff\">Dropout</span>)   │ (<span style=\"color: #00d7ff; text-decoration-color: #00d7ff\">None</span>, <span style=\"color: #00af00; text-decoration-color: #00af00\">1</span>, <span style=\"color: #00af00; text-decoration-color: #00af00\">64</span>)     │          <span style=\"color: #00af00; text-decoration-color: #00af00\">0</span> │ conv1d_2[<span style=\"color: #00af00; text-decoration-color: #00af00\">0</span>][<span style=\"color: #00af00; text-decoration-color: #00af00\">0</span>]    │\n",
       "├─────────────────────┼───────────────────┼────────────┼───────────────────┤\n",
       "│ dropout_4 (<span style=\"color: #0087ff; text-decoration-color: #0087ff\">Dropout</span>) │ (<span style=\"color: #00d7ff; text-decoration-color: #00d7ff\">None</span>, <span style=\"color: #00af00; text-decoration-color: #00af00\">1</span>, <span style=\"color: #00af00; text-decoration-color: #00af00\">128</span>)    │          <span style=\"color: #00af00; text-decoration-color: #00af00\">0</span> │ conv1d_11[<span style=\"color: #00af00; text-decoration-color: #00af00\">0</span>][<span style=\"color: #00af00; text-decoration-color: #00af00\">0</span>]   │\n",
       "├─────────────────────┼───────────────────┼────────────┼───────────────────┤\n",
       "│ dropout_1 (<span style=\"color: #0087ff; text-decoration-color: #0087ff\">Dropout</span>) │ (<span style=\"color: #00d7ff; text-decoration-color: #00d7ff\">None</span>, <span style=\"color: #00af00; text-decoration-color: #00af00\">1</span>, <span style=\"color: #00af00; text-decoration-color: #00af00\">64</span>)     │          <span style=\"color: #00af00; text-decoration-color: #00af00\">0</span> │ conv1d_4[<span style=\"color: #00af00; text-decoration-color: #00af00\">0</span>][<span style=\"color: #00af00; text-decoration-color: #00af00\">0</span>]    │\n",
       "├─────────────────────┼───────────────────┼────────────┼───────────────────┤\n",
       "│ dropout_2 (<span style=\"color: #0087ff; text-decoration-color: #0087ff\">Dropout</span>) │ (<span style=\"color: #00d7ff; text-decoration-color: #00d7ff\">None</span>, <span style=\"color: #00af00; text-decoration-color: #00af00\">1</span>, <span style=\"color: #00af00; text-decoration-color: #00af00\">64</span>)     │          <span style=\"color: #00af00; text-decoration-color: #00af00\">0</span> │ conv1d_6[<span style=\"color: #00af00; text-decoration-color: #00af00\">0</span>][<span style=\"color: #00af00; text-decoration-color: #00af00\">0</span>]    │\n",
       "├─────────────────────┼───────────────────┼────────────┼───────────────────┤\n",
       "│ dropout_3 (<span style=\"color: #0087ff; text-decoration-color: #0087ff\">Dropout</span>) │ (<span style=\"color: #00d7ff; text-decoration-color: #00d7ff\">None</span>, <span style=\"color: #00af00; text-decoration-color: #00af00\">1</span>, <span style=\"color: #00af00; text-decoration-color: #00af00\">64</span>)     │          <span style=\"color: #00af00; text-decoration-color: #00af00\">0</span> │ conv1d_8[<span style=\"color: #00af00; text-decoration-color: #00af00\">0</span>][<span style=\"color: #00af00; text-decoration-color: #00af00\">0</span>]    │\n",
       "├─────────────────────┼───────────────────┼────────────┼───────────────────┤\n",
       "│ flatten_1 (<span style=\"color: #0087ff; text-decoration-color: #0087ff\">Flatten</span>) │ (<span style=\"color: #00d7ff; text-decoration-color: #00d7ff\">None</span>, <span style=\"color: #00af00; text-decoration-color: #00af00\">64</span>)        │          <span style=\"color: #00af00; text-decoration-color: #00af00\">0</span> │ dropout[<span style=\"color: #00af00; text-decoration-color: #00af00\">0</span>][<span style=\"color: #00af00; text-decoration-color: #00af00\">0</span>]     │\n",
       "├─────────────────────┼───────────────────┼────────────┼───────────────────┤\n",
       "│ flatten_5 (<span style=\"color: #0087ff; text-decoration-color: #0087ff\">Flatten</span>) │ (<span style=\"color: #00d7ff; text-decoration-color: #00d7ff\">None</span>, <span style=\"color: #00af00; text-decoration-color: #00af00\">128</span>)       │          <span style=\"color: #00af00; text-decoration-color: #00af00\">0</span> │ dropout_4[<span style=\"color: #00af00; text-decoration-color: #00af00\">0</span>][<span style=\"color: #00af00; text-decoration-color: #00af00\">0</span>]   │\n",
       "├─────────────────────┼───────────────────┼────────────┼───────────────────┤\n",
       "│ flatten_2 (<span style=\"color: #0087ff; text-decoration-color: #0087ff\">Flatten</span>) │ (<span style=\"color: #00d7ff; text-decoration-color: #00d7ff\">None</span>, <span style=\"color: #00af00; text-decoration-color: #00af00\">64</span>)        │          <span style=\"color: #00af00; text-decoration-color: #00af00\">0</span> │ dropout_1[<span style=\"color: #00af00; text-decoration-color: #00af00\">0</span>][<span style=\"color: #00af00; text-decoration-color: #00af00\">0</span>]   │\n",
       "├─────────────────────┼───────────────────┼────────────┼───────────────────┤\n",
       "│ flatten_3 (<span style=\"color: #0087ff; text-decoration-color: #0087ff\">Flatten</span>) │ (<span style=\"color: #00d7ff; text-decoration-color: #00d7ff\">None</span>, <span style=\"color: #00af00; text-decoration-color: #00af00\">64</span>)        │          <span style=\"color: #00af00; text-decoration-color: #00af00\">0</span> │ dropout_2[<span style=\"color: #00af00; text-decoration-color: #00af00\">0</span>][<span style=\"color: #00af00; text-decoration-color: #00af00\">0</span>]   │\n",
       "├─────────────────────┼───────────────────┼────────────┼───────────────────┤\n",
       "│ flatten_4 (<span style=\"color: #0087ff; text-decoration-color: #0087ff\">Flatten</span>) │ (<span style=\"color: #00d7ff; text-decoration-color: #00d7ff\">None</span>, <span style=\"color: #00af00; text-decoration-color: #00af00\">64</span>)        │          <span style=\"color: #00af00; text-decoration-color: #00af00\">0</span> │ dropout_3[<span style=\"color: #00af00; text-decoration-color: #00af00\">0</span>][<span style=\"color: #00af00; text-decoration-color: #00af00\">0</span>]   │\n",
       "├─────────────────────┼───────────────────┼────────────┼───────────────────┤\n",
       "│ concatenate         │ (<span style=\"color: #00d7ff; text-decoration-color: #00d7ff\">None</span>, <span style=\"color: #00af00; text-decoration-color: #00af00\">384</span>)       │          <span style=\"color: #00af00; text-decoration-color: #00af00\">0</span> │ flatten_1[<span style=\"color: #00af00; text-decoration-color: #00af00\">0</span>][<span style=\"color: #00af00; text-decoration-color: #00af00\">0</span>],  │\n",
       "│ (<span style=\"color: #0087ff; text-decoration-color: #0087ff\">Concatenate</span>)       │                   │            │ flatten_5[<span style=\"color: #00af00; text-decoration-color: #00af00\">0</span>][<span style=\"color: #00af00; text-decoration-color: #00af00\">0</span>],  │\n",
       "│                     │                   │            │ flatten_2[<span style=\"color: #00af00; text-decoration-color: #00af00\">0</span>][<span style=\"color: #00af00; text-decoration-color: #00af00\">0</span>],  │\n",
       "│                     │                   │            │ flatten_3[<span style=\"color: #00af00; text-decoration-color: #00af00\">0</span>][<span style=\"color: #00af00; text-decoration-color: #00af00\">0</span>],  │\n",
       "│                     │                   │            │ flatten_4[<span style=\"color: #00af00; text-decoration-color: #00af00\">0</span>][<span style=\"color: #00af00; text-decoration-color: #00af00\">0</span>]   │\n",
       "├─────────────────────┼───────────────────┼────────────┼───────────────────┤\n",
       "│ dense (<span style=\"color: #0087ff; text-decoration-color: #0087ff\">Dense</span>)       │ (<span style=\"color: #00d7ff; text-decoration-color: #00d7ff\">None</span>, <span style=\"color: #00af00; text-decoration-color: #00af00\">1</span>)         │        <span style=\"color: #00af00; text-decoration-color: #00af00\">385</span> │ concatenate[<span style=\"color: #00af00; text-decoration-color: #00af00\">0</span>][<span style=\"color: #00af00; text-decoration-color: #00af00\">0</span>] │\n",
       "└─────────────────────┴───────────────────┴────────────┴───────────────────┘\n",
       "</pre>\n"
      ],
      "text/plain": [
       "┏━━━━━━━━━━━━━━━━━━━━━┳━━━━━━━━━━━━━━━━━━━┳━━━━━━━━━━━━┳━━━━━━━━━━━━━━━━━━━┓\n",
       "┃\u001b[1m \u001b[0m\u001b[1mLayer (type)       \u001b[0m\u001b[1m \u001b[0m┃\u001b[1m \u001b[0m\u001b[1mOutput Shape     \u001b[0m\u001b[1m \u001b[0m┃\u001b[1m \u001b[0m\u001b[1m   Param #\u001b[0m\u001b[1m \u001b[0m┃\u001b[1m \u001b[0m\u001b[1mConnected to     \u001b[0m\u001b[1m \u001b[0m┃\n",
       "┡━━━━━━━━━━━━━━━━━━━━━╇━━━━━━━━━━━━━━━━━━━╇━━━━━━━━━━━━╇━━━━━━━━━━━━━━━━━━━┩\n",
       "│ input_layer         │ (\u001b[38;5;45mNone\u001b[0m, \u001b[38;5;34m9\u001b[0m)         │          \u001b[38;5;34m0\u001b[0m │ -                 │\n",
       "│ (\u001b[38;5;33mInputLayer\u001b[0m)        │                   │            │                   │\n",
       "├─────────────────────┼───────────────────┼────────────┼───────────────────┤\n",
       "│ flatten (\u001b[38;5;33mFlatten\u001b[0m)   │ (\u001b[38;5;45mNone\u001b[0m, \u001b[38;5;34m9\u001b[0m)         │          \u001b[38;5;34m0\u001b[0m │ input_layer[\u001b[38;5;34m0\u001b[0m][\u001b[38;5;34m0\u001b[0m] │\n",
       "├─────────────────────┼───────────────────┼────────────┼───────────────────┤\n",
       "│ input_layer_4       │ (\u001b[38;5;45mNone\u001b[0m, \u001b[38;5;34m6\u001b[0m)         │          \u001b[38;5;34m0\u001b[0m │ -                 │\n",
       "│ (\u001b[38;5;33mInputLayer\u001b[0m)        │                   │            │                   │\n",
       "├─────────────────────┼───────────────────┼────────────┼───────────────────┤\n",
       "│ reshape (\u001b[38;5;33mReshape\u001b[0m)   │ (\u001b[38;5;45mNone\u001b[0m, \u001b[38;5;34m9\u001b[0m, \u001b[38;5;34m1\u001b[0m)      │          \u001b[38;5;34m0\u001b[0m │ flatten[\u001b[38;5;34m0\u001b[0m][\u001b[38;5;34m0\u001b[0m]     │\n",
       "├─────────────────────┼───────────────────┼────────────┼───────────────────┤\n",
       "│ group1_features_em… │ (\u001b[38;5;45mNone\u001b[0m, \u001b[38;5;34m6\u001b[0m, \u001b[38;5;34m8\u001b[0m)      │     \u001b[38;5;34m65,544\u001b[0m │ input_layer_4[\u001b[38;5;34m0\u001b[0m]… │\n",
       "│ (\u001b[38;5;33mEmbedding\u001b[0m)         │                   │            │                   │\n",
       "├─────────────────────┼───────────────────┼────────────┼───────────────────┤\n",
       "│ input_layer_1       │ (\u001b[38;5;45mNone\u001b[0m, \u001b[38;5;34m2\u001b[0m)         │          \u001b[38;5;34m0\u001b[0m │ -                 │\n",
       "│ (\u001b[38;5;33mInputLayer\u001b[0m)        │                   │            │                   │\n",
       "├─────────────────────┼───────────────────┼────────────┼───────────────────┤\n",
       "│ input_layer_2       │ (\u001b[38;5;45mNone\u001b[0m, \u001b[38;5;34m2\u001b[0m)         │          \u001b[38;5;34m0\u001b[0m │ -                 │\n",
       "│ (\u001b[38;5;33mInputLayer\u001b[0m)        │                   │            │                   │\n",
       "├─────────────────────┼───────────────────┼────────────┼───────────────────┤\n",
       "│ input_layer_3       │ (\u001b[38;5;45mNone\u001b[0m, \u001b[38;5;34m2\u001b[0m)         │          \u001b[38;5;34m0\u001b[0m │ -                 │\n",
       "│ (\u001b[38;5;33mInputLayer\u001b[0m)        │                   │            │                   │\n",
       "├─────────────────────┼───────────────────┼────────────┼───────────────────┤\n",
       "│ conv1d (\u001b[38;5;33mConv1D\u001b[0m)     │ (\u001b[38;5;45mNone\u001b[0m, \u001b[38;5;34m5\u001b[0m, \u001b[38;5;34m8\u001b[0m)      │         \u001b[38;5;34m32\u001b[0m │ reshape[\u001b[38;5;34m0\u001b[0m][\u001b[38;5;34m0\u001b[0m]     │\n",
       "├─────────────────────┼───────────────────┼────────────┼───────────────────┤\n",
       "│ conv1d_9 (\u001b[38;5;33mConv1D\u001b[0m)   │ (\u001b[38;5;45mNone\u001b[0m, \u001b[38;5;34m3\u001b[0m, \u001b[38;5;34m8\u001b[0m)      │        \u001b[38;5;34m200\u001b[0m │ group1_features_… │\n",
       "├─────────────────────┼───────────────────┼────────────┼───────────────────┤\n",
       "│ group2_embed        │ (\u001b[38;5;45mNone\u001b[0m, \u001b[38;5;34m2\u001b[0m, \u001b[38;5;34m8\u001b[0m)      │    \u001b[38;5;34m151,872\u001b[0m │ input_layer_1[\u001b[38;5;34m0\u001b[0m]… │\n",
       "│ (\u001b[38;5;33mEmbedding\u001b[0m)         │                   │            │                   │\n",
       "├─────────────────────┼───────────────────┼────────────┼───────────────────┤\n",
       "│ group3_embed        │ (\u001b[38;5;45mNone\u001b[0m, \u001b[38;5;34m2\u001b[0m, \u001b[38;5;34m8\u001b[0m)      │    \u001b[38;5;34m127,152\u001b[0m │ input_layer_2[\u001b[38;5;34m0\u001b[0m]… │\n",
       "│ (\u001b[38;5;33mEmbedding\u001b[0m)         │                   │            │                   │\n",
       "├─────────────────────┼───────────────────┼────────────┼───────────────────┤\n",
       "│ group4_embed        │ (\u001b[38;5;45mNone\u001b[0m, \u001b[38;5;34m2\u001b[0m, \u001b[38;5;34m8\u001b[0m)      │      \u001b[38;5;34m3,776\u001b[0m │ input_layer_3[\u001b[38;5;34m0\u001b[0m]… │\n",
       "│ (\u001b[38;5;33mEmbedding\u001b[0m)         │                   │            │                   │\n",
       "├─────────────────────┼───────────────────┼────────────┼───────────────────┤\n",
       "│ conv1d_1 (\u001b[38;5;33mConv1D\u001b[0m)   │ (\u001b[38;5;45mNone\u001b[0m, \u001b[38;5;34m3\u001b[0m, \u001b[38;5;34m64\u001b[0m)     │      \u001b[38;5;34m1,600\u001b[0m │ conv1d[\u001b[38;5;34m0\u001b[0m][\u001b[38;5;34m0\u001b[0m]      │\n",
       "├─────────────────────┼───────────────────┼────────────┼───────────────────┤\n",
       "│ conv1d_10 (\u001b[38;5;33mConv1D\u001b[0m)  │ (\u001b[38;5;45mNone\u001b[0m, \u001b[38;5;34m2\u001b[0m, \u001b[38;5;34m64\u001b[0m)     │      \u001b[38;5;34m1,600\u001b[0m │ conv1d_9[\u001b[38;5;34m0\u001b[0m][\u001b[38;5;34m0\u001b[0m]    │\n",
       "├─────────────────────┼───────────────────┼────────────┼───────────────────┤\n",
       "│ conv1d_3 (\u001b[38;5;33mConv1D\u001b[0m)   │ (\u001b[38;5;45mNone\u001b[0m, \u001b[38;5;34m2\u001b[0m, \u001b[38;5;34m32\u001b[0m)     │        \u001b[38;5;34m544\u001b[0m │ group2_embed[\u001b[38;5;34m0\u001b[0m][\u001b[38;5;34m…\u001b[0m │\n",
       "├─────────────────────┼───────────────────┼────────────┼───────────────────┤\n",
       "│ conv1d_5 (\u001b[38;5;33mConv1D\u001b[0m)   │ (\u001b[38;5;45mNone\u001b[0m, \u001b[38;5;34m2\u001b[0m, \u001b[38;5;34m32\u001b[0m)     │        \u001b[38;5;34m544\u001b[0m │ group3_embed[\u001b[38;5;34m0\u001b[0m][\u001b[38;5;34m…\u001b[0m │\n",
       "├─────────────────────┼───────────────────┼────────────┼───────────────────┤\n",
       "│ conv1d_7 (\u001b[38;5;33mConv1D\u001b[0m)   │ (\u001b[38;5;45mNone\u001b[0m, \u001b[38;5;34m2\u001b[0m, \u001b[38;5;34m32\u001b[0m)     │        \u001b[38;5;34m544\u001b[0m │ group4_embed[\u001b[38;5;34m0\u001b[0m][\u001b[38;5;34m…\u001b[0m │\n",
       "├─────────────────────┼───────────────────┼────────────┼───────────────────┤\n",
       "│ conv1d_2 (\u001b[38;5;33mConv1D\u001b[0m)   │ (\u001b[38;5;45mNone\u001b[0m, \u001b[38;5;34m1\u001b[0m, \u001b[38;5;34m64\u001b[0m)     │     \u001b[38;5;34m12,352\u001b[0m │ conv1d_1[\u001b[38;5;34m0\u001b[0m][\u001b[38;5;34m0\u001b[0m]    │\n",
       "├─────────────────────┼───────────────────┼────────────┼───────────────────┤\n",
       "│ conv1d_11 (\u001b[38;5;33mConv1D\u001b[0m)  │ (\u001b[38;5;45mNone\u001b[0m, \u001b[38;5;34m1\u001b[0m, \u001b[38;5;34m128\u001b[0m)    │     \u001b[38;5;34m24,704\u001b[0m │ conv1d_10[\u001b[38;5;34m0\u001b[0m][\u001b[38;5;34m0\u001b[0m]   │\n",
       "├─────────────────────┼───────────────────┼────────────┼───────────────────┤\n",
       "│ conv1d_4 (\u001b[38;5;33mConv1D\u001b[0m)   │ (\u001b[38;5;45mNone\u001b[0m, \u001b[38;5;34m1\u001b[0m, \u001b[38;5;34m64\u001b[0m)     │      \u001b[38;5;34m4,160\u001b[0m │ conv1d_3[\u001b[38;5;34m0\u001b[0m][\u001b[38;5;34m0\u001b[0m]    │\n",
       "├─────────────────────┼───────────────────┼────────────┼───────────────────┤\n",
       "│ conv1d_6 (\u001b[38;5;33mConv1D\u001b[0m)   │ (\u001b[38;5;45mNone\u001b[0m, \u001b[38;5;34m1\u001b[0m, \u001b[38;5;34m64\u001b[0m)     │      \u001b[38;5;34m4,160\u001b[0m │ conv1d_5[\u001b[38;5;34m0\u001b[0m][\u001b[38;5;34m0\u001b[0m]    │\n",
       "├─────────────────────┼───────────────────┼────────────┼───────────────────┤\n",
       "│ conv1d_8 (\u001b[38;5;33mConv1D\u001b[0m)   │ (\u001b[38;5;45mNone\u001b[0m, \u001b[38;5;34m1\u001b[0m, \u001b[38;5;34m64\u001b[0m)     │      \u001b[38;5;34m4,160\u001b[0m │ conv1d_7[\u001b[38;5;34m0\u001b[0m][\u001b[38;5;34m0\u001b[0m]    │\n",
       "├─────────────────────┼───────────────────┼────────────┼───────────────────┤\n",
       "│ dropout (\u001b[38;5;33mDropout\u001b[0m)   │ (\u001b[38;5;45mNone\u001b[0m, \u001b[38;5;34m1\u001b[0m, \u001b[38;5;34m64\u001b[0m)     │          \u001b[38;5;34m0\u001b[0m │ conv1d_2[\u001b[38;5;34m0\u001b[0m][\u001b[38;5;34m0\u001b[0m]    │\n",
       "├─────────────────────┼───────────────────┼────────────┼───────────────────┤\n",
       "│ dropout_4 (\u001b[38;5;33mDropout\u001b[0m) │ (\u001b[38;5;45mNone\u001b[0m, \u001b[38;5;34m1\u001b[0m, \u001b[38;5;34m128\u001b[0m)    │          \u001b[38;5;34m0\u001b[0m │ conv1d_11[\u001b[38;5;34m0\u001b[0m][\u001b[38;5;34m0\u001b[0m]   │\n",
       "├─────────────────────┼───────────────────┼────────────┼───────────────────┤\n",
       "│ dropout_1 (\u001b[38;5;33mDropout\u001b[0m) │ (\u001b[38;5;45mNone\u001b[0m, \u001b[38;5;34m1\u001b[0m, \u001b[38;5;34m64\u001b[0m)     │          \u001b[38;5;34m0\u001b[0m │ conv1d_4[\u001b[38;5;34m0\u001b[0m][\u001b[38;5;34m0\u001b[0m]    │\n",
       "├─────────────────────┼───────────────────┼────────────┼───────────────────┤\n",
       "│ dropout_2 (\u001b[38;5;33mDropout\u001b[0m) │ (\u001b[38;5;45mNone\u001b[0m, \u001b[38;5;34m1\u001b[0m, \u001b[38;5;34m64\u001b[0m)     │          \u001b[38;5;34m0\u001b[0m │ conv1d_6[\u001b[38;5;34m0\u001b[0m][\u001b[38;5;34m0\u001b[0m]    │\n",
       "├─────────────────────┼───────────────────┼────────────┼───────────────────┤\n",
       "│ dropout_3 (\u001b[38;5;33mDropout\u001b[0m) │ (\u001b[38;5;45mNone\u001b[0m, \u001b[38;5;34m1\u001b[0m, \u001b[38;5;34m64\u001b[0m)     │          \u001b[38;5;34m0\u001b[0m │ conv1d_8[\u001b[38;5;34m0\u001b[0m][\u001b[38;5;34m0\u001b[0m]    │\n",
       "├─────────────────────┼───────────────────┼────────────┼───────────────────┤\n",
       "│ flatten_1 (\u001b[38;5;33mFlatten\u001b[0m) │ (\u001b[38;5;45mNone\u001b[0m, \u001b[38;5;34m64\u001b[0m)        │          \u001b[38;5;34m0\u001b[0m │ dropout[\u001b[38;5;34m0\u001b[0m][\u001b[38;5;34m0\u001b[0m]     │\n",
       "├─────────────────────┼───────────────────┼────────────┼───────────────────┤\n",
       "│ flatten_5 (\u001b[38;5;33mFlatten\u001b[0m) │ (\u001b[38;5;45mNone\u001b[0m, \u001b[38;5;34m128\u001b[0m)       │          \u001b[38;5;34m0\u001b[0m │ dropout_4[\u001b[38;5;34m0\u001b[0m][\u001b[38;5;34m0\u001b[0m]   │\n",
       "├─────────────────────┼───────────────────┼────────────┼───────────────────┤\n",
       "│ flatten_2 (\u001b[38;5;33mFlatten\u001b[0m) │ (\u001b[38;5;45mNone\u001b[0m, \u001b[38;5;34m64\u001b[0m)        │          \u001b[38;5;34m0\u001b[0m │ dropout_1[\u001b[38;5;34m0\u001b[0m][\u001b[38;5;34m0\u001b[0m]   │\n",
       "├─────────────────────┼───────────────────┼────────────┼───────────────────┤\n",
       "│ flatten_3 (\u001b[38;5;33mFlatten\u001b[0m) │ (\u001b[38;5;45mNone\u001b[0m, \u001b[38;5;34m64\u001b[0m)        │          \u001b[38;5;34m0\u001b[0m │ dropout_2[\u001b[38;5;34m0\u001b[0m][\u001b[38;5;34m0\u001b[0m]   │\n",
       "├─────────────────────┼───────────────────┼────────────┼───────────────────┤\n",
       "│ flatten_4 (\u001b[38;5;33mFlatten\u001b[0m) │ (\u001b[38;5;45mNone\u001b[0m, \u001b[38;5;34m64\u001b[0m)        │          \u001b[38;5;34m0\u001b[0m │ dropout_3[\u001b[38;5;34m0\u001b[0m][\u001b[38;5;34m0\u001b[0m]   │\n",
       "├─────────────────────┼───────────────────┼────────────┼───────────────────┤\n",
       "│ concatenate         │ (\u001b[38;5;45mNone\u001b[0m, \u001b[38;5;34m384\u001b[0m)       │          \u001b[38;5;34m0\u001b[0m │ flatten_1[\u001b[38;5;34m0\u001b[0m][\u001b[38;5;34m0\u001b[0m],  │\n",
       "│ (\u001b[38;5;33mConcatenate\u001b[0m)       │                   │            │ flatten_5[\u001b[38;5;34m0\u001b[0m][\u001b[38;5;34m0\u001b[0m],  │\n",
       "│                     │                   │            │ flatten_2[\u001b[38;5;34m0\u001b[0m][\u001b[38;5;34m0\u001b[0m],  │\n",
       "│                     │                   │            │ flatten_3[\u001b[38;5;34m0\u001b[0m][\u001b[38;5;34m0\u001b[0m],  │\n",
       "│                     │                   │            │ flatten_4[\u001b[38;5;34m0\u001b[0m][\u001b[38;5;34m0\u001b[0m]   │\n",
       "├─────────────────────┼───────────────────┼────────────┼───────────────────┤\n",
       "│ dense (\u001b[38;5;33mDense\u001b[0m)       │ (\u001b[38;5;45mNone\u001b[0m, \u001b[38;5;34m1\u001b[0m)         │        \u001b[38;5;34m385\u001b[0m │ concatenate[\u001b[38;5;34m0\u001b[0m][\u001b[38;5;34m0\u001b[0m] │\n",
       "└─────────────────────┴───────────────────┴────────────┴───────────────────┘\n"
      ]
     },
     "metadata": {},
     "output_type": "display_data"
    },
    {
     "data": {
      "text/html": [
       "<pre style=\"white-space:pre;overflow-x:auto;line-height:normal;font-family:Menlo,'DejaVu Sans Mono',consolas,'Courier New',monospace\"><span style=\"font-weight: bold\"> Total params: </span><span style=\"color: #00af00; text-decoration-color: #00af00\">403,329</span> (1.54 MB)\n",
       "</pre>\n"
      ],
      "text/plain": [
       "\u001b[1m Total params: \u001b[0m\u001b[38;5;34m403,329\u001b[0m (1.54 MB)\n"
      ]
     },
     "metadata": {},
     "output_type": "display_data"
    },
    {
     "data": {
      "text/html": [
       "<pre style=\"white-space:pre;overflow-x:auto;line-height:normal;font-family:Menlo,'DejaVu Sans Mono',consolas,'Courier New',monospace\"><span style=\"font-weight: bold\"> Trainable params: </span><span style=\"color: #00af00; text-decoration-color: #00af00\">403,329</span> (1.54 MB)\n",
       "</pre>\n"
      ],
      "text/plain": [
       "\u001b[1m Trainable params: \u001b[0m\u001b[38;5;34m403,329\u001b[0m (1.54 MB)\n"
      ]
     },
     "metadata": {},
     "output_type": "display_data"
    },
    {
     "data": {
      "text/html": [
       "<pre style=\"white-space:pre;overflow-x:auto;line-height:normal;font-family:Menlo,'DejaVu Sans Mono',consolas,'Courier New',monospace\"><span style=\"font-weight: bold\"> Non-trainable params: </span><span style=\"color: #00af00; text-decoration-color: #00af00\">0</span> (0.00 B)\n",
       "</pre>\n"
      ],
      "text/plain": [
       "\u001b[1m Non-trainable params: \u001b[0m\u001b[38;5;34m0\u001b[0m (0.00 B)\n"
      ]
     },
     "metadata": {},
     "output_type": "display_data"
    },
    {
     "name": "stdout",
     "output_type": "stream",
     "text": [
      "None\n"
     ]
    },
    {
     "name": "stderr",
     "output_type": "stream",
     "text": [
      "c:\\Users\\Admin\\AppData\\Local\\Programs\\Python\\Python310\\lib\\site-packages\\keras\\src\\saving\\saving_lib.py:719: UserWarning: Skipping variable loading for optimizer 'adam', because it has 2 variables whereas the saved optimizer has 62 variables. \n",
      "  saveable.load_own_variables(weights_store.get(inner_path))\n",
      "c:\\Users\\Admin\\AppData\\Local\\Programs\\Python\\Python310\\lib\\site-packages\\keras\\src\\models\\functional.py:225: UserWarning: The structure of `inputs` doesn't match the expected structure: ['keras_tensor', 'keras_tensor_26', 'keras_tensor_8', 'keras_tensor_14', 'keras_tensor_20']. Received: the structure of inputs=('*', '*', '*', '*', '*')\n",
      "  warnings.warn(\n"
     ]
    },
    {
     "name": "stdout",
     "output_type": "stream",
     "text": [
      "\u001b[1m165/165\u001b[0m \u001b[32m━━━━━━━━━━━━━━━━━━━━\u001b[0m\u001b[37m\u001b[0m \u001b[1m1s\u001b[0m 2ms/step - loss: 0.9402 - msle: 0.9402\n",
      "Mean Square Logarithmic Error for CNN: 0.97\n"
     ]
    }
   ],
   "source": [
    "best_model_CNN = tuner_CNN.get_best_models()[0]\n",
    "loss_CNN, msle_CNN = best_model_CNN.evaluate([np.array(x_Test_num), \n",
    "              np.array(x_Test_cate[group1_features]), np.array(x_Test_cate[group2_features]),\n",
    "              np.array(x_Test_cate[group3_features]), np.array(x_Test_cate[group4_features])], np.array(y_Test).reshape(-1))\n",
    "\n",
    "print(f\"Mean Square Logarithmic Error for CNN: {msle_CNN:.2f}\" )"
   ]
  },
  {
   "cell_type": "markdown",
   "id": "784d25b4",
   "metadata": {},
   "source": [
    "##### 1.5.3. Predict the track_popularity for TEST data"
   ]
  },
  {
   "cell_type": "markdown",
   "id": "34ed08ea",
   "metadata": {},
   "source": [
    "- I will take the result of best model, which is the ***MLP*** model (loss = $0.92$)."
   ]
  },
  {
   "cell_type": "code",
   "execution_count": 240,
   "id": "28620c67",
   "metadata": {},
   "outputs": [
    {
     "name": "stdout",
     "output_type": "stream",
     "text": [
      "Shape of test data:  (6567, 22)\n",
      "\u001b[1m 22/206\u001b[0m \u001b[32m━━\u001b[0m\u001b[37m━━━━━━━━━━━━━━━━━━\u001b[0m \u001b[1m0s\u001b[0m 2ms/step   "
     ]
    },
    {
     "name": "stderr",
     "output_type": "stream",
     "text": [
      "c:\\Users\\Admin\\AppData\\Local\\Programs\\Python\\Python310\\lib\\site-packages\\keras\\src\\models\\functional.py:225: UserWarning: The structure of `inputs` doesn't match the expected structure: ['keras_tensor', 'keras_tensor_2', 'keras_tensor_7', 'keras_tensor_12', 'keras_tensor_17']. Received: the structure of inputs=('*', '*', '*', '*', '*')\n",
      "  warnings.warn(\n"
     ]
    },
    {
     "name": "stdout",
     "output_type": "stream",
     "text": [
      "\u001b[1m206/206\u001b[0m \u001b[32m━━━━━━━━━━━━━━━━━━━━\u001b[0m\u001b[37m\u001b[0m \u001b[1m1s\u001b[0m 3ms/step\n"
     ]
    }
   ],
   "source": [
    "unnamed_col = TEST['Unnamed: 0']\n",
    "test_data = TEST.drop(['Unnamed: 0'],axis=1)\n",
    "test_data.fillna(np.nan)\n",
    "print(\"Shape of test data: \", test_data.shape)\n",
    "\n",
    "# Transform the test data\n",
    "X_Test_cate = cat_pipeline.transform(test_data[cat_cols])\n",
    "X_Test_num = num_pipeline.transform(test_data[num_cols])\n",
    "\n",
    "y_pred = best_model_MLP.predict([np.array(X_Test_num), \n",
    "              np.array(X_Test_cate[group1_features]), np.array(X_Test_cate[group2_features]),\n",
    "              np.array(X_Test_cate[group3_features]), np.array(X_Test_cate[group4_features])])"
   ]
  },
  {
   "cell_type": "markdown",
   "id": "ecd6953d",
   "metadata": {},
   "source": [
    "- Export to CSV file"
   ]
  },
  {
   "cell_type": "code",
   "execution_count": 241,
   "id": "4ed43e36",
   "metadata": {},
   "outputs": [],
   "source": [
    "df_ML = pd.read_csv(\"prediction.csv\")\n",
    "df_DL = pd.DataFrame({\n",
    "    'Unnamed:0': unnamed_col,\n",
    "    'y_pred_ML': df_ML['y_pred_ML'],\n",
    "    'y_pred_DL' : list(y_pred.reshape(-1))\n",
    "})\n",
    "df_DL.set_index(df_DL.columns[0], inplace=True)\n",
    "df_DL.index.name = None\n",
    "df_DL.to_csv('prediction.csv', index=True)"
   ]
  },
  {
   "cell_type": "markdown",
   "id": "d57f9497",
   "metadata": {},
   "source": [
    "#### <center> 1.6. Task Outcomes & Conclusion\n"
   ]
  },
  {
   "cell_type": "markdown",
   "id": "af80f758",
   "metadata": {},
   "source": [
    "- The use of the ***Embedding layer*** allows the models to effectively extract all relevant features, leading to improved performance.\n",
    "- With the ***Embedding layer***, the latent space is able to capture and illustrate the hidden relationships between features.\n",
    "- Given that the data is inherently independent, the use of ***RNNs*** is not well-suited for this problem."
   ]
  },
  {
   "cell_type": "markdown",
   "id": "058b405e",
   "metadata": {},
   "source": [
    "---\n",
    "### 2. Task 2: Recommender Systems:\n",
    "- Stractegic Plan of Action:\n",
    "    1. *Pre-processing data*\n",
    "    2. *Deep and Wide architecture (Google)*\n",
    "    3. *Conclusion*"
   ]
  },
  {
   "cell_type": "markdown",
   "id": "20678381",
   "metadata": {},
   "source": [
    "#### <center> 2.1. Pre-processing data\n"
   ]
  },
  {
   "cell_type": "markdown",
   "id": "caa719a6",
   "metadata": {},
   "source": [
    "- Now, I will choose 100 songs from the data, assume that user has favorite artists: ***'Ed Sheeran', 'Bruno Mars', 'Justin Bieber, Maroon 5'***. From that information, I will get randomly 100 songs which have those features from the dataset."
   ]
  },
  {
   "cell_type": "markdown",
   "id": "8bd13e62",
   "metadata": {},
   "source": [
    "- I will add column named ***liked*** to indicate that user likes or not ($1$ means like and $0$ means not like or not interact)"
   ]
  },
  {
   "cell_type": "code",
   "execution_count": 175,
   "id": "1be767cf",
   "metadata": {},
   "outputs": [
    {
     "name": "stderr",
     "output_type": "stream",
     "text": [
      "C:\\Users\\Admin\\AppData\\Local\\Temp\\ipykernel_16700\\3005541302.py:2: SettingWithCopyWarning: \n",
      "A value is trying to be set on a copy of a slice from a DataFrame\n",
      "\n",
      "See the caveats in the documentation: https://pandas.pydata.org/pandas-docs/stable/user_guide/indexing.html#returning-a-view-versus-a-copy\n",
      "  favor_songs.drop(['Unnamed: 0'], axis=1, inplace=True)\n",
      "C:\\Users\\Admin\\AppData\\Local\\Temp\\ipykernel_16700\\3005541302.py:3: SettingWithCopyWarning: \n",
      "A value is trying to be set on a copy of a slice from a DataFrame\n",
      "\n",
      "See the caveats in the documentation: https://pandas.pydata.org/pandas-docs/stable/user_guide/indexing.html#returning-a-view-versus-a-copy\n",
      "  favor_songs.drop_duplicates(inplace=True)\n",
      "C:\\Users\\Admin\\AppData\\Local\\Temp\\ipykernel_16700\\3005541302.py:4: SettingWithCopyWarning: \n",
      "A value is trying to be set on a copy of a slice from a DataFrame.\n",
      "Try using .loc[row_indexer,col_indexer] = value instead\n",
      "\n",
      "See the caveats in the documentation: https://pandas.pydata.org/pandas-docs/stable/user_guide/indexing.html#returning-a-view-versus-a-copy\n",
      "  favor_songs['liked'] = 1\n"
     ]
    }
   ],
   "source": [
    "favor_songs = TRAIN[TRAIN['track_artist'].isin(['Ed Sheeran', 'Bruno Mars', 'Justin Bieber','Maroon 5'])]\n",
    "favor_songs.drop(['Unnamed: 0'], axis=1, inplace=True)\n",
    "favor_songs.drop_duplicates(inplace=True)\n",
    "favor_songs['liked'] = 1\n",
    "sample_favor_df = favor_songs.sample(n=100, random_state=3)\n"
   ]
  },
  {
   "cell_type": "markdown",
   "id": "9ebb349c",
   "metadata": {},
   "source": [
    "- Now, I will take 5 samples of this data to be the songs that a user has liked."
   ]
  },
  {
   "cell_type": "code",
   "execution_count": 176,
   "id": "ebe64675",
   "metadata": {},
   "outputs": [
    {
     "data": {
      "text/html": [
       "<div>\n",
       "<style scoped>\n",
       "    .dataframe tbody tr th:only-of-type {\n",
       "        vertical-align: middle;\n",
       "    }\n",
       "\n",
       "    .dataframe tbody tr th {\n",
       "        vertical-align: top;\n",
       "    }\n",
       "\n",
       "    .dataframe thead th {\n",
       "        text-align: right;\n",
       "    }\n",
       "</style>\n",
       "<table border=\"1\" class=\"dataframe\">\n",
       "  <thead>\n",
       "    <tr style=\"text-align: right;\">\n",
       "      <th></th>\n",
       "      <th>track_id</th>\n",
       "      <th>track_name</th>\n",
       "      <th>track_artist</th>\n",
       "      <th>track_popularity</th>\n",
       "      <th>track_album_id</th>\n",
       "      <th>track_album_name</th>\n",
       "      <th>track_album_release_date</th>\n",
       "      <th>playlist_name</th>\n",
       "      <th>playlist_id</th>\n",
       "      <th>playlist_genre</th>\n",
       "      <th>...</th>\n",
       "      <th>loudness</th>\n",
       "      <th>mode</th>\n",
       "      <th>speechiness</th>\n",
       "      <th>acousticness</th>\n",
       "      <th>instrumentalness</th>\n",
       "      <th>liveness</th>\n",
       "      <th>valence</th>\n",
       "      <th>tempo</th>\n",
       "      <th>duration_ms</th>\n",
       "      <th>liked</th>\n",
       "    </tr>\n",
       "  </thead>\n",
       "  <tbody>\n",
       "    <tr>\n",
       "      <th>10653</th>\n",
       "      <td>4vUmTMuQqjdnvlZmAH61Qk</td>\n",
       "      <td>South of the Border (feat. Camila Cabello &amp; Ca...</td>\n",
       "      <td>Ed Sheeran</td>\n",
       "      <td>91</td>\n",
       "      <td>3oIFxDIo2fwuk4lwCmFZCx</td>\n",
       "      <td>No.6 Collaborations Project</td>\n",
       "      <td>2019-07-12</td>\n",
       "      <td>Charts 2020 🔥Top 2020🔥Hits 2020🔥Summer 2020🔥Po...</td>\n",
       "      <td>3xMQTDLOIGvj3lWH5e5x6F</td>\n",
       "      <td>edm</td>\n",
       "      <td>...</td>\n",
       "      <td>-6.376</td>\n",
       "      <td>0</td>\n",
       "      <td>0.0824</td>\n",
       "      <td>0.1480</td>\n",
       "      <td>0.000000</td>\n",
       "      <td>0.0865</td>\n",
       "      <td>0.668</td>\n",
       "      <td>97.986</td>\n",
       "      <td>204467</td>\n",
       "      <td>1</td>\n",
       "    </tr>\n",
       "    <tr>\n",
       "      <th>22455</th>\n",
       "      <td>0tgVpDi06FyKpA1z0VMD4v</td>\n",
       "      <td>Perfect</td>\n",
       "      <td>Ed Sheeran</td>\n",
       "      <td>86</td>\n",
       "      <td>3T4tUhGYeRNVUGevb0wThu</td>\n",
       "      <td>÷ (Deluxe)</td>\n",
       "      <td>2017-03-03</td>\n",
       "      <td>School Dance 2019 (Squeaky Clean)</td>\n",
       "      <td>0SqaMfNsngZCpPw0UuelA7</td>\n",
       "      <td>latin</td>\n",
       "      <td>...</td>\n",
       "      <td>-6.312</td>\n",
       "      <td>1</td>\n",
       "      <td>0.0232</td>\n",
       "      <td>0.1630</td>\n",
       "      <td>0.000000</td>\n",
       "      <td>0.1060</td>\n",
       "      <td>0.168</td>\n",
       "      <td>95.050</td>\n",
       "      <td>263400</td>\n",
       "      <td>1</td>\n",
       "    </tr>\n",
       "    <tr>\n",
       "      <th>783</th>\n",
       "      <td>5UJshy5HDHdNEVqlJwzsQB</td>\n",
       "      <td>Versace On The Floor (Bruno Mars vs. David Gue...</td>\n",
       "      <td>Bruno Mars</td>\n",
       "      <td>63</td>\n",
       "      <td>0yDiMZdbFwO5lGB9Dq5wlL</td>\n",
       "      <td>Versace On The Floor (Bruno Mars vs. David Gue...</td>\n",
       "      <td>2017-06-27</td>\n",
       "      <td>Electropop Hits  2017-2020</td>\n",
       "      <td>7kyvBmlc1uSqsTL0EuNLrx</td>\n",
       "      <td>pop</td>\n",
       "      <td>...</td>\n",
       "      <td>-4.902</td>\n",
       "      <td>1</td>\n",
       "      <td>0.0429</td>\n",
       "      <td>0.1080</td>\n",
       "      <td>0.000000</td>\n",
       "      <td>0.0712</td>\n",
       "      <td>0.589</td>\n",
       "      <td>100.012</td>\n",
       "      <td>228300</td>\n",
       "      <td>1</td>\n",
       "    </tr>\n",
       "    <tr>\n",
       "      <th>535</th>\n",
       "      <td>3hBBKuWJfxlIlnd9QFoC8k</td>\n",
       "      <td>What Lovers Do (feat. SZA)</td>\n",
       "      <td>Maroon 5</td>\n",
       "      <td>16</td>\n",
       "      <td>1Jmq5HEJeA9kNi2SgQul4U</td>\n",
       "      <td>Red Pill Blues (Deluxe)</td>\n",
       "      <td>2017-11-03</td>\n",
       "      <td>Electropop Hits  2017-2020</td>\n",
       "      <td>7kyvBmlc1uSqsTL0EuNLrx</td>\n",
       "      <td>pop</td>\n",
       "      <td>...</td>\n",
       "      <td>-5.211</td>\n",
       "      <td>0</td>\n",
       "      <td>0.0671</td>\n",
       "      <td>0.0786</td>\n",
       "      <td>0.000003</td>\n",
       "      <td>0.0855</td>\n",
       "      <td>0.393</td>\n",
       "      <td>110.009</td>\n",
       "      <td>199849</td>\n",
       "      <td>1</td>\n",
       "    </tr>\n",
       "    <tr>\n",
       "      <th>7257</th>\n",
       "      <td>7ieV1TBSMyf5sFiPh9X2ai</td>\n",
       "      <td>Misery - Acoustic Version</td>\n",
       "      <td>Maroon 5</td>\n",
       "      <td>51</td>\n",
       "      <td>3gjJTUMI9q6ReSe0z7gyjp</td>\n",
       "      <td>Hands All Over (Revised International Deluxe)</td>\n",
       "      <td>2010</td>\n",
       "      <td>Unplugged Hits 📣</td>\n",
       "      <td>5NTm3injIRkUMROsZr3C2O</td>\n",
       "      <td>latin</td>\n",
       "      <td>...</td>\n",
       "      <td>-7.544</td>\n",
       "      <td>1</td>\n",
       "      <td>0.0385</td>\n",
       "      <td>0.2400</td>\n",
       "      <td>0.000000</td>\n",
       "      <td>0.1110</td>\n",
       "      <td>0.420</td>\n",
       "      <td>97.002</td>\n",
       "      <td>226320</td>\n",
       "      <td>1</td>\n",
       "    </tr>\n",
       "  </tbody>\n",
       "</table>\n",
       "<p>5 rows × 24 columns</p>\n",
       "</div>"
      ],
      "text/plain": [
       "                     track_id  \\\n",
       "10653  4vUmTMuQqjdnvlZmAH61Qk   \n",
       "22455  0tgVpDi06FyKpA1z0VMD4v   \n",
       "783    5UJshy5HDHdNEVqlJwzsQB   \n",
       "535    3hBBKuWJfxlIlnd9QFoC8k   \n",
       "7257   7ieV1TBSMyf5sFiPh9X2ai   \n",
       "\n",
       "                                              track_name track_artist  \\\n",
       "10653  South of the Border (feat. Camila Cabello & Ca...   Ed Sheeran   \n",
       "22455                                            Perfect   Ed Sheeran   \n",
       "783    Versace On The Floor (Bruno Mars vs. David Gue...   Bruno Mars   \n",
       "535                           What Lovers Do (feat. SZA)     Maroon 5   \n",
       "7257                           Misery - Acoustic Version     Maroon 5   \n",
       "\n",
       "       track_popularity          track_album_id  \\\n",
       "10653                91  3oIFxDIo2fwuk4lwCmFZCx   \n",
       "22455                86  3T4tUhGYeRNVUGevb0wThu   \n",
       "783                  63  0yDiMZdbFwO5lGB9Dq5wlL   \n",
       "535                  16  1Jmq5HEJeA9kNi2SgQul4U   \n",
       "7257                 51  3gjJTUMI9q6ReSe0z7gyjp   \n",
       "\n",
       "                                        track_album_name  \\\n",
       "10653                        No.6 Collaborations Project   \n",
       "22455                                         ÷ (Deluxe)   \n",
       "783    Versace On The Floor (Bruno Mars vs. David Gue...   \n",
       "535                              Red Pill Blues (Deluxe)   \n",
       "7257       Hands All Over (Revised International Deluxe)   \n",
       "\n",
       "      track_album_release_date  \\\n",
       "10653               2019-07-12   \n",
       "22455               2017-03-03   \n",
       "783                 2017-06-27   \n",
       "535                 2017-11-03   \n",
       "7257                      2010   \n",
       "\n",
       "                                           playlist_name  \\\n",
       "10653  Charts 2020 🔥Top 2020🔥Hits 2020🔥Summer 2020🔥Po...   \n",
       "22455                  School Dance 2019 (Squeaky Clean)   \n",
       "783                           Electropop Hits  2017-2020   \n",
       "535                           Electropop Hits  2017-2020   \n",
       "7257                                    Unplugged Hits 📣   \n",
       "\n",
       "                  playlist_id playlist_genre  ... loudness  mode  speechiness  \\\n",
       "10653  3xMQTDLOIGvj3lWH5e5x6F            edm  ...   -6.376     0       0.0824   \n",
       "22455  0SqaMfNsngZCpPw0UuelA7          latin  ...   -6.312     1       0.0232   \n",
       "783    7kyvBmlc1uSqsTL0EuNLrx            pop  ...   -4.902     1       0.0429   \n",
       "535    7kyvBmlc1uSqsTL0EuNLrx            pop  ...   -5.211     0       0.0671   \n",
       "7257   5NTm3injIRkUMROsZr3C2O          latin  ...   -7.544     1       0.0385   \n",
       "\n",
       "       acousticness  instrumentalness  liveness  valence    tempo  \\\n",
       "10653        0.1480          0.000000    0.0865    0.668   97.986   \n",
       "22455        0.1630          0.000000    0.1060    0.168   95.050   \n",
       "783          0.1080          0.000000    0.0712    0.589  100.012   \n",
       "535          0.0786          0.000003    0.0855    0.393  110.009   \n",
       "7257         0.2400          0.000000    0.1110    0.420   97.002   \n",
       "\n",
       "       duration_ms  liked  \n",
       "10653       204467      1  \n",
       "22455       263400      1  \n",
       "783         228300      1  \n",
       "535         199849      1  \n",
       "7257        226320      1  \n",
       "\n",
       "[5 rows x 24 columns]"
      ]
     },
     "execution_count": 176,
     "metadata": {},
     "output_type": "execute_result"
    }
   ],
   "source": [
    "like_songs = sample_favor_df.head()\n",
    "like_songs"
   ]
  },
  {
   "cell_type": "markdown",
   "id": "915ca617",
   "metadata": {},
   "source": [
    "- Now, I will choose 20 samples of dataset of not liked or not interact songs and mix them with the liked songs. So the ratio between class $0$ and $1$ is $4:1$"
   ]
  },
  {
   "cell_type": "code",
   "execution_count": 177,
   "id": "4faf4e25",
   "metadata": {},
   "outputs": [
    {
     "name": "stderr",
     "output_type": "stream",
     "text": [
      "C:\\Users\\Admin\\AppData\\Local\\Temp\\ipykernel_16700\\2599674242.py:2: SettingWithCopyWarning: \n",
      "A value is trying to be set on a copy of a slice from a DataFrame\n",
      "\n",
      "See the caveats in the documentation: https://pandas.pydata.org/pandas-docs/stable/user_guide/indexing.html#returning-a-view-versus-a-copy\n",
      "  not_favor.drop(['Unnamed: 0'], axis=1, inplace=True)\n",
      "C:\\Users\\Admin\\AppData\\Local\\Temp\\ipykernel_16700\\2599674242.py:3: SettingWithCopyWarning: \n",
      "A value is trying to be set on a copy of a slice from a DataFrame\n",
      "\n",
      "See the caveats in the documentation: https://pandas.pydata.org/pandas-docs/stable/user_guide/indexing.html#returning-a-view-versus-a-copy\n",
      "  not_favor.drop_duplicates(inplace=True)\n",
      "C:\\Users\\Admin\\AppData\\Local\\Temp\\ipykernel_16700\\2599674242.py:4: SettingWithCopyWarning: \n",
      "A value is trying to be set on a copy of a slice from a DataFrame.\n",
      "Try using .loc[row_indexer,col_indexer] = value instead\n",
      "\n",
      "See the caveats in the documentation: https://pandas.pydata.org/pandas-docs/stable/user_guide/indexing.html#returning-a-view-versus-a-copy\n",
      "  not_favor['liked'] = 0\n"
     ]
    }
   ],
   "source": [
    "not_favor = TRAIN[~TRAIN['track_artist'].isin(['Ed Sheeran', 'Bruno Mars', 'Justin Bieber','Maroon 5'])]\n",
    "not_favor.drop(['Unnamed: 0'], axis=1, inplace=True)\n",
    "not_favor.drop_duplicates(inplace=True)\n",
    "not_favor['liked'] = 0\n",
    "sample_not_favor_df = not_favor.head(20)\n",
    "\n",
    "# Concatenate the two DataFrames\n",
    "combined_df = pd.concat([like_songs, sample_not_favor_df])\n",
    "# Shuffle the rows\n",
    "final_df = combined_df.sample(frac=1, random_state=42).reset_index(drop=True)"
   ]
  },
  {
   "cell_type": "markdown",
   "id": "ad69f06e",
   "metadata": {},
   "source": [
    "- Extract ***x_Train*** and ***y_Train*** from the combination: ***final_df***"
   ]
  },
  {
   "cell_type": "code",
   "execution_count": 178,
   "id": "3ffe06bf",
   "metadata": {},
   "outputs": [],
   "source": [
    "# Numeric values\n",
    "num_cols_resys = ['danceability', 'energy', 'track_popularity', 'loudness', 'speechiness', 'acousticness', 'instrumentalness', 'liveness', 'valence', 'tempo', 'duration_ms']\n",
    "\n",
    "# Category values\n",
    "cat_cols_resys = ['key', 'playlist_genre', 'playlist_subgenre', 'track_id','track_artist', 'track_name', \n",
    "             'track_album_id', 'track_album_name', 'playlist_name', 'playlist_id', 'track_album_release_date', 'mode']\n"
   ]
  },
  {
   "cell_type": "code",
   "execution_count": 179,
   "id": "13228275",
   "metadata": {},
   "outputs": [],
   "source": [
    "x_Train_resys = final_df.drop(['liked'], axis=1)\n",
    "y_Train_resys = final_df['liked']"
   ]
  },
  {
   "cell_type": "code",
   "execution_count": 180,
   "id": "b379b854",
   "metadata": {},
   "outputs": [],
   "source": [
    "x_Train_resys_cate = cat_pipeline.fit_transform(x_Train_resys[cat_cols_resys])\n",
    "x_Train_resys_num = num_pipeline.fit_transform(x_Train_resys[num_cols_resys])"
   ]
  },
  {
   "cell_type": "markdown",
   "id": "1801f867",
   "metadata": {},
   "source": [
    "#### <center> 2.2. Deep and Wide architecture (Google)\n"
   ]
  },
  {
   "cell_type": "markdown",
   "id": "e4272f6e",
   "metadata": {},
   "source": [
    "- Here, I will build the ***Recommender System*** based on ***Deep and Wide architecture***"
   ]
  },
  {
   "cell_type": "markdown",
   "id": "ea551bf3",
   "metadata": {},
   "source": [
    "![Deep and Wide architecture (Google)](./img/deep_wide_arch.png)\n",
    "\n",
    "Source: 04-slides_RS_recommender_systems2.pdf (Université Côte d'Azur)"
   ]
  },
  {
   "cell_type": "code",
   "execution_count": 190,
   "id": "7eb590c4",
   "metadata": {},
   "outputs": [],
   "source": [
    "\n",
    "def MyReSys(hp: kt.HyperParameters):\n",
    "    \n",
    "    # Continuous features\n",
    "    continous_inputs = keras.layers.Input(shape=(x_Train_resys_num.shape[1],))\n",
    "    continuos_x = keras.layers.Dense(128, activation='relu')(continous_inputs)\n",
    "    continuos_x = keras.layers.Dense(128, activation='relu')(continuos_x)\n",
    "    continuos_x = keras.layers.Dropout(0.1)(continuos_x)\n",
    "    continuos_x = keras.layers.Dense(1, activation='linear')(continuos_x)\n",
    "\n",
    "    \n",
    "    # Categorical features\n",
    "    inner_products = []\n",
    "    categorical_inputs = []\n",
    "    for i, feature in enumerate(features):\n",
    "        inp = keras.layers.Input(shape=(len(feature),))\n",
    "        embed_dim = hp.Int(f'dim_embedding_group{i}_features', min_value=16, max_value=64, step=16)\n",
    "        embed = keras.layers.Embedding(input_dim=dims[i], \n",
    "                                        output_dim=embed_dim, \n",
    "                                        name=f'group{i}_features_embed')(inp)\n",
    "        embed = keras.layers.Flatten()(embed)\n",
    "        \n",
    "        x = keras.layers.RepeatVector(len(feature)*embed_dim)(continuos_x)\n",
    "        x = keras.layers.Reshape((len(feature)*embed_dim,))(x)\n",
    "        dot_product = keras.layers.Dot(axes=-1)([x, embed])\n",
    "        \n",
    "        inner_products.append(dot_product)\n",
    "        categorical_inputs.append(inp)\n",
    "    \n",
    "    \n",
    "    # Concatenation\n",
    "    x_concate = keras.layers.Concatenate(axis=1)([continuos_x] + inner_products)\n",
    "    \n",
    "    # Fully connected layers\n",
    "    x_concate = keras.layers.Dense(units = hp.Int('dim_hidden_1', min_value=128, max_value=256, step=16), activation='relu')(x_concate)\n",
    "    x_concate = keras.layers.Dense(units = hp.Int('dim_hidden_2', min_value=128, max_value=256, step=16), activation='relu')(x_concate)\n",
    "    outputs = keras.layers.Dense(units = 1, activation='sigmoid')(x_concate)\n",
    "    \n",
    "    # Build the model\n",
    "    model = keras.models.Model(inputs=[continous_inputs] + categorical_inputs, outputs=outputs)\n",
    "    \n",
    "    # compile the model\n",
    "    model.compile(optimizer='adam', loss='binary_crossentropy', metrics=['f1_score'])\n",
    "    \n",
    "    # summarize the model\n",
    "    print(model.summary())\n",
    "    \n",
    "    return model\n",
    "    "
   ]
  },
  {
   "cell_type": "markdown",
   "id": "2e50b48e",
   "metadata": {},
   "source": [
    "- I added 5 liked songs and 20 not liked or not interacted songs together to be train data, so the classes are imbalance. I will use ***class_weight*** to train the data."
   ]
  },
  {
   "cell_type": "code",
   "execution_count": 182,
   "id": "effe9ece",
   "metadata": {},
   "outputs": [
    {
     "name": "stderr",
     "output_type": "stream",
     "text": [
      "C:\\Users\\Admin\\AppData\\Local\\Temp\\ipykernel_16700\\734866994.py:6: FutureWarning: Series.ravel is deprecated. The underlying array is already 1D, so ravel is not necessary.  Use `to_numpy()` for conversion to a numpy array instead.\n",
      "  y=y_Train_resys.ravel())\n"
     ]
    },
    {
     "data": {
      "text/plain": [
       "{0: 0.625, 1: 2.5}"
      ]
     },
     "execution_count": 182,
     "metadata": {},
     "output_type": "execute_result"
    }
   ],
   "source": [
    "# As the dataset is not balanced, errors are weighted by class\n",
    "from sklearn.utils import class_weight\n",
    "\n",
    "cls_w = class_weight.compute_class_weight(class_weight='balanced',\n",
    "                                                 classes=np.unique(y_Train_resys),\n",
    "                                                 y=y_Train_resys.ravel())\n",
    "\n",
    "cls_w = {k:v for k, v in enumerate(cls_w)}\n",
    "cls_w"
   ]
  },
  {
   "cell_type": "code",
   "execution_count": 203,
   "id": "9523a235",
   "metadata": {},
   "outputs": [
    {
     "name": "stdout",
     "output_type": "stream",
     "text": [
      "Trial 20 Complete [00h 00m 11s]\n",
      "val_loss: 0.7186219394207001\n",
      "\n",
      "Best val_loss So Far: 0.18881802260875702\n",
      "Total elapsed time: 00h 07m 16s\n"
     ]
    }
   ],
   "source": [
    "# simple early stopping\n",
    "es = keras.callbacks.EarlyStopping(monitor='val_loss', patience=5, mode='min', restore_best_weights=True, verbose=1)\n",
    "mc = keras.callbacks.ModelCheckpoint(\"best-model2.weights.h5\", monitor=\"val_loss\", save_best_only=True, save_weights_only=True)\n",
    "\n",
    "# Random Search the hyperparameters\n",
    "tuner_MyReSys = kt.GridSearch(\n",
    "    hypermodel= MyReSys,\n",
    "    objective=\"val_loss\",\n",
    "    max_trials=20,\n",
    "    executions_per_trial=2,\n",
    "    overwrite=True,\n",
    "    directory=\"my_dir\",\n",
    "    project_name=\"ReSys\",\n",
    ")\n",
    "\n",
    "\n",
    "tuner_MyReSys.search([np.array(x_Train_resys_num), \n",
    "              np.array(x_Train_resys_cate[group1_features]), np.array(x_Train_resys_cate[group2_features]),\n",
    "              np.array(x_Train_resys_cate[group3_features]), np.array(x_Train_resys_cate[group4_features])], \n",
    "             np.array(y_Train_resys).reshape(-1,1),\n",
    "                    validation_split=0.2, epochs=100, verbose=1, callbacks=[es,mc], class_weight=cls_w,)"
   ]
  },
  {
   "cell_type": "code",
   "execution_count": 207,
   "id": "e0832dca",
   "metadata": {},
   "outputs": [],
   "source": [
    "test_sample = pd.concat([favor_songs.iloc[5:], not_favor.iloc[20:]], axis=0, ignore_index=True)\n",
    "# Shuffle the rows\n",
    "test_df = test_sample.sample(frac=1, random_state=42).reset_index(drop=True)\n",
    "x_Test_resys = test_df.drop(['liked'], axis=1)\n",
    "y_Test_resys = test_df['liked']\n",
    "x_Test_resys_cate = cat_pipeline.transform(x_Test_resys[cat_cols_resys])\n",
    "x_Test_resys_num = num_pipeline.transform(x_Test_resys[num_cols_resys])"
   ]
  },
  {
   "cell_type": "code",
   "execution_count": 208,
   "id": "7c35bdf2",
   "metadata": {},
   "outputs": [
    {
     "data": {
      "text/html": [
       "<pre style=\"white-space:pre;overflow-x:auto;line-height:normal;font-family:Menlo,'DejaVu Sans Mono',consolas,'Courier New',monospace\"><span style=\"font-weight: bold\">Model: \"functional\"</span>\n",
       "</pre>\n"
      ],
      "text/plain": [
       "\u001b[1mModel: \"functional\"\u001b[0m\n"
      ]
     },
     "metadata": {},
     "output_type": "display_data"
    },
    {
     "data": {
      "text/html": [
       "<pre style=\"white-space:pre;overflow-x:auto;line-height:normal;font-family:Menlo,'DejaVu Sans Mono',consolas,'Courier New',monospace\">┏━━━━━━━━━━━━━━━━━━━━━┳━━━━━━━━━━━━━━━━━━━┳━━━━━━━━━━━━┳━━━━━━━━━━━━━━━━━━━┓\n",
       "┃<span style=\"font-weight: bold\"> Layer (type)        </span>┃<span style=\"font-weight: bold\"> Output Shape      </span>┃<span style=\"font-weight: bold\">    Param # </span>┃<span style=\"font-weight: bold\"> Connected to      </span>┃\n",
       "┡━━━━━━━━━━━━━━━━━━━━━╇━━━━━━━━━━━━━━━━━━━╇━━━━━━━━━━━━╇━━━━━━━━━━━━━━━━━━━┩\n",
       "│ input_layer         │ (<span style=\"color: #00d7ff; text-decoration-color: #00d7ff\">None</span>, <span style=\"color: #00af00; text-decoration-color: #00af00\">8</span>)         │          <span style=\"color: #00af00; text-decoration-color: #00af00\">0</span> │ -                 │\n",
       "│ (<span style=\"color: #0087ff; text-decoration-color: #0087ff\">InputLayer</span>)        │                   │            │                   │\n",
       "├─────────────────────┼───────────────────┼────────────┼───────────────────┤\n",
       "│ dense (<span style=\"color: #0087ff; text-decoration-color: #0087ff\">Dense</span>)       │ (<span style=\"color: #00d7ff; text-decoration-color: #00d7ff\">None</span>, <span style=\"color: #00af00; text-decoration-color: #00af00\">128</span>)       │      <span style=\"color: #00af00; text-decoration-color: #00af00\">1,152</span> │ input_layer[<span style=\"color: #00af00; text-decoration-color: #00af00\">0</span>][<span style=\"color: #00af00; text-decoration-color: #00af00\">0</span>] │\n",
       "├─────────────────────┼───────────────────┼────────────┼───────────────────┤\n",
       "│ dense_1 (<span style=\"color: #0087ff; text-decoration-color: #0087ff\">Dense</span>)     │ (<span style=\"color: #00d7ff; text-decoration-color: #00d7ff\">None</span>, <span style=\"color: #00af00; text-decoration-color: #00af00\">128</span>)       │     <span style=\"color: #00af00; text-decoration-color: #00af00\">16,512</span> │ dense[<span style=\"color: #00af00; text-decoration-color: #00af00\">0</span>][<span style=\"color: #00af00; text-decoration-color: #00af00\">0</span>]       │\n",
       "├─────────────────────┼───────────────────┼────────────┼───────────────────┤\n",
       "│ dropout (<span style=\"color: #0087ff; text-decoration-color: #0087ff\">Dropout</span>)   │ (<span style=\"color: #00d7ff; text-decoration-color: #00d7ff\">None</span>, <span style=\"color: #00af00; text-decoration-color: #00af00\">128</span>)       │          <span style=\"color: #00af00; text-decoration-color: #00af00\">0</span> │ dense_1[<span style=\"color: #00af00; text-decoration-color: #00af00\">0</span>][<span style=\"color: #00af00; text-decoration-color: #00af00\">0</span>]     │\n",
       "├─────────────────────┼───────────────────┼────────────┼───────────────────┤\n",
       "│ dense_2 (<span style=\"color: #0087ff; text-decoration-color: #0087ff\">Dense</span>)     │ (<span style=\"color: #00d7ff; text-decoration-color: #00d7ff\">None</span>, <span style=\"color: #00af00; text-decoration-color: #00af00\">1</span>)         │        <span style=\"color: #00af00; text-decoration-color: #00af00\">129</span> │ dropout[<span style=\"color: #00af00; text-decoration-color: #00af00\">0</span>][<span style=\"color: #00af00; text-decoration-color: #00af00\">0</span>]     │\n",
       "├─────────────────────┼───────────────────┼────────────┼───────────────────┤\n",
       "│ input_layer_1       │ (<span style=\"color: #00d7ff; text-decoration-color: #00d7ff\">None</span>, <span style=\"color: #00af00; text-decoration-color: #00af00\">6</span>)         │          <span style=\"color: #00af00; text-decoration-color: #00af00\">0</span> │ -                 │\n",
       "│ (<span style=\"color: #0087ff; text-decoration-color: #0087ff\">InputLayer</span>)        │                   │            │                   │\n",
       "├─────────────────────┼───────────────────┼────────────┼───────────────────┤\n",
       "│ input_layer_2       │ (<span style=\"color: #00d7ff; text-decoration-color: #00d7ff\">None</span>, <span style=\"color: #00af00; text-decoration-color: #00af00\">2</span>)         │          <span style=\"color: #00af00; text-decoration-color: #00af00\">0</span> │ -                 │\n",
       "│ (<span style=\"color: #0087ff; text-decoration-color: #0087ff\">InputLayer</span>)        │                   │            │                   │\n",
       "├─────────────────────┼───────────────────┼────────────┼───────────────────┤\n",
       "│ input_layer_3       │ (<span style=\"color: #00d7ff; text-decoration-color: #00d7ff\">None</span>, <span style=\"color: #00af00; text-decoration-color: #00af00\">2</span>)         │          <span style=\"color: #00af00; text-decoration-color: #00af00\">0</span> │ -                 │\n",
       "│ (<span style=\"color: #0087ff; text-decoration-color: #0087ff\">InputLayer</span>)        │                   │            │                   │\n",
       "├─────────────────────┼───────────────────┼────────────┼───────────────────┤\n",
       "│ input_layer_4       │ (<span style=\"color: #00d7ff; text-decoration-color: #00d7ff\">None</span>, <span style=\"color: #00af00; text-decoration-color: #00af00\">2</span>)         │          <span style=\"color: #00af00; text-decoration-color: #00af00\">0</span> │ -                 │\n",
       "│ (<span style=\"color: #0087ff; text-decoration-color: #0087ff\">InputLayer</span>)        │                   │            │                   │\n",
       "├─────────────────────┼───────────────────┼────────────┼───────────────────┤\n",
       "│ repeat_vector       │ (<span style=\"color: #00d7ff; text-decoration-color: #00d7ff\">None</span>, <span style=\"color: #00af00; text-decoration-color: #00af00\">96</span>, <span style=\"color: #00af00; text-decoration-color: #00af00\">1</span>)     │          <span style=\"color: #00af00; text-decoration-color: #00af00\">0</span> │ dense_2[<span style=\"color: #00af00; text-decoration-color: #00af00\">0</span>][<span style=\"color: #00af00; text-decoration-color: #00af00\">0</span>]     │\n",
       "│ (<span style=\"color: #0087ff; text-decoration-color: #0087ff\">RepeatVector</span>)      │                   │            │                   │\n",
       "├─────────────────────┼───────────────────┼────────────┼───────────────────┤\n",
       "│ group0_features_em… │ (<span style=\"color: #00d7ff; text-decoration-color: #00d7ff\">None</span>, <span style=\"color: #00af00; text-decoration-color: #00af00\">6</span>, <span style=\"color: #00af00; text-decoration-color: #00af00\">16</span>)     │    <span style=\"color: #00af00; text-decoration-color: #00af00\">131,088</span> │ input_layer_1[<span style=\"color: #00af00; text-decoration-color: #00af00\">0</span>]… │\n",
       "│ (<span style=\"color: #0087ff; text-decoration-color: #0087ff\">Embedding</span>)         │                   │            │                   │\n",
       "├─────────────────────┼───────────────────┼────────────┼───────────────────┤\n",
       "│ repeat_vector_1     │ (<span style=\"color: #00d7ff; text-decoration-color: #00d7ff\">None</span>, <span style=\"color: #00af00; text-decoration-color: #00af00\">32</span>, <span style=\"color: #00af00; text-decoration-color: #00af00\">1</span>)     │          <span style=\"color: #00af00; text-decoration-color: #00af00\">0</span> │ dense_2[<span style=\"color: #00af00; text-decoration-color: #00af00\">0</span>][<span style=\"color: #00af00; text-decoration-color: #00af00\">0</span>]     │\n",
       "│ (<span style=\"color: #0087ff; text-decoration-color: #0087ff\">RepeatVector</span>)      │                   │            │                   │\n",
       "├─────────────────────┼───────────────────┼────────────┼───────────────────┤\n",
       "│ group1_features_em… │ (<span style=\"color: #00d7ff; text-decoration-color: #00d7ff\">None</span>, <span style=\"color: #00af00; text-decoration-color: #00af00\">2</span>, <span style=\"color: #00af00; text-decoration-color: #00af00\">16</span>)     │    <span style=\"color: #00af00; text-decoration-color: #00af00\">303,744</span> │ input_layer_2[<span style=\"color: #00af00; text-decoration-color: #00af00\">0</span>]… │\n",
       "│ (<span style=\"color: #0087ff; text-decoration-color: #0087ff\">Embedding</span>)         │                   │            │                   │\n",
       "├─────────────────────┼───────────────────┼────────────┼───────────────────┤\n",
       "│ repeat_vector_2     │ (<span style=\"color: #00d7ff; text-decoration-color: #00d7ff\">None</span>, <span style=\"color: #00af00; text-decoration-color: #00af00\">32</span>, <span style=\"color: #00af00; text-decoration-color: #00af00\">1</span>)     │          <span style=\"color: #00af00; text-decoration-color: #00af00\">0</span> │ dense_2[<span style=\"color: #00af00; text-decoration-color: #00af00\">0</span>][<span style=\"color: #00af00; text-decoration-color: #00af00\">0</span>]     │\n",
       "│ (<span style=\"color: #0087ff; text-decoration-color: #0087ff\">RepeatVector</span>)      │                   │            │                   │\n",
       "├─────────────────────┼───────────────────┼────────────┼───────────────────┤\n",
       "│ group2_features_em… │ (<span style=\"color: #00d7ff; text-decoration-color: #00d7ff\">None</span>, <span style=\"color: #00af00; text-decoration-color: #00af00\">2</span>, <span style=\"color: #00af00; text-decoration-color: #00af00\">16</span>)     │    <span style=\"color: #00af00; text-decoration-color: #00af00\">254,304</span> │ input_layer_3[<span style=\"color: #00af00; text-decoration-color: #00af00\">0</span>]… │\n",
       "│ (<span style=\"color: #0087ff; text-decoration-color: #0087ff\">Embedding</span>)         │                   │            │                   │\n",
       "├─────────────────────┼───────────────────┼────────────┼───────────────────┤\n",
       "│ repeat_vector_3     │ (<span style=\"color: #00d7ff; text-decoration-color: #00d7ff\">None</span>, <span style=\"color: #00af00; text-decoration-color: #00af00\">32</span>, <span style=\"color: #00af00; text-decoration-color: #00af00\">1</span>)     │          <span style=\"color: #00af00; text-decoration-color: #00af00\">0</span> │ dense_2[<span style=\"color: #00af00; text-decoration-color: #00af00\">0</span>][<span style=\"color: #00af00; text-decoration-color: #00af00\">0</span>]     │\n",
       "│ (<span style=\"color: #0087ff; text-decoration-color: #0087ff\">RepeatVector</span>)      │                   │            │                   │\n",
       "├─────────────────────┼───────────────────┼────────────┼───────────────────┤\n",
       "│ group3_features_em… │ (<span style=\"color: #00d7ff; text-decoration-color: #00d7ff\">None</span>, <span style=\"color: #00af00; text-decoration-color: #00af00\">2</span>, <span style=\"color: #00af00; text-decoration-color: #00af00\">16</span>)     │      <span style=\"color: #00af00; text-decoration-color: #00af00\">7,552</span> │ input_layer_4[<span style=\"color: #00af00; text-decoration-color: #00af00\">0</span>]… │\n",
       "│ (<span style=\"color: #0087ff; text-decoration-color: #0087ff\">Embedding</span>)         │                   │            │                   │\n",
       "├─────────────────────┼───────────────────┼────────────┼───────────────────┤\n",
       "│ reshape (<span style=\"color: #0087ff; text-decoration-color: #0087ff\">Reshape</span>)   │ (<span style=\"color: #00d7ff; text-decoration-color: #00d7ff\">None</span>, <span style=\"color: #00af00; text-decoration-color: #00af00\">96</span>)        │          <span style=\"color: #00af00; text-decoration-color: #00af00\">0</span> │ repeat_vector[<span style=\"color: #00af00; text-decoration-color: #00af00\">0</span>]… │\n",
       "├─────────────────────┼───────────────────┼────────────┼───────────────────┤\n",
       "│ flatten (<span style=\"color: #0087ff; text-decoration-color: #0087ff\">Flatten</span>)   │ (<span style=\"color: #00d7ff; text-decoration-color: #00d7ff\">None</span>, <span style=\"color: #00af00; text-decoration-color: #00af00\">96</span>)        │          <span style=\"color: #00af00; text-decoration-color: #00af00\">0</span> │ group0_features_… │\n",
       "├─────────────────────┼───────────────────┼────────────┼───────────────────┤\n",
       "│ reshape_1 (<span style=\"color: #0087ff; text-decoration-color: #0087ff\">Reshape</span>) │ (<span style=\"color: #00d7ff; text-decoration-color: #00d7ff\">None</span>, <span style=\"color: #00af00; text-decoration-color: #00af00\">32</span>)        │          <span style=\"color: #00af00; text-decoration-color: #00af00\">0</span> │ repeat_vector_1[<span style=\"color: #00af00; text-decoration-color: #00af00\">…</span> │\n",
       "├─────────────────────┼───────────────────┼────────────┼───────────────────┤\n",
       "│ flatten_1 (<span style=\"color: #0087ff; text-decoration-color: #0087ff\">Flatten</span>) │ (<span style=\"color: #00d7ff; text-decoration-color: #00d7ff\">None</span>, <span style=\"color: #00af00; text-decoration-color: #00af00\">32</span>)        │          <span style=\"color: #00af00; text-decoration-color: #00af00\">0</span> │ group1_features_… │\n",
       "├─────────────────────┼───────────────────┼────────────┼───────────────────┤\n",
       "│ reshape_2 (<span style=\"color: #0087ff; text-decoration-color: #0087ff\">Reshape</span>) │ (<span style=\"color: #00d7ff; text-decoration-color: #00d7ff\">None</span>, <span style=\"color: #00af00; text-decoration-color: #00af00\">32</span>)        │          <span style=\"color: #00af00; text-decoration-color: #00af00\">0</span> │ repeat_vector_2[<span style=\"color: #00af00; text-decoration-color: #00af00\">…</span> │\n",
       "├─────────────────────┼───────────────────┼────────────┼───────────────────┤\n",
       "│ flatten_2 (<span style=\"color: #0087ff; text-decoration-color: #0087ff\">Flatten</span>) │ (<span style=\"color: #00d7ff; text-decoration-color: #00d7ff\">None</span>, <span style=\"color: #00af00; text-decoration-color: #00af00\">32</span>)        │          <span style=\"color: #00af00; text-decoration-color: #00af00\">0</span> │ group2_features_… │\n",
       "├─────────────────────┼───────────────────┼────────────┼───────────────────┤\n",
       "│ reshape_3 (<span style=\"color: #0087ff; text-decoration-color: #0087ff\">Reshape</span>) │ (<span style=\"color: #00d7ff; text-decoration-color: #00d7ff\">None</span>, <span style=\"color: #00af00; text-decoration-color: #00af00\">32</span>)        │          <span style=\"color: #00af00; text-decoration-color: #00af00\">0</span> │ repeat_vector_3[<span style=\"color: #00af00; text-decoration-color: #00af00\">…</span> │\n",
       "├─────────────────────┼───────────────────┼────────────┼───────────────────┤\n",
       "│ flatten_3 (<span style=\"color: #0087ff; text-decoration-color: #0087ff\">Flatten</span>) │ (<span style=\"color: #00d7ff; text-decoration-color: #00d7ff\">None</span>, <span style=\"color: #00af00; text-decoration-color: #00af00\">32</span>)        │          <span style=\"color: #00af00; text-decoration-color: #00af00\">0</span> │ group3_features_… │\n",
       "├─────────────────────┼───────────────────┼────────────┼───────────────────┤\n",
       "│ dot (<span style=\"color: #0087ff; text-decoration-color: #0087ff\">Dot</span>)           │ (<span style=\"color: #00d7ff; text-decoration-color: #00d7ff\">None</span>, <span style=\"color: #00af00; text-decoration-color: #00af00\">1</span>)         │          <span style=\"color: #00af00; text-decoration-color: #00af00\">0</span> │ reshape[<span style=\"color: #00af00; text-decoration-color: #00af00\">0</span>][<span style=\"color: #00af00; text-decoration-color: #00af00\">0</span>],    │\n",
       "│                     │                   │            │ flatten[<span style=\"color: #00af00; text-decoration-color: #00af00\">0</span>][<span style=\"color: #00af00; text-decoration-color: #00af00\">0</span>]     │\n",
       "├─────────────────────┼───────────────────┼────────────┼───────────────────┤\n",
       "│ dot_1 (<span style=\"color: #0087ff; text-decoration-color: #0087ff\">Dot</span>)         │ (<span style=\"color: #00d7ff; text-decoration-color: #00d7ff\">None</span>, <span style=\"color: #00af00; text-decoration-color: #00af00\">1</span>)         │          <span style=\"color: #00af00; text-decoration-color: #00af00\">0</span> │ reshape_1[<span style=\"color: #00af00; text-decoration-color: #00af00\">0</span>][<span style=\"color: #00af00; text-decoration-color: #00af00\">0</span>],  │\n",
       "│                     │                   │            │ flatten_1[<span style=\"color: #00af00; text-decoration-color: #00af00\">0</span>][<span style=\"color: #00af00; text-decoration-color: #00af00\">0</span>]   │\n",
       "├─────────────────────┼───────────────────┼────────────┼───────────────────┤\n",
       "│ dot_2 (<span style=\"color: #0087ff; text-decoration-color: #0087ff\">Dot</span>)         │ (<span style=\"color: #00d7ff; text-decoration-color: #00d7ff\">None</span>, <span style=\"color: #00af00; text-decoration-color: #00af00\">1</span>)         │          <span style=\"color: #00af00; text-decoration-color: #00af00\">0</span> │ reshape_2[<span style=\"color: #00af00; text-decoration-color: #00af00\">0</span>][<span style=\"color: #00af00; text-decoration-color: #00af00\">0</span>],  │\n",
       "│                     │                   │            │ flatten_2[<span style=\"color: #00af00; text-decoration-color: #00af00\">0</span>][<span style=\"color: #00af00; text-decoration-color: #00af00\">0</span>]   │\n",
       "├─────────────────────┼───────────────────┼────────────┼───────────────────┤\n",
       "│ dot_3 (<span style=\"color: #0087ff; text-decoration-color: #0087ff\">Dot</span>)         │ (<span style=\"color: #00d7ff; text-decoration-color: #00d7ff\">None</span>, <span style=\"color: #00af00; text-decoration-color: #00af00\">1</span>)         │          <span style=\"color: #00af00; text-decoration-color: #00af00\">0</span> │ reshape_3[<span style=\"color: #00af00; text-decoration-color: #00af00\">0</span>][<span style=\"color: #00af00; text-decoration-color: #00af00\">0</span>],  │\n",
       "│                     │                   │            │ flatten_3[<span style=\"color: #00af00; text-decoration-color: #00af00\">0</span>][<span style=\"color: #00af00; text-decoration-color: #00af00\">0</span>]   │\n",
       "├─────────────────────┼───────────────────┼────────────┼───────────────────┤\n",
       "│ concatenate         │ (<span style=\"color: #00d7ff; text-decoration-color: #00d7ff\">None</span>, <span style=\"color: #00af00; text-decoration-color: #00af00\">5</span>)         │          <span style=\"color: #00af00; text-decoration-color: #00af00\">0</span> │ dense_2[<span style=\"color: #00af00; text-decoration-color: #00af00\">0</span>][<span style=\"color: #00af00; text-decoration-color: #00af00\">0</span>],    │\n",
       "│ (<span style=\"color: #0087ff; text-decoration-color: #0087ff\">Concatenate</span>)       │                   │            │ dot[<span style=\"color: #00af00; text-decoration-color: #00af00\">0</span>][<span style=\"color: #00af00; text-decoration-color: #00af00\">0</span>],        │\n",
       "│                     │                   │            │ dot_1[<span style=\"color: #00af00; text-decoration-color: #00af00\">0</span>][<span style=\"color: #00af00; text-decoration-color: #00af00\">0</span>],      │\n",
       "│                     │                   │            │ dot_2[<span style=\"color: #00af00; text-decoration-color: #00af00\">0</span>][<span style=\"color: #00af00; text-decoration-color: #00af00\">0</span>],      │\n",
       "│                     │                   │            │ dot_3[<span style=\"color: #00af00; text-decoration-color: #00af00\">0</span>][<span style=\"color: #00af00; text-decoration-color: #00af00\">0</span>]       │\n",
       "├─────────────────────┼───────────────────┼────────────┼───────────────────┤\n",
       "│ dense_3 (<span style=\"color: #0087ff; text-decoration-color: #0087ff\">Dense</span>)     │ (<span style=\"color: #00d7ff; text-decoration-color: #00d7ff\">None</span>, <span style=\"color: #00af00; text-decoration-color: #00af00\">128</span>)       │        <span style=\"color: #00af00; text-decoration-color: #00af00\">768</span> │ concatenate[<span style=\"color: #00af00; text-decoration-color: #00af00\">0</span>][<span style=\"color: #00af00; text-decoration-color: #00af00\">0</span>] │\n",
       "├─────────────────────┼───────────────────┼────────────┼───────────────────┤\n",
       "│ dense_4 (<span style=\"color: #0087ff; text-decoration-color: #0087ff\">Dense</span>)     │ (<span style=\"color: #00d7ff; text-decoration-color: #00d7ff\">None</span>, <span style=\"color: #00af00; text-decoration-color: #00af00\">192</span>)       │     <span style=\"color: #00af00; text-decoration-color: #00af00\">24,768</span> │ dense_3[<span style=\"color: #00af00; text-decoration-color: #00af00\">0</span>][<span style=\"color: #00af00; text-decoration-color: #00af00\">0</span>]     │\n",
       "├─────────────────────┼───────────────────┼────────────┼───────────────────┤\n",
       "│ dense_5 (<span style=\"color: #0087ff; text-decoration-color: #0087ff\">Dense</span>)     │ (<span style=\"color: #00d7ff; text-decoration-color: #00d7ff\">None</span>, <span style=\"color: #00af00; text-decoration-color: #00af00\">1</span>)         │        <span style=\"color: #00af00; text-decoration-color: #00af00\">193</span> │ dense_4[<span style=\"color: #00af00; text-decoration-color: #00af00\">0</span>][<span style=\"color: #00af00; text-decoration-color: #00af00\">0</span>]     │\n",
       "└─────────────────────┴───────────────────┴────────────┴───────────────────┘\n",
       "</pre>\n"
      ],
      "text/plain": [
       "┏━━━━━━━━━━━━━━━━━━━━━┳━━━━━━━━━━━━━━━━━━━┳━━━━━━━━━━━━┳━━━━━━━━━━━━━━━━━━━┓\n",
       "┃\u001b[1m \u001b[0m\u001b[1mLayer (type)       \u001b[0m\u001b[1m \u001b[0m┃\u001b[1m \u001b[0m\u001b[1mOutput Shape     \u001b[0m\u001b[1m \u001b[0m┃\u001b[1m \u001b[0m\u001b[1m   Param #\u001b[0m\u001b[1m \u001b[0m┃\u001b[1m \u001b[0m\u001b[1mConnected to     \u001b[0m\u001b[1m \u001b[0m┃\n",
       "┡━━━━━━━━━━━━━━━━━━━━━╇━━━━━━━━━━━━━━━━━━━╇━━━━━━━━━━━━╇━━━━━━━━━━━━━━━━━━━┩\n",
       "│ input_layer         │ (\u001b[38;5;45mNone\u001b[0m, \u001b[38;5;34m8\u001b[0m)         │          \u001b[38;5;34m0\u001b[0m │ -                 │\n",
       "│ (\u001b[38;5;33mInputLayer\u001b[0m)        │                   │            │                   │\n",
       "├─────────────────────┼───────────────────┼────────────┼───────────────────┤\n",
       "│ dense (\u001b[38;5;33mDense\u001b[0m)       │ (\u001b[38;5;45mNone\u001b[0m, \u001b[38;5;34m128\u001b[0m)       │      \u001b[38;5;34m1,152\u001b[0m │ input_layer[\u001b[38;5;34m0\u001b[0m][\u001b[38;5;34m0\u001b[0m] │\n",
       "├─────────────────────┼───────────────────┼────────────┼───────────────────┤\n",
       "│ dense_1 (\u001b[38;5;33mDense\u001b[0m)     │ (\u001b[38;5;45mNone\u001b[0m, \u001b[38;5;34m128\u001b[0m)       │     \u001b[38;5;34m16,512\u001b[0m │ dense[\u001b[38;5;34m0\u001b[0m][\u001b[38;5;34m0\u001b[0m]       │\n",
       "├─────────────────────┼───────────────────┼────────────┼───────────────────┤\n",
       "│ dropout (\u001b[38;5;33mDropout\u001b[0m)   │ (\u001b[38;5;45mNone\u001b[0m, \u001b[38;5;34m128\u001b[0m)       │          \u001b[38;5;34m0\u001b[0m │ dense_1[\u001b[38;5;34m0\u001b[0m][\u001b[38;5;34m0\u001b[0m]     │\n",
       "├─────────────────────┼───────────────────┼────────────┼───────────────────┤\n",
       "│ dense_2 (\u001b[38;5;33mDense\u001b[0m)     │ (\u001b[38;5;45mNone\u001b[0m, \u001b[38;5;34m1\u001b[0m)         │        \u001b[38;5;34m129\u001b[0m │ dropout[\u001b[38;5;34m0\u001b[0m][\u001b[38;5;34m0\u001b[0m]     │\n",
       "├─────────────────────┼───────────────────┼────────────┼───────────────────┤\n",
       "│ input_layer_1       │ (\u001b[38;5;45mNone\u001b[0m, \u001b[38;5;34m6\u001b[0m)         │          \u001b[38;5;34m0\u001b[0m │ -                 │\n",
       "│ (\u001b[38;5;33mInputLayer\u001b[0m)        │                   │            │                   │\n",
       "├─────────────────────┼───────────────────┼────────────┼───────────────────┤\n",
       "│ input_layer_2       │ (\u001b[38;5;45mNone\u001b[0m, \u001b[38;5;34m2\u001b[0m)         │          \u001b[38;5;34m0\u001b[0m │ -                 │\n",
       "│ (\u001b[38;5;33mInputLayer\u001b[0m)        │                   │            │                   │\n",
       "├─────────────────────┼───────────────────┼────────────┼───────────────────┤\n",
       "│ input_layer_3       │ (\u001b[38;5;45mNone\u001b[0m, \u001b[38;5;34m2\u001b[0m)         │          \u001b[38;5;34m0\u001b[0m │ -                 │\n",
       "│ (\u001b[38;5;33mInputLayer\u001b[0m)        │                   │            │                   │\n",
       "├─────────────────────┼───────────────────┼────────────┼───────────────────┤\n",
       "│ input_layer_4       │ (\u001b[38;5;45mNone\u001b[0m, \u001b[38;5;34m2\u001b[0m)         │          \u001b[38;5;34m0\u001b[0m │ -                 │\n",
       "│ (\u001b[38;5;33mInputLayer\u001b[0m)        │                   │            │                   │\n",
       "├─────────────────────┼───────────────────┼────────────┼───────────────────┤\n",
       "│ repeat_vector       │ (\u001b[38;5;45mNone\u001b[0m, \u001b[38;5;34m96\u001b[0m, \u001b[38;5;34m1\u001b[0m)     │          \u001b[38;5;34m0\u001b[0m │ dense_2[\u001b[38;5;34m0\u001b[0m][\u001b[38;5;34m0\u001b[0m]     │\n",
       "│ (\u001b[38;5;33mRepeatVector\u001b[0m)      │                   │            │                   │\n",
       "├─────────────────────┼───────────────────┼────────────┼───────────────────┤\n",
       "│ group0_features_em… │ (\u001b[38;5;45mNone\u001b[0m, \u001b[38;5;34m6\u001b[0m, \u001b[38;5;34m16\u001b[0m)     │    \u001b[38;5;34m131,088\u001b[0m │ input_layer_1[\u001b[38;5;34m0\u001b[0m]… │\n",
       "│ (\u001b[38;5;33mEmbedding\u001b[0m)         │                   │            │                   │\n",
       "├─────────────────────┼───────────────────┼────────────┼───────────────────┤\n",
       "│ repeat_vector_1     │ (\u001b[38;5;45mNone\u001b[0m, \u001b[38;5;34m32\u001b[0m, \u001b[38;5;34m1\u001b[0m)     │          \u001b[38;5;34m0\u001b[0m │ dense_2[\u001b[38;5;34m0\u001b[0m][\u001b[38;5;34m0\u001b[0m]     │\n",
       "│ (\u001b[38;5;33mRepeatVector\u001b[0m)      │                   │            │                   │\n",
       "├─────────────────────┼───────────────────┼────────────┼───────────────────┤\n",
       "│ group1_features_em… │ (\u001b[38;5;45mNone\u001b[0m, \u001b[38;5;34m2\u001b[0m, \u001b[38;5;34m16\u001b[0m)     │    \u001b[38;5;34m303,744\u001b[0m │ input_layer_2[\u001b[38;5;34m0\u001b[0m]… │\n",
       "│ (\u001b[38;5;33mEmbedding\u001b[0m)         │                   │            │                   │\n",
       "├─────────────────────┼───────────────────┼────────────┼───────────────────┤\n",
       "│ repeat_vector_2     │ (\u001b[38;5;45mNone\u001b[0m, \u001b[38;5;34m32\u001b[0m, \u001b[38;5;34m1\u001b[0m)     │          \u001b[38;5;34m0\u001b[0m │ dense_2[\u001b[38;5;34m0\u001b[0m][\u001b[38;5;34m0\u001b[0m]     │\n",
       "│ (\u001b[38;5;33mRepeatVector\u001b[0m)      │                   │            │                   │\n",
       "├─────────────────────┼───────────────────┼────────────┼───────────────────┤\n",
       "│ group2_features_em… │ (\u001b[38;5;45mNone\u001b[0m, \u001b[38;5;34m2\u001b[0m, \u001b[38;5;34m16\u001b[0m)     │    \u001b[38;5;34m254,304\u001b[0m │ input_layer_3[\u001b[38;5;34m0\u001b[0m]… │\n",
       "│ (\u001b[38;5;33mEmbedding\u001b[0m)         │                   │            │                   │\n",
       "├─────────────────────┼───────────────────┼────────────┼───────────────────┤\n",
       "│ repeat_vector_3     │ (\u001b[38;5;45mNone\u001b[0m, \u001b[38;5;34m32\u001b[0m, \u001b[38;5;34m1\u001b[0m)     │          \u001b[38;5;34m0\u001b[0m │ dense_2[\u001b[38;5;34m0\u001b[0m][\u001b[38;5;34m0\u001b[0m]     │\n",
       "│ (\u001b[38;5;33mRepeatVector\u001b[0m)      │                   │            │                   │\n",
       "├─────────────────────┼───────────────────┼────────────┼───────────────────┤\n",
       "│ group3_features_em… │ (\u001b[38;5;45mNone\u001b[0m, \u001b[38;5;34m2\u001b[0m, \u001b[38;5;34m16\u001b[0m)     │      \u001b[38;5;34m7,552\u001b[0m │ input_layer_4[\u001b[38;5;34m0\u001b[0m]… │\n",
       "│ (\u001b[38;5;33mEmbedding\u001b[0m)         │                   │            │                   │\n",
       "├─────────────────────┼───────────────────┼────────────┼───────────────────┤\n",
       "│ reshape (\u001b[38;5;33mReshape\u001b[0m)   │ (\u001b[38;5;45mNone\u001b[0m, \u001b[38;5;34m96\u001b[0m)        │          \u001b[38;5;34m0\u001b[0m │ repeat_vector[\u001b[38;5;34m0\u001b[0m]… │\n",
       "├─────────────────────┼───────────────────┼────────────┼───────────────────┤\n",
       "│ flatten (\u001b[38;5;33mFlatten\u001b[0m)   │ (\u001b[38;5;45mNone\u001b[0m, \u001b[38;5;34m96\u001b[0m)        │          \u001b[38;5;34m0\u001b[0m │ group0_features_… │\n",
       "├─────────────────────┼───────────────────┼────────────┼───────────────────┤\n",
       "│ reshape_1 (\u001b[38;5;33mReshape\u001b[0m) │ (\u001b[38;5;45mNone\u001b[0m, \u001b[38;5;34m32\u001b[0m)        │          \u001b[38;5;34m0\u001b[0m │ repeat_vector_1[\u001b[38;5;34m…\u001b[0m │\n",
       "├─────────────────────┼───────────────────┼────────────┼───────────────────┤\n",
       "│ flatten_1 (\u001b[38;5;33mFlatten\u001b[0m) │ (\u001b[38;5;45mNone\u001b[0m, \u001b[38;5;34m32\u001b[0m)        │          \u001b[38;5;34m0\u001b[0m │ group1_features_… │\n",
       "├─────────────────────┼───────────────────┼────────────┼───────────────────┤\n",
       "│ reshape_2 (\u001b[38;5;33mReshape\u001b[0m) │ (\u001b[38;5;45mNone\u001b[0m, \u001b[38;5;34m32\u001b[0m)        │          \u001b[38;5;34m0\u001b[0m │ repeat_vector_2[\u001b[38;5;34m…\u001b[0m │\n",
       "├─────────────────────┼───────────────────┼────────────┼───────────────────┤\n",
       "│ flatten_2 (\u001b[38;5;33mFlatten\u001b[0m) │ (\u001b[38;5;45mNone\u001b[0m, \u001b[38;5;34m32\u001b[0m)        │          \u001b[38;5;34m0\u001b[0m │ group2_features_… │\n",
       "├─────────────────────┼───────────────────┼────────────┼───────────────────┤\n",
       "│ reshape_3 (\u001b[38;5;33mReshape\u001b[0m) │ (\u001b[38;5;45mNone\u001b[0m, \u001b[38;5;34m32\u001b[0m)        │          \u001b[38;5;34m0\u001b[0m │ repeat_vector_3[\u001b[38;5;34m…\u001b[0m │\n",
       "├─────────────────────┼───────────────────┼────────────┼───────────────────┤\n",
       "│ flatten_3 (\u001b[38;5;33mFlatten\u001b[0m) │ (\u001b[38;5;45mNone\u001b[0m, \u001b[38;5;34m32\u001b[0m)        │          \u001b[38;5;34m0\u001b[0m │ group3_features_… │\n",
       "├─────────────────────┼───────────────────┼────────────┼───────────────────┤\n",
       "│ dot (\u001b[38;5;33mDot\u001b[0m)           │ (\u001b[38;5;45mNone\u001b[0m, \u001b[38;5;34m1\u001b[0m)         │          \u001b[38;5;34m0\u001b[0m │ reshape[\u001b[38;5;34m0\u001b[0m][\u001b[38;5;34m0\u001b[0m],    │\n",
       "│                     │                   │            │ flatten[\u001b[38;5;34m0\u001b[0m][\u001b[38;5;34m0\u001b[0m]     │\n",
       "├─────────────────────┼───────────────────┼────────────┼───────────────────┤\n",
       "│ dot_1 (\u001b[38;5;33mDot\u001b[0m)         │ (\u001b[38;5;45mNone\u001b[0m, \u001b[38;5;34m1\u001b[0m)         │          \u001b[38;5;34m0\u001b[0m │ reshape_1[\u001b[38;5;34m0\u001b[0m][\u001b[38;5;34m0\u001b[0m],  │\n",
       "│                     │                   │            │ flatten_1[\u001b[38;5;34m0\u001b[0m][\u001b[38;5;34m0\u001b[0m]   │\n",
       "├─────────────────────┼───────────────────┼────────────┼───────────────────┤\n",
       "│ dot_2 (\u001b[38;5;33mDot\u001b[0m)         │ (\u001b[38;5;45mNone\u001b[0m, \u001b[38;5;34m1\u001b[0m)         │          \u001b[38;5;34m0\u001b[0m │ reshape_2[\u001b[38;5;34m0\u001b[0m][\u001b[38;5;34m0\u001b[0m],  │\n",
       "│                     │                   │            │ flatten_2[\u001b[38;5;34m0\u001b[0m][\u001b[38;5;34m0\u001b[0m]   │\n",
       "├─────────────────────┼───────────────────┼────────────┼───────────────────┤\n",
       "│ dot_3 (\u001b[38;5;33mDot\u001b[0m)         │ (\u001b[38;5;45mNone\u001b[0m, \u001b[38;5;34m1\u001b[0m)         │          \u001b[38;5;34m0\u001b[0m │ reshape_3[\u001b[38;5;34m0\u001b[0m][\u001b[38;5;34m0\u001b[0m],  │\n",
       "│                     │                   │            │ flatten_3[\u001b[38;5;34m0\u001b[0m][\u001b[38;5;34m0\u001b[0m]   │\n",
       "├─────────────────────┼───────────────────┼────────────┼───────────────────┤\n",
       "│ concatenate         │ (\u001b[38;5;45mNone\u001b[0m, \u001b[38;5;34m5\u001b[0m)         │          \u001b[38;5;34m0\u001b[0m │ dense_2[\u001b[38;5;34m0\u001b[0m][\u001b[38;5;34m0\u001b[0m],    │\n",
       "│ (\u001b[38;5;33mConcatenate\u001b[0m)       │                   │            │ dot[\u001b[38;5;34m0\u001b[0m][\u001b[38;5;34m0\u001b[0m],        │\n",
       "│                     │                   │            │ dot_1[\u001b[38;5;34m0\u001b[0m][\u001b[38;5;34m0\u001b[0m],      │\n",
       "│                     │                   │            │ dot_2[\u001b[38;5;34m0\u001b[0m][\u001b[38;5;34m0\u001b[0m],      │\n",
       "│                     │                   │            │ dot_3[\u001b[38;5;34m0\u001b[0m][\u001b[38;5;34m0\u001b[0m]       │\n",
       "├─────────────────────┼───────────────────┼────────────┼───────────────────┤\n",
       "│ dense_3 (\u001b[38;5;33mDense\u001b[0m)     │ (\u001b[38;5;45mNone\u001b[0m, \u001b[38;5;34m128\u001b[0m)       │        \u001b[38;5;34m768\u001b[0m │ concatenate[\u001b[38;5;34m0\u001b[0m][\u001b[38;5;34m0\u001b[0m] │\n",
       "├─────────────────────┼───────────────────┼────────────┼───────────────────┤\n",
       "│ dense_4 (\u001b[38;5;33mDense\u001b[0m)     │ (\u001b[38;5;45mNone\u001b[0m, \u001b[38;5;34m192\u001b[0m)       │     \u001b[38;5;34m24,768\u001b[0m │ dense_3[\u001b[38;5;34m0\u001b[0m][\u001b[38;5;34m0\u001b[0m]     │\n",
       "├─────────────────────┼───────────────────┼────────────┼───────────────────┤\n",
       "│ dense_5 (\u001b[38;5;33mDense\u001b[0m)     │ (\u001b[38;5;45mNone\u001b[0m, \u001b[38;5;34m1\u001b[0m)         │        \u001b[38;5;34m193\u001b[0m │ dense_4[\u001b[38;5;34m0\u001b[0m][\u001b[38;5;34m0\u001b[0m]     │\n",
       "└─────────────────────┴───────────────────┴────────────┴───────────────────┘\n"
      ]
     },
     "metadata": {},
     "output_type": "display_data"
    },
    {
     "data": {
      "text/html": [
       "<pre style=\"white-space:pre;overflow-x:auto;line-height:normal;font-family:Menlo,'DejaVu Sans Mono',consolas,'Courier New',monospace\"><span style=\"font-weight: bold\"> Total params: </span><span style=\"color: #00af00; text-decoration-color: #00af00\">740,210</span> (2.82 MB)\n",
       "</pre>\n"
      ],
      "text/plain": [
       "\u001b[1m Total params: \u001b[0m\u001b[38;5;34m740,210\u001b[0m (2.82 MB)\n"
      ]
     },
     "metadata": {},
     "output_type": "display_data"
    },
    {
     "data": {
      "text/html": [
       "<pre style=\"white-space:pre;overflow-x:auto;line-height:normal;font-family:Menlo,'DejaVu Sans Mono',consolas,'Courier New',monospace\"><span style=\"font-weight: bold\"> Trainable params: </span><span style=\"color: #00af00; text-decoration-color: #00af00\">740,210</span> (2.82 MB)\n",
       "</pre>\n"
      ],
      "text/plain": [
       "\u001b[1m Trainable params: \u001b[0m\u001b[38;5;34m740,210\u001b[0m (2.82 MB)\n"
      ]
     },
     "metadata": {},
     "output_type": "display_data"
    },
    {
     "data": {
      "text/html": [
       "<pre style=\"white-space:pre;overflow-x:auto;line-height:normal;font-family:Menlo,'DejaVu Sans Mono',consolas,'Courier New',monospace\"><span style=\"font-weight: bold\"> Non-trainable params: </span><span style=\"color: #00af00; text-decoration-color: #00af00\">0</span> (0.00 B)\n",
       "</pre>\n"
      ],
      "text/plain": [
       "\u001b[1m Non-trainable params: \u001b[0m\u001b[38;5;34m0\u001b[0m (0.00 B)\n"
      ]
     },
     "metadata": {},
     "output_type": "display_data"
    },
    {
     "name": "stdout",
     "output_type": "stream",
     "text": [
      "None\n"
     ]
    },
    {
     "name": "stderr",
     "output_type": "stream",
     "text": [
      "c:\\Users\\Admin\\AppData\\Local\\Programs\\Python\\Python310\\lib\\site-packages\\keras\\src\\saving\\saving_lib.py:719: UserWarning: Skipping variable loading for optimizer 'adam', because it has 2 variables whereas the saved optimizer has 34 variables. \n",
      "  saveable.load_own_variables(weights_store.get(inner_path))\n",
      "c:\\Users\\Admin\\AppData\\Local\\Programs\\Python\\Python310\\lib\\site-packages\\keras\\src\\models\\functional.py:225: UserWarning: The structure of `inputs` doesn't match the expected structure: ['keras_tensor', 'keras_tensor_5', 'keras_tensor_11', 'keras_tensor_17', 'keras_tensor_23']. Received: the structure of inputs=('*', '*', '*', '*', '*')\n",
      "  warnings.warn(\n"
     ]
    },
    {
     "name": "stdout",
     "output_type": "stream",
     "text": [
      "\u001b[1m821/821\u001b[0m \u001b[32m━━━━━━━━━━━━━━━━━━━━\u001b[0m\u001b[37m\u001b[0m \u001b[1m2s\u001b[0m 2ms/step\n"
     ]
    }
   ],
   "source": [
    "best_model_MyReSys = tuner_MyReSys.get_best_models()[0]\n",
    "y_pred_MyReSys = best_model_MyReSys.predict([np.array(x_Test_resys_num), \n",
    "              np.array(x_Test_resys_cate[group1_features]), np.array(x_Test_resys_cate[group2_features]),\n",
    "              np.array(x_Test_resys_cate[group3_features]), np.array(x_Test_resys_cate[group4_features])])"
   ]
  },
  {
   "cell_type": "code",
   "execution_count": 211,
   "id": "17a14dd7",
   "metadata": {},
   "outputs": [
    {
     "data": {
      "text/html": [
       "<div>\n",
       "<style scoped>\n",
       "    .dataframe tbody tr th:only-of-type {\n",
       "        vertical-align: middle;\n",
       "    }\n",
       "\n",
       "    .dataframe tbody tr th {\n",
       "        vertical-align: top;\n",
       "    }\n",
       "\n",
       "    .dataframe thead th {\n",
       "        text-align: right;\n",
       "    }\n",
       "</style>\n",
       "<table border=\"1\" class=\"dataframe\">\n",
       "  <thead>\n",
       "    <tr style=\"text-align: right;\">\n",
       "      <th></th>\n",
       "      <th>track_id</th>\n",
       "      <th>track_name</th>\n",
       "      <th>track_artist</th>\n",
       "      <th>track_popularity</th>\n",
       "      <th>track_album_id</th>\n",
       "      <th>track_album_name</th>\n",
       "      <th>track_album_release_date</th>\n",
       "      <th>playlist_name</th>\n",
       "      <th>playlist_id</th>\n",
       "      <th>playlist_genre</th>\n",
       "      <th>...</th>\n",
       "      <th>key</th>\n",
       "      <th>loudness</th>\n",
       "      <th>mode</th>\n",
       "      <th>speechiness</th>\n",
       "      <th>acousticness</th>\n",
       "      <th>instrumentalness</th>\n",
       "      <th>liveness</th>\n",
       "      <th>valence</th>\n",
       "      <th>tempo</th>\n",
       "      <th>duration_ms</th>\n",
       "    </tr>\n",
       "  </thead>\n",
       "  <tbody>\n",
       "    <tr>\n",
       "      <th>9949</th>\n",
       "      <td>0tgVpDi06FyKpA1z0VMD4v</td>\n",
       "      <td>Perfect</td>\n",
       "      <td>Ed Sheeran</td>\n",
       "      <td>86</td>\n",
       "      <td>3T4tUhGYeRNVUGevb0wThu</td>\n",
       "      <td>÷ (Deluxe)</td>\n",
       "      <td>2017-03-03</td>\n",
       "      <td>School Dance 2019 (Squeaky Clean)</td>\n",
       "      <td>0SqaMfNsngZCpPw0UuelA7</td>\n",
       "      <td>latin</td>\n",
       "      <td>...</td>\n",
       "      <td>8</td>\n",
       "      <td>-6.312</td>\n",
       "      <td>1</td>\n",
       "      <td>0.0232</td>\n",
       "      <td>0.1630</td>\n",
       "      <td>0.000000</td>\n",
       "      <td>0.1060</td>\n",
       "      <td>0.168</td>\n",
       "      <td>95.050</td>\n",
       "      <td>263400</td>\n",
       "    </tr>\n",
       "    <tr>\n",
       "      <th>19341</th>\n",
       "      <td>3SZqA7rQvROJsCbUu2v0xa</td>\n",
       "      <td>Go Loko</td>\n",
       "      <td>YG</td>\n",
       "      <td>78</td>\n",
       "      <td>1GZ1ugREGYIdS5isG2PIFD</td>\n",
       "      <td>Go Loko</td>\n",
       "      <td>2019-05-03</td>\n",
       "      <td>Chixtape 5 - Tory Lanez</td>\n",
       "      <td>0UXwwVDipbBQeEX7h4YuKU</td>\n",
       "      <td>r&amp;b</td>\n",
       "      <td>...</td>\n",
       "      <td>2</td>\n",
       "      <td>-5.188</td>\n",
       "      <td>1</td>\n",
       "      <td>0.0429</td>\n",
       "      <td>0.2990</td>\n",
       "      <td>0.000005</td>\n",
       "      <td>0.0677</td>\n",
       "      <td>0.142</td>\n",
       "      <td>100.995</td>\n",
       "      <td>299227</td>\n",
       "    </tr>\n",
       "    <tr>\n",
       "      <th>15412</th>\n",
       "      <td>4vUmTMuQqjdnvlZmAH61Qk</td>\n",
       "      <td>South of the Border (feat. Camila Cabello &amp; Ca...</td>\n",
       "      <td>Ed Sheeran</td>\n",
       "      <td>91</td>\n",
       "      <td>3oIFxDIo2fwuk4lwCmFZCx</td>\n",
       "      <td>No.6 Collaborations Project</td>\n",
       "      <td>2019-07-12</td>\n",
       "      <td>Charts 2020 🔥Top 2020🔥Hits 2020🔥Summer 2020🔥Po...</td>\n",
       "      <td>3xMQTDLOIGvj3lWH5e5x6F</td>\n",
       "      <td>edm</td>\n",
       "      <td>...</td>\n",
       "      <td>9</td>\n",
       "      <td>-6.376</td>\n",
       "      <td>0</td>\n",
       "      <td>0.0824</td>\n",
       "      <td>0.1480</td>\n",
       "      <td>0.000000</td>\n",
       "      <td>0.0865</td>\n",
       "      <td>0.668</td>\n",
       "      <td>97.986</td>\n",
       "      <td>204467</td>\n",
       "    </tr>\n",
       "    <tr>\n",
       "      <th>22205</th>\n",
       "      <td>4vUmTMuQqjdnvlZmAH61Qk</td>\n",
       "      <td>South of the Border (feat. Camila Cabello &amp; Ca...</td>\n",
       "      <td>Ed Sheeran</td>\n",
       "      <td>91</td>\n",
       "      <td>3oIFxDIo2fwuk4lwCmFZCx</td>\n",
       "      <td>No.6 Collaborations Project</td>\n",
       "      <td>2019-07-12</td>\n",
       "      <td>2020 Hits &amp; 2019  Hits – Top Global Tracks 🔥🔥🔥</td>\n",
       "      <td>4JkkvMpVl4lSioqQjeAL0q</td>\n",
       "      <td>latin</td>\n",
       "      <td>...</td>\n",
       "      <td>9</td>\n",
       "      <td>-6.376</td>\n",
       "      <td>0</td>\n",
       "      <td>0.0824</td>\n",
       "      <td>0.1480</td>\n",
       "      <td>0.000000</td>\n",
       "      <td>0.0865</td>\n",
       "      <td>0.668</td>\n",
       "      <td>97.986</td>\n",
       "      <td>204467</td>\n",
       "    </tr>\n",
       "    <tr>\n",
       "      <th>23851</th>\n",
       "      <td>3HW030T8eqPs8wpsgZqCGM</td>\n",
       "      <td>Q.U.E.E.N.</td>\n",
       "      <td>Janelle Monáe</td>\n",
       "      <td>54</td>\n",
       "      <td>3bnHtSmmsgJiG82hGCmsq9</td>\n",
       "      <td>The Electric Lady</td>\n",
       "      <td>2013-09-06</td>\n",
       "      <td>This Is Janelle Monáe</td>\n",
       "      <td>37i9dQZF1DWVT93EW7kPT9</td>\n",
       "      <td>pop</td>\n",
       "      <td>...</td>\n",
       "      <td>0</td>\n",
       "      <td>-8.139</td>\n",
       "      <td>1</td>\n",
       "      <td>0.0676</td>\n",
       "      <td>0.0114</td>\n",
       "      <td>0.000008</td>\n",
       "      <td>0.1230</td>\n",
       "      <td>0.161</td>\n",
       "      <td>106.028</td>\n",
       "      <td>310480</td>\n",
       "    </tr>\n",
       "  </tbody>\n",
       "</table>\n",
       "<p>5 rows × 23 columns</p>\n",
       "</div>"
      ],
      "text/plain": [
       "                     track_id  \\\n",
       "9949   0tgVpDi06FyKpA1z0VMD4v   \n",
       "19341  3SZqA7rQvROJsCbUu2v0xa   \n",
       "15412  4vUmTMuQqjdnvlZmAH61Qk   \n",
       "22205  4vUmTMuQqjdnvlZmAH61Qk   \n",
       "23851  3HW030T8eqPs8wpsgZqCGM   \n",
       "\n",
       "                                              track_name   track_artist  \\\n",
       "9949                                             Perfect     Ed Sheeran   \n",
       "19341                                            Go Loko             YG   \n",
       "15412  South of the Border (feat. Camila Cabello & Ca...     Ed Sheeran   \n",
       "22205  South of the Border (feat. Camila Cabello & Ca...     Ed Sheeran   \n",
       "23851                                         Q.U.E.E.N.  Janelle Monáe   \n",
       "\n",
       "       track_popularity          track_album_id             track_album_name  \\\n",
       "9949                 86  3T4tUhGYeRNVUGevb0wThu                   ÷ (Deluxe)   \n",
       "19341                78  1GZ1ugREGYIdS5isG2PIFD                      Go Loko   \n",
       "15412                91  3oIFxDIo2fwuk4lwCmFZCx  No.6 Collaborations Project   \n",
       "22205                91  3oIFxDIo2fwuk4lwCmFZCx  No.6 Collaborations Project   \n",
       "23851                54  3bnHtSmmsgJiG82hGCmsq9            The Electric Lady   \n",
       "\n",
       "      track_album_release_date  \\\n",
       "9949                2017-03-03   \n",
       "19341               2019-05-03   \n",
       "15412               2019-07-12   \n",
       "22205               2019-07-12   \n",
       "23851               2013-09-06   \n",
       "\n",
       "                                           playlist_name  \\\n",
       "9949                   School Dance 2019 (Squeaky Clean)   \n",
       "19341                            Chixtape 5 - Tory Lanez   \n",
       "15412  Charts 2020 🔥Top 2020🔥Hits 2020🔥Summer 2020🔥Po...   \n",
       "22205     2020 Hits & 2019  Hits – Top Global Tracks 🔥🔥🔥   \n",
       "23851                              This Is Janelle Monáe   \n",
       "\n",
       "                  playlist_id playlist_genre  ... key  loudness  mode  \\\n",
       "9949   0SqaMfNsngZCpPw0UuelA7          latin  ...   8    -6.312     1   \n",
       "19341  0UXwwVDipbBQeEX7h4YuKU            r&b  ...   2    -5.188     1   \n",
       "15412  3xMQTDLOIGvj3lWH5e5x6F            edm  ...   9    -6.376     0   \n",
       "22205  4JkkvMpVl4lSioqQjeAL0q          latin  ...   9    -6.376     0   \n",
       "23851  37i9dQZF1DWVT93EW7kPT9            pop  ...   0    -8.139     1   \n",
       "\n",
       "       speechiness  acousticness  instrumentalness  liveness  valence  \\\n",
       "9949        0.0232        0.1630          0.000000    0.1060    0.168   \n",
       "19341       0.0429        0.2990          0.000005    0.0677    0.142   \n",
       "15412       0.0824        0.1480          0.000000    0.0865    0.668   \n",
       "22205       0.0824        0.1480          0.000000    0.0865    0.668   \n",
       "23851       0.0676        0.0114          0.000008    0.1230    0.161   \n",
       "\n",
       "         tempo  duration_ms  \n",
       "9949    95.050       263400  \n",
       "19341  100.995       299227  \n",
       "15412   97.986       204467  \n",
       "22205   97.986       204467  \n",
       "23851  106.028       310480  \n",
       "\n",
       "[5 rows x 23 columns]"
      ]
     },
     "execution_count": 211,
     "metadata": {},
     "output_type": "execute_result"
    }
   ],
   "source": [
    "top_five = np.argsort(np.array(y_pred_MyReSys).reshape(-1))[-5:][::-1]\n",
    "top_songs = x_Test_resys.iloc[top_five]\n",
    "top_songs"
   ]
  },
  {
   "cell_type": "code",
   "execution_count": 213,
   "id": "19590447",
   "metadata": {},
   "outputs": [
    {
     "data": {
      "text/plain": [
       "15412      pop edm\n",
       "22205    latin pop\n",
       "Name: playlist_subgenre, dtype: object"
      ]
     },
     "execution_count": 213,
     "metadata": {},
     "output_type": "execute_result"
    }
   ],
   "source": [
    "top_songs[top_songs['track_id']=='4vUmTMuQqjdnvlZmAH61Qk']['playlist_subgenre']"
   ]
  },
  {
   "cell_type": "markdown",
   "id": "ffee2ec7",
   "metadata": {},
   "source": [
    "- After a few trials, this is the best model that I could build: \n",
    "    - As you can see, 3 of suggestions has the favorist artists name: ***Ed Sheeran***\n",
    "    - All of the genre are the same as that user has liked: ***edm, latin, pop***\n",
    "    - There are 2 songs has the same name as that user liked: one of them belongs to another ***playlist_name*** and the other has different ***playlist_subgenre***"
   ]
  },
  {
   "cell_type": "markdown",
   "id": "8b49992c",
   "metadata": {},
   "source": [
    "#### <center> 2.3. Conclusion\n"
   ]
  },
  {
   "cell_type": "markdown",
   "id": "0ea309c8",
   "metadata": {},
   "source": [
    "- Clearly, the Deep Learning Recommender System outperforms the Machine Learning Recommender System, as it can effectively extract all features from the data, especially when dealing with large amounts of data and intricate relationships between features.\n",
    "- Additionally, it can uncover and explain the relationships between features, with the latent space revealing the hidden characteristics of each song, it can help explain how items (like songs) relate to one another."
   ]
  }
 ],
 "metadata": {
  "kernelspec": {
   "display_name": "Python 3",
   "language": "python",
   "name": "python3"
  },
  "language_info": {
   "codemirror_mode": {
    "name": "ipython",
    "version": 3
   },
   "file_extension": ".py",
   "mimetype": "text/x-python",
   "name": "python",
   "nbconvert_exporter": "python",
   "pygments_lexer": "ipython3",
   "version": "3.10.0"
  }
 },
 "nbformat": 4,
 "nbformat_minor": 5
}
